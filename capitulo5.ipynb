{
 "cells": [
  {
   "cell_type": "markdown",
   "id": "55060ba9",
   "metadata": {},
   "source": [
    "# *Capitulo 5 - Distribuciones de probabilidad conjunta y muestras aleatorias*"
   ]
  },
  {
   "cell_type": "markdown",
   "id": "ece36a0a",
   "metadata": {},
   "source": [
    "## 5.1 Variables aleatorias conjuntamente distribuidas"
   ]
  },
  {
   "cell_type": "markdown",
   "id": "3262b7f9",
   "metadata": {},
   "source": [
    "### Dos variables aleatorias discretas"
   ]
  },
  {
   "cell_type": "markdown",
   "id": "b4627777",
   "metadata": {},
   "source": [
    "**Definicion:** Sean $X$ e $Y$ dos variables aleatorias discretas definidas en el espacio muestral $S$ de un experimento. La **funcion de masa de probabilidad conjunta** $p(x, y)$ se define para cada par de nuemros $(x,y)$ como"
   ]
  },
  {
   "cell_type": "markdown",
   "id": "35b516bd",
   "metadata": {},
   "source": [
    "\\begin{align*}\n",
    "    p(x, y) = P(X = x \\land Y = y)\n",
    "\\end{align*}"
   ]
  },
  {
   "cell_type": "markdown",
   "id": "e2271d91",
   "metadata": {},
   "source": [
    "Debe ser el caso que $p(x, y) \\ge 0$ y $\\sum_{x} \\sum_{y} p(x,y) = 1$"
   ]
  },
  {
   "cell_type": "markdown",
   "id": "365f4898",
   "metadata": {},
   "source": [
    "Ahora sea $A$ cualquier conjunto compuesto de pares de valores $(x, y)$ (e.g. $A = \\{(x, y): x + y = 5\\}$ o $\\{(x, y): max(x, y) \\le 3\\}$). Entonces la probabilidad $P[(X, Y) \\in A]$ se obtiene sumando la funcion de masa de probabilidad conjunta incluidos todos los pares en $A$:"
   ]
  },
  {
   "cell_type": "markdown",
   "id": "1464b8c8",
   "metadata": {},
   "source": [
    "\\begin{align*}\n",
    "    P[(X, Y) \\in A] = \\sum_{(x,y)} \\sum_{\\in A} p(x, y)\n",
    "\\end{align*}"
   ]
  },
  {
   "cell_type": "markdown",
   "id": "f3c26bf9",
   "metadata": {},
   "source": [
    "**Definicion:** La **funcion de masa de probabilidad marginal de $X$,** denotada por $p_{x}(x)$, esta dada por"
   ]
  },
  {
   "cell_type": "markdown",
   "id": "1fbbbf04",
   "metadata": {},
   "source": [
    "\\begin{align*}\n",
    "    p_{x}(x) = \\sum_{y:p(x, y)>0} p(x,y) && \\text{para cada valor posible $x$}\n",
    "\\end{align*}"
   ]
  },
  {
   "cell_type": "markdown",
   "id": "1f328e76",
   "metadata": {},
   "source": [
    "De manera similar, la **funcion de masa de probabilidad marginal de $Y$** es"
   ]
  },
  {
   "cell_type": "markdown",
   "id": "e3e7f4d2",
   "metadata": {},
   "source": [
    "\\begin{align*}\n",
    "    p_{y}(y) = \\sum_{x:p(x,y)>0} p(x,y) && \\text{para cada valor posible $y$}\n",
    "\\end{align*}"
   ]
  },
  {
   "cell_type": "markdown",
   "id": "52066978",
   "metadata": {},
   "source": [
    "### Dos variables aleatorias continuas"
   ]
  },
  {
   "cell_type": "markdown",
   "id": "ca34d193",
   "metadata": {},
   "source": [
    "**Definicion:** Sean $X$ e $Y$ variables aleatorias continuas. Una **funcion de densidad de probabilidad conjunta** $f(x, y)$ para estas dos variables es una funcion que satisface $f(x, y) \\ge 0$ y $\\int_{-\\infty}^{\\infty} \\int_{-\\infty}^{\\infty} f(x, y)\\ dy \\ dx = 1$. Entonces para cualquier conjunto $A$ en dos dimensiones"
   ]
  },
  {
   "cell_type": "markdown",
   "id": "5fa203ff",
   "metadata": {},
   "source": [
    "\\begin{align*}\n",
    "    P[(X, Y) \\in A] = \\int_{A} \\int f(x,y)\\ dx\\ dy\n",
    "\\end{align*}"
   ]
  },
  {
   "cell_type": "markdown",
   "id": "3bc092df",
   "metadata": {},
   "source": [
    "En particular, si $A$ es el rectangulo bidimensional $\\{(x, y): a \\le x \\le b, c \\le y \\le d\\}$, entonces"
   ]
  },
  {
   "cell_type": "markdown",
   "id": "d4a98d11",
   "metadata": {},
   "source": [
    "\\begin{align*}\n",
    "    P[(X,\\ Y) \\in A] = P(a \\le X \\le b,\\ c \\le Y \\le d) = \\int_{a}^{b} \\int_{c}^{d} f(x, y)\\ dy\\ dx\n",
    "\\end{align*}"
   ]
  },
  {
   "cell_type": "markdown",
   "id": "e187cd3f",
   "metadata": {},
   "source": [
    "---\n",
    "Se puede considerar que $f(x,\\ y)$ especifica una superficie situada a una altura $f(x,\\ y)$ encima del punto $(x,\\ y)$ en un sistema de coordenadas tridimensional. Entonces $P[(X,\\ Y) \\in A]$ es el volumen debajo de esta superficie y sobre la region $A$, similar al area bajo una curva en el caso de una sola variable aleatoria. Esto se ilustra en la siguiente figura..."
   ]
  },
  {
   "cell_type": "markdown",
   "id": "92f50dda",
   "metadata": {},
   "source": [
    "![image_1](resources/imgs_cap5/img_cap5_01.png)\n",
    "\n",
    "\\begin{align*}\n",
    "    P[(X,\\ Y) \\in A] = \\text{volumen bajo la superficie de densidad sobre $A$}\n",
    "\\end{align*}"
   ]
  },
  {
   "cell_type": "markdown",
   "id": "055fba2a",
   "metadata": {},
   "source": [
    "**Definicion:** Las **funciones de densidad de probabilidad marginal** de $X$ e $Y$, denotadas por $f_{x}(x)$ y $f_{y}(y)$, respectivamente, estan dadas por"
   ]
  },
  {
   "cell_type": "markdown",
   "id": "0acef024",
   "metadata": {},
   "source": [
    "\\begin{align*}\n",
    "    f_{x}(x) = \\int_{-\\infty}^{\\infty} f(x,\\ y)\\ dy && \\text{para -$\\infty < x < \\infty$}\n",
    "\\end{align*}\n",
    "$\\\\$\n",
    "\\begin{align*}\n",
    "    f_{y}(y) = \\int_{-\\infty}^{\\infty} f(x,\\ y)\\ dx && \\text{para -$\\infty < x < \\infty$}\n",
    "\\end{align*}"
   ]
  },
  {
   "cell_type": "markdown",
   "id": "23d4fd54",
   "metadata": {},
   "source": [
    "### Variables aleatorias independientes"
   ]
  },
  {
   "cell_type": "markdown",
   "id": "30896513",
   "metadata": {},
   "source": [
    "**Definicion:** Se dice que dos variables aleatorias $X$ e $Y$ son **independientes** si por cada par de valores $x$ e $y$"
   ]
  },
  {
   "cell_type": "markdown",
   "id": "08b565ad",
   "metadata": {},
   "source": [
    "\\begin{align}\n",
    "    p(x,\\ y) = p_{x}(x) \\cdot p_{y}(y) && \\text{cuando $X$ e $Y$ son discretas} \\\\\n",
    "    \\text{o} \\\\\n",
    "    f(x,\\ y) = f_{x}(x) \\cdot f_{y}(y) && \\text{cuando $X$ e $Y$ son continuas}\n",
    "\\end{align}"
   ]
  },
  {
   "cell_type": "markdown",
   "id": "8773912f",
   "metadata": {},
   "source": [
    "Si las ecuaciones anteriores no se satisface con todos los pares $(x,\\ y)$, entonces se dice que $X$ e $Y$ son **dependientes.**"
   ]
  },
  {
   "cell_type": "markdown",
   "id": "877fad20",
   "metadata": {},
   "source": [
    "### Mas de dos variables aleatorias"
   ]
  },
  {
   "cell_type": "markdown",
   "id": "c07b2e17",
   "metadata": {},
   "source": [
    "**Definicion:** Si $X_{1},\\ X_{2},...,X_{n}$ son variables aleatorias discretas, la funcion de masa de probabilidad conjunta de las variables es la funcion"
   ]
  },
  {
   "cell_type": "markdown",
   "id": "e5d7e2b2",
   "metadata": {},
   "source": [
    "\\begin{align*}\n",
    "    p(x_{1},\\ x_{2},...,x_{n}) = P(X_{1},\\ X_{2},...,X_{n} = x_{n})\n",
    "\\end{align*}"
   ]
  },
  {
   "cell_type": "markdown",
   "id": "5b670c37",
   "metadata": {},
   "source": [
    "Si las variables son continuas, la funcion de densidad de probabilidad conjunta $X_{1},\\ldots,X_{n}$ es la funcion $f(x_{1},\\ x_{2},\\ldots,x_{n})$ tal que para $n$ intervalos cualesquiera $[a_{1},\\ b_{1}],\\ldots,[a_{n},\\ b_{n}]$,"
   ]
  },
  {
   "cell_type": "markdown",
   "id": "d02d6523",
   "metadata": {},
   "source": [
    "\\begin{align*}\n",
    "    P(a_{1} \\le X_{1} \\le b_{1},\\ldots,\\ a_{n} \\le X_{n} \\le b_{n}) = \\int_{a_{1}}^{b_{1}} \\ldots \\int_{a_{n}}^{b_{n}} f(x_{1}, \\ldots, x_{n})\\ dx_{n} \\ldots dx_{1}\n",
    "\\end{align*}"
   ]
  },
  {
   "cell_type": "markdown",
   "id": "642d533b",
   "metadata": {},
   "source": [
    "**Definicion:** Se dice que las variables aleatorias $X_{1},\\ X_{2}, \\ldots, X_{n}$ son **independientes** si para cada subconjunto $X_{i_{1}},\\ X_{i_{2}}, \\ldots, X_{i_{k}}$ de las variables (cada par, cada terna, y asi sucesivamente), la funcion de masa de probabilidad conjunta o la funcion de densidad de probabilidad conjunta del subconjunto es igual al producto de las funciones de masa de probabilidad o las funciones de densidad de probabilidad marginales."
   ]
  },
  {
   "cell_type": "markdown",
   "id": "ba86194e",
   "metadata": {},
   "source": [
    "### Distribuciones condicionales"
   ]
  },
  {
   "cell_type": "markdown",
   "id": "30002af0",
   "metadata": {},
   "source": [
    "**Definicion:** Sean $X$ e $Y$ dos variables aleatorias continuas con funcion de densidad de probabilidad conjunta $f(x,\\ y)$ y funcion de densidad de probabilidad marginal $X,\\ f_{x}(x)$. Entonces para cualquier valor $x$ de $X$ para el cual $f_{x}(x) > 0$, la **funcion de densidad de probabilidad condicional de $Y$ dado que $X = x$** es"
   ]
  },
  {
   "cell_type": "markdown",
   "id": "dc7b9b44",
   "metadata": {},
   "source": [
    "\\begin{align*}\n",
    "    f_{Y|X}(y|x) = \\frac{f(x,\\ y)}{f_{x}(x)} && -\\infty < y < \\infty\n",
    "\\end{align*}"
   ]
  },
  {
   "cell_type": "markdown",
   "id": "100be448",
   "metadata": {},
   "source": [
    "Si $X$ e $Y$ son discretas, al reemplazar las funciones de densidad de probabilidad por funciones de masa de probabilidad en esta definicion se obtiene la **funcion de masa de probabilidad condicional $Y$ cuando $X = x.$**"
   ]
  },
  {
   "cell_type": "markdown",
   "id": "16821804",
   "metadata": {},
   "source": [
    "## 5.2 Valores esperados, covarianza y correlacion"
   ]
  },
  {
   "cell_type": "markdown",
   "id": "0155ec8e",
   "metadata": {},
   "source": [
    "**Proposicion:** Sean $X$ e $Y$ variables aleatorias conjuntamente distribuidas con funcion de masa de probabilidad $p(x,\\ y)$ o funcion de densidad de probabilidad $f(x,\\ y)$ ya sea que las variables sean discretas o continuas. Entonces el valor esperado de una funcion $h(X,\\ Y)$ denotada por $E[h(X,\\ Y)]$ o $\\mu_{h(X,\\ Y)}$ esta dada por"
   ]
  },
  {
   "cell_type": "markdown",
   "id": "fc65dfba",
   "metadata": {},
   "source": [
    "\\begin{equation}\n",
    "  E[h(X,\\ Y)] =\n",
    "    \\begin{cases}\n",
    "      \\sum_{x} \\sum_{y} h(x,\\ y) \\cdot p(x,\\ y) & \\text{si $X$ e $Y$ son discretas} \\\\\n",
    "      \\int_{-\\infty}^{\\infty} \\int_{-\\infty}^{\\infty} h(x,\\ y) \\cdot f(x,\\ y)\\ dx\\ dy & \\text{si $X$ e $Y$ son continuas}\n",
    "    \\end{cases}       \n",
    "\\end{equation}"
   ]
  },
  {
   "cell_type": "markdown",
   "id": "7934fa3a",
   "metadata": {},
   "source": [
    "El metodo de calcular el valor esperado de una funcion $h(X_{1},\\ldots,X_{n})$ de $n$ variables aleatorias es similar al de dos variables aleatorias. Si las X_{i} son discretas, $E[h(X_{1},\\ldots,X_{n})]$ es una suma de $n$ dimensiones; si las $X_{i}$ son continuas, es una integral de $n$ dimensiones."
   ]
  },
  {
   "cell_type": "markdown",
   "id": "bf97aa67",
   "metadata": {},
   "source": [
    "### Covarianza"
   ]
  },
  {
   "cell_type": "markdown",
   "id": "2eb53689",
   "metadata": {},
   "source": [
    "**Definicion:** La **covarianza** entre dos variables aleatorias $X$ e $Y$ es"
   ]
  },
  {
   "cell_type": "markdown",
   "id": "bebdbf3a",
   "metadata": {},
   "source": [
    "\\begin{align*}\n",
    " Cov(X,\\ Y) &= E[(X - \\mu_{X})(Y-\\mu_{Y})] \\\\\n",
    "      &= \\begin{cases}\n",
    "          \\sum_{x} \\sum_{y} (x-\\mu_{X})(y-\\mu_{Y}) p(x,\\ y) & \\text{$X,\\ Y$ discretas} \\\\\n",
    "          \\int_{-\\infty}^{\\infty} \\int_{-\\infty}^{\\infty} (x-\\mu_{X}) (y-\\mu_{Y}) f(x,\\ y)\\ dx\\ dy & \\text{$X,\\ Y$ continuas}\n",
    "          \\end{cases}\n",
    "\\end{align*}"
   ]
  },
  {
   "cell_type": "markdown",
   "id": "0af536c9",
   "metadata": {},
   "source": [
    "**Proposicion:** $$Cov(X,\\ Y) = E(XY) - \\mu_{X} \\cdot \\mu_{Y}$$"
   ]
  },
  {
   "cell_type": "markdown",
   "id": "cc6f484e",
   "metadata": {},
   "source": [
    "### Correlacion"
   ]
  },
  {
   "cell_type": "markdown",
   "id": "2d55ac90",
   "metadata": {},
   "source": [
    "**Definicion:** El **coeficiente de correlacion** de $X$ e $Y$, denotado por $Corr(X,\\ Y)$, $\\rho_{X,Y}$, o simplemente $\\rho$, esta definido por"
   ]
  },
  {
   "cell_type": "markdown",
   "id": "b5e4ca81",
   "metadata": {},
   "source": [
    "\\begin{align*}\n",
    "    \\rho_{X,Y} = \\frac{Cov(X,\\ Y)}{\\sigma_{X} \\cdot \\sigma_{Y}}\n",
    "\\end{align*}"
   ]
  },
  {
   "cell_type": "markdown",
   "id": "15201a70",
   "metadata": {},
   "source": [
    "**Proposicion:**\n",
    "1. Si $a$ y $c$ son ambas positivas o ambas negativas, $$Corr(aX + b, cY + d) = Corr(X,\\ Y)$$\n",
    "2. Para dos variables aleatorias $X$ e $Y$ cualesquiera, $-1 \\le Corr(X,\\ Y) \\le 1.$"
   ]
  },
  {
   "cell_type": "markdown",
   "id": "077d6992",
   "metadata": {},
   "source": [
    "**Proposicion:**\n",
    "1. Si $X$ e $Y$ son independientes, entonces $\\rho = 0$, pero $\\rho = 0$ implica independencia.\n",
    "2. $\\rho = 1$ o $-1$ si y solo si $Y = aX + b$ con algunos numeros $a$ y $b$ con $a \\neq 0$."
   ]
  },
  {
   "cell_type": "markdown",
   "id": "b128aad0",
   "metadata": {},
   "source": [
    "## 5.3 Estadisticos y sus distribucioenes"
   ]
  },
  {
   "cell_type": "markdown",
   "id": "36e4ed8e",
   "metadata": {},
   "source": [
    "**Definicion:** Un **estadistico** es cualquier cantidad cuyo valor puede ser calculado a partir de datos muestrales. Antes de obtener los datos, existe incertidumbre sobre que valor de cualquier estadistico particular resultara. Por consiguiente, un estadistico es una variable aleatoria y sera denotado por una letra mayuscula; para representar el valor calculado u observado del estadistico se utiliza una letra minuscula."
   ]
  },
  {
   "cell_type": "markdown",
   "id": "bb1082be",
   "metadata": {},
   "source": [
    "### Muestras aleatorias"
   ]
  },
  {
   "cell_type": "markdown",
   "id": "afb9288f",
   "metadata": {},
   "source": [
    "**Definicion:** Se dice que las variables aleatorias $X_{1},\\ X_{2},\\ldots,X_{n}$ forman una **muestra aleatoria** (simple) de tamano $n$ si\n",
    "1. Las $X_{i}$ son variables aleatorias independientes.\n",
    "2. Cada $X_{i}$ tiene la misma distribucion de probabilidad."
   ]
  },
  {
   "cell_type": "markdown",
   "id": "e9bb5956",
   "metadata": {},
   "source": [
    "### Deduccion de una distribucion de muestreo"
   ]
  }
 ],
 "metadata": {
  "kernelspec": {
   "display_name": "Python 3 (ipykernel)",
   "language": "python",
   "name": "python3"
  },
  "language_info": {
   "codemirror_mode": {
    "name": "ipython",
    "version": 3
   },
   "file_extension": ".py",
   "mimetype": "text/x-python",
   "name": "python",
   "nbconvert_exporter": "python",
   "pygments_lexer": "ipython3",
   "version": "3.9.7"
  }
 },
 "nbformat": 4,
 "nbformat_minor": 5
}
