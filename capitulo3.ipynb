{
 "cells": [
  {
   "cell_type": "markdown",
   "id": "6b7871af",
   "metadata": {},
   "source": [
    "# *Capitulo 3 - Variables aleatorias discretas y distribuciones de probabilidad*"
   ]
  },
  {
   "cell_type": "markdown",
   "id": "384f36f4",
   "metadata": {},
   "source": [
    "## 3.1 Variables aleatorias"
   ]
  },
  {
   "cell_type": "markdown",
   "id": "184a2519",
   "metadata": {},
   "source": [
    "**Definicion:** Para un espacio muestral $S$ de algun experimento, una **variable aleatoria** es cualquier regla que asocia un numero con cada resultado en $S$. En lenguaje matematico, una variable aleatoria es una funcion cuyo dominio es el espacio muestral y cuyo rango es el conjunto de los numeros reales."
   ]
  },
  {
   "cell_type": "markdown",
   "id": "2e5dab0a",
   "metadata": {},
   "source": [
    "![Image 1](resources/imgs_cap3/img_cap3_01.png)\n",
    "\n",
    "$$\\text{Una variable aleatoria}$$"
   ]
  },
  {
   "cell_type": "markdown",
   "id": "8001166c",
   "metadata": {},
   "source": [
    "**Definicion:** Cualquier variable aleatoria cuyos unicos valores posibles son 0 y 1 se llama **variable aleatoria de Bernoulli.**"
   ]
  },
  {
   "cell_type": "markdown",
   "id": "63d2ed17",
   "metadata": {},
   "source": [
    "### Dos tipos de variables aleatorias"
   ]
  },
  {
   "cell_type": "markdown",
   "id": "d9b91b12",
   "metadata": {},
   "source": [
    "**Definicion:** Una variable aleatoria **discreta** es una variable aleatoria cuyos valores posibles constituyen un conjunto finito o bien pueden ser puestos en lista en una secuencia infinita en la cual existe un primer elemento, un segundo elemento, y asi sucesivamente (\"contablemente\" infinita).  \n",
    "Una variable aleatoria es **continua** si *ambas* de las siguientes condiciones se cumplen:  \n",
    "1. Su conjunto de valores posibles se compone de todos los numeros que hay en un solo intervalo sobre la linea de numeracion (posiblemente de extension infinita, es decir, desde $-\\infty$ hasta $\\infty$) o todos los numeros en una union disjunta de dichos intervalos (por ejemplo, $[0, 10] \\cup [20, 30]$).\n",
    "2. Ningun valor posible de la variable tiene probabilidad positiva, esto es, $P(X = c) = 0$ con cualquier valor posible de $c$."
   ]
  },
  {
   "cell_type": "markdown",
   "id": "107c9177",
   "metadata": {},
   "source": [
    "## 3.2 Distribuciones de probabilidad para variables aleatorias discretas"
   ]
  },
  {
   "cell_type": "markdown",
   "id": "3de750f5",
   "metadata": {},
   "source": [
    "**Definicion:** La **distribucion de probabilidad** o **funcion de masa de probabilidad** (fmp) de una variable discreta se define para cada numero $x$ como $p(x) = P(X = x) = P$ (todas las $s \\in S:X(s) = x$)."
   ]
  },
  {
   "cell_type": "markdown",
   "id": "b5642778",
   "metadata": {},
   "source": [
    "### Parametro de una distribucion de probabilidad"
   ]
  },
  {
   "cell_type": "markdown",
   "id": "4318bea1",
   "metadata": {},
   "source": [
    "**Definicion:** Supongase que $p(x)$ depende de la cantidad que puede ser asignada a cualquiera de un numero de valores posibles, y cada valor determina una distribucion de probabilidad diferente. Tal cantidad se llama **parametro** de distribucion. El conjunto de todas las distribuciones de probabilidad para diferentes valores del parametro se llama **familia** de distribuciones de probabilidad."
   ]
  },
  {
   "cell_type": "markdown",
   "id": "9a5090b8",
   "metadata": {},
   "source": [
    "### Funcion de distribucion acumulativa"
   ]
  },
  {
   "cell_type": "markdown",
   "id": "5c68a705",
   "metadata": {},
   "source": [
    "**Defininicion:** La **funcion de distribucion acumulativa** (fda) $F(x)$ de una variable aleatoria discreta $X$ con funcion de masa de probabilidad $p(x)$ se define para cada numero $x$ como  \n",
    "\n",
    "$$F(x) = P(X \\le x) = \\sum_{y:y \\le x}p(y)$$\n",
    "\n",
    "Para cualquier numero $x, F(x)$ es la probabilidad de que el valor observado de $X$ sera cuando mucho $x$."
   ]
  },
  {
   "cell_type": "markdown",
   "id": "2065fef1",
   "metadata": {},
   "source": [
    "Sea\n",
    "\n",
    "\\begin{equation}\n",
    "    F(y) =\n",
    "    \\begin{cases}\n",
    "        0 & y < 1 \\\\\n",
    "        .05 & 1 \\le y < 2 \\\\\n",
    "        .15 & 2 \\le y < 4 \\\\\n",
    "        .50 & 4 \\le y < 8 \\\\\n",
    "        .90 & 8 \\le y < 16 \\\\\n",
    "        1 & 16 \\le y\n",
    "    \\end{cases}\n",
    "\\end{equation}\n",
    "\n",
    "La siguiente figura muestra una grafica de esta fda."
   ]
  },
  {
   "cell_type": "markdown",
   "id": "c0336684",
   "metadata": {},
   "source": [
    "![Image 2](resources/imgs_cap3/img_cap3_02.png)\n",
    "$$\\text{Grafica de la funcion de distribucion acumulativa.}$$"
   ]
  },
  {
   "cell_type": "markdown",
   "id": "93b8bc5f",
   "metadata": {},
   "source": [
    "**Proposicion:** Para dos numeros cualesquiera $a$ y $b$ con $a \\le b$,\n",
    "$$P(a \\le X \\le b) = F(b) - F(a-)$$\n",
    "donde \"a-\" representa el valor posible de $X$ mas grande que es estrictamente menor que $a$. En particular, si los unicos valores posibles son enteros, y si $a$ y $b$ son enteros, entonces  \n",
    "\n",
    "\\begin{align*}\n",
    "    P(a \\le X \\le b) &= P(X = a\\ o\\ a + 1\\ o \\ldots o\\ b) \\\\\n",
    "    &= F(b) - F(a-1)\n",
    "\\end{align*}  \n",
    "\n",
    "Con $a = b$ se obtiene $P(X = a) = F(a) - F(a - 1)$ en este caso."
   ]
  },
  {
   "cell_type": "markdown",
   "id": "2d9af9d1",
   "metadata": {},
   "source": [
    "## 3.3 Valores esperados"
   ]
  },
  {
   "cell_type": "markdown",
   "id": "55a240fa",
   "metadata": {},
   "source": [
    "### Valor esperado de $X$"
   ]
  },
  {
   "cell_type": "markdown",
   "id": "f90d6d74",
   "metadata": {},
   "source": [
    "**Definicion:** Sea $X$ una variable aleatoria discreta con un conjunto de valores posibles $D$ y una funcion de masa de probabilidad $p(x)$. El **valor esperado** o **valor medio** de $X$, denotado por $E(X)$ o $\\mu_{X}$ o solo $\\mu$, es\n",
    "\n",
    "$$E(X) = \\mu_{X} = \\sum_{x \\in D} x \\cdot p(x)$$"
   ]
  },
  {
   "cell_type": "markdown",
   "id": "22cc0ded",
   "metadata": {},
   "source": [
    "### Valor esperado de una funcion"
   ]
  },
  {
   "cell_type": "markdown",
   "id": "74c75346",
   "metadata": {},
   "source": [
    "A menudo interesara poner atencion al valor esperado de alguna funcion $h(X)$ en lugar de solo en $E(X)$."
   ]
  },
  {
   "cell_type": "markdown",
   "id": "8df27240",
   "metadata": {},
   "source": [
    "**Proposicion:** Si la variable aleatoria $X$ tiene un conjunta de posibles valores $D$ y una funcion de masa de probabilidad $p(x)$, entonces el valor esperado de cualquier funcion $h(X)$, denotada por $E[h(X)]$ o $\\mu_{h(X)}$, se calcula con\n",
    "\n",
    "$$E[h(X)] = \\sum_{D} h(x) \\cdot p(x)$$"
   ]
  },
  {
   "cell_type": "markdown",
   "id": "6c11c0fa",
   "metadata": {},
   "source": [
    "### Reglas de valor esperado"
   ]
  },
  {
   "cell_type": "markdown",
   "id": "c6f02710",
   "metadata": {},
   "source": [
    "**Proposicion:**  \n",
    "\n",
    "$$E(aX + b) = a \\cdot E(X) + b$$\n",
    "\n",
    "(O, con notacion alternativa, $\\mu_{aX+b} = a \\cdot \\mu_X + b$)"
   ]
  },
  {
   "cell_type": "markdown",
   "id": "9e45d242",
   "metadata": {},
   "source": [
    "---\n",
    "Dos casos especiales de proposicion producen dos reglas importantes de valor esperado.  \n",
    "1. Con cualquier constante $a, E(aX) = a \\cdot E(X)$ (considerese $b = 0$).\n",
    "2. Con cualquier constante $b, E(X + b) = E(X) + b$ (considerese $a = 1$)."
   ]
  },
  {
   "cell_type": "markdown",
   "id": "658134a4",
   "metadata": {},
   "source": [
    "### Varianza de $X$"
   ]
  },
  {
   "cell_type": "markdown",
   "id": "a5c1625a",
   "metadata": {},
   "source": [
    "![Image 3](resources/imgs_cap3/img_cap3_03.png)\n",
    "\n",
    "$$\\text{Dos diferentes distribuciones de probabilidad con $\\mu = 4$}$$\n",
    "\n",
    "Aunque ambas distribuciones ilustradas en la figura tienen el mismo centro $\\mu$, la distribucion de la figura de la derecha tiene una mayor dispersion o variabilidad que la figura de la izquierda. Se utilizara la varianza de $X$ para evaluar la cantidad de variabilidad en (la distribucion de) $X$, del mismo modo que se utilizo $s^{2}$ en el capitulo 1 para medir la variablidad en una muestra."
   ]
  },
  {
   "cell_type": "markdown",
   "id": "d7e5de8a",
   "metadata": {},
   "source": [
    "**Definicion:** Sea $p(x)$ la funcion de masa de probabilidad de $X$ y $\\mu$ su valor esperado. En ese caso la **varianza** de $X$, denotada por $V(X)$ o $\\sigma_{X}^{2}$, o simplemente $\\sigma^{2}$, es\n",
    "\n",
    "$$ V(X) = \\sum_{D} (x - \\mu)^{2} \\cdot p(x) = E[(X - \\mu)^{2}]$$\n",
    "\n",
    "La **desviacion estandar** (DE) de $X$ es\n",
    "$$ \\sigma_{X} = \\sqrt{\\sigma_{x}^{2}}$$"
   ]
  },
  {
   "cell_type": "markdown",
   "id": "327fb3b8",
   "metadata": {},
   "source": [
    "### Formula abreviada para $\\sigma^{2}$"
   ]
  },
  {
   "cell_type": "markdown",
   "id": "17bfe888",
   "metadata": {},
   "source": [
    "**Proposicion:**\n",
    "$$ V(X) = \\sigma^{2} = \\left[\\sum_{D} x^{2} \\cdot p(x)\\right] - \\mu^{2} = E(X^{2}) - [E(X)]^{2} $$"
   ]
  },
  {
   "cell_type": "markdown",
   "id": "eb7ff727",
   "metadata": {},
   "source": [
    "**Demostracion:** Desarrollandose $(x - \\mu)^{2}$ en la definicion de $\\sigma^{2}$ para obtener $x^{2} - 2 \\mu x + \\mu^{2}$, y luego lleve $\\sum$ a cada uno de los tres terminos:\n",
    "\n",
    "\\begin{align*}\n",
    "    \\sigma^{2} &= \\sum_{D} x^{2} \\cdot p(x) - 2 \\mu \\cdot \\sum_{D}x \\cdot p(x) + \\mu^{2} \\sum_{D} p(x) \\\\\n",
    "    &= E(X^{2}) - 2 \\mu \\cdot \\mu + \\mu^{2} = E(X^{2}) - \\mu^{2}\n",
    "\\end{align*}"
   ]
  },
  {
   "cell_type": "markdown",
   "id": "f42cced5",
   "metadata": {},
   "source": [
    "### Reglas de varianza"
   ]
  },
  {
   "cell_type": "markdown",
   "id": "7c6f8ba1",
   "metadata": {},
   "source": [
    "**Proposicion:**\n",
    "$$ V(aX + b) = \\sigma_{aX+b}^{2} = a^{2} \\cdot \\sigma_{X}^{2}\\ \\ \\text{y}\\ \\ \\sigma_{aX+b} = |a| \\cdot \\sigma_{X}$$\n",
    "\n",
    "En particular,\n",
    "$$ \\sigma_{aX} = |a| \\cdot \\sigma_{X},\\ \\sigma_{X+b} = \\sigma_{X}$$"
   ]
  },
  {
   "cell_type": "markdown",
   "id": "e1bc9b2e",
   "metadata": {},
   "source": [
    "## 3.4 Distribucion de probabilidad binomial"
   ]
  },
  {
   "cell_type": "markdown",
   "id": "3a0d9344",
   "metadata": {},
   "source": [
    "Existen muchos experimentos que se ajustan exacta o aproximadamente a a la siguiente lista de requerimientos.  \n",
    "\n",
    "1. El experimento consta de una secuencia de $n$ experimentos mas pequenos llamados *ensayos*, donde $n$ se fija antes del experimento.\n",
    "2. Cada ensayo puede dar por resultado uno de los mismos dos resultados posibles (ensayos dicotomicas), los cuales se denotan como exito (S) y falla (F).\n",
    "3. Los ensayos son independientes, de modo que el resultado en cualquier ensayo particular no influye en el resultado de cualquier otro ensayo.\n",
    "4. La probabilidad de exito $P(S)$ es constante de un ensayo a otro; esta probabilidad se denota por $p$."
   ]
  },
  {
   "cell_type": "markdown",
   "id": "1495ef4a",
   "metadata": {},
   "source": [
    "**Definicion:** Un experimento para el que se satisfacen las condiciones 1-4 se llama **experimento binomial.**"
   ]
  },
  {
   "cell_type": "markdown",
   "id": "1848b63c",
   "metadata": {},
   "source": [
    "---\n",
    "Se utilizara la siguiente regla empirica para decidir si un experimento \"sin reemplazo\" puede ser tratado como un experimento binomial.  \n",
    "\n",
    "**Regla:** Considerese muestreo sin reemplazo de una poblacion dicotomica de tamano $N$. Si el tamano de la muestra (numero de ensayos) $n$ es cuando mucho 5% del tamano de la poblacion, el experimento puede ser analizado como si fuera exactamente un experimento binomial."
   ]
  },
  {
   "cell_type": "markdown",
   "id": "0981637e",
   "metadata": {},
   "source": [
    "### Variable y distribucion aleatoria binomial"
   ]
  },
  {
   "cell_type": "markdown",
   "id": "d06a25e2",
   "metadata": {},
   "source": [
    "**Definicion:** La **variable aleatoria binomial $X$** asociada con un experimento binomial que consiste en $n$ ensayos se define como  \n",
    "\n",
    "$$X = \\text{el numero de los S entre los n ensayos}$$"
   ]
  },
  {
   "cell_type": "markdown",
   "id": "6d08f522",
   "metadata": {},
   "source": [
    "**Notacion:** Como la funcion de masa de probabilidad de una variable aleatoria binomial $X$ depende de los dos parametros $n$ y $p$, la funcion de masa de probabilidad se denota por $b(x;\\ n,\\ p)$."
   ]
  },
  {
   "cell_type": "markdown",
   "id": "389c9316",
   "metadata": {},
   "source": [
    "**Teorema:**  \n",
    "\n",
    "\\begin{align*}\n",
    "    b(x;\\ n,\\ p) =\n",
    "    \\begin{cases}\n",
    "        {n \\choose x} p^{x}(1 - p)^{n-x} & x = 0,\\ 1,\\ 2,\\ldots,\\ n \\\\\n",
    "        0 & \\text{de lo contrario}\n",
    "    \\end{cases}\n",
    "\\end{align*}"
   ]
  },
  {
   "cell_type": "markdown",
   "id": "bc8f3da9",
   "metadata": {},
   "source": [
    "### La media y varianza de $X$"
   ]
  },
  {
   "cell_type": "markdown",
   "id": "c0218c14",
   "metadata": {},
   "source": [
    "**Proposicion:** Si $X \\sim Bin(n,\\ p)$, entonces\n",
    "\n",
    "$$E(X) = np, V(X) = np(1 - p) = npq$$\n",
    "y\n",
    "$$\\sigma_{X} = \\sqrt{npq}\\ \\ \\text{(donde $q = 1 - p$).}$$"
   ]
  }
 ],
 "metadata": {
  "kernelspec": {
   "display_name": "Python 3 (ipykernel)",
   "language": "python",
   "name": "python3"
  },
  "language_info": {
   "codemirror_mode": {
    "name": "ipython",
    "version": 3
   },
   "file_extension": ".py",
   "mimetype": "text/x-python",
   "name": "python",
   "nbconvert_exporter": "python",
   "pygments_lexer": "ipython3",
   "version": "3.9.7"
  }
 },
 "nbformat": 4,
 "nbformat_minor": 5
}
