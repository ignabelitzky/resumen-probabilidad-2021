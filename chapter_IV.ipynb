{
 "cells": [
  {
   "cell_type": "markdown",
   "id": "e3734c06",
   "metadata": {},
   "source": [
    "# Variables aleatorias continuas"
   ]
  },
  {
   "cell_type": "markdown",
   "id": "58c5cca5",
   "metadata": {},
   "source": [
    "En la vida diaria nos encontramos con variables que no son discretas, como por ejemplo: la cantidad diaria de lluvia caida en cierta región, el tiempo de vida de cierto tipo de componentes electrónicos, la profundidad en un lago para puntos aleatoriamente elegidos, etc."
   ]
  },
  {
   "cell_type": "markdown",
   "id": "c04e2422",
   "metadata": {},
   "source": [
    "En todos estos ejemplos los valores posibles no es un conjunto finito ni infinito numerables, son intervalos o semirectas."
   ]
  },
  {
   "cell_type": "markdown",
   "id": "d66921fb",
   "metadata": {},
   "source": [
    "### Definición:"
   ]
  },
  {
   "cell_type": "markdown",
   "id": "33e73324",
   "metadata": {},
   "source": [
    "Sea *X* una variable aleatoria sobre un modelo probabilístico $(S, A, P)$, se dice que *X* es una **variable aleatoria continua** si"
   ]
  },
  {
   "cell_type": "markdown",
   "id": "9560f2b9",
   "metadata": {},
   "source": [
    "\\begin{align}\n",
    "    P(X = x) &= 0 & \\forall x \\in \\mathbb{R}\n",
    "\\end{align}"
   ]
  },
  {
   "cell_type": "markdown",
   "id": "b4fd81ea",
   "metadata": {},
   "source": [
    "Sea *X* una variable aleatoria sobre un modelo probabilístico $(S, A, P)$ recordemos la definición de función de distribución acumulada (f.d.a.) de una variable aleatoria *X* es:"
   ]
  },
  {
   "cell_type": "markdown",
   "id": "d4f700ea",
   "metadata": {},
   "source": [
    "\\begin{align}\n",
    "    F(x) &= P(X \\le x) & \\forall x \\in \\mathbb{R}\n",
    "\\end{align}"
   ]
  },
  {
   "cell_type": "markdown",
   "id": "c8215374",
   "metadata": {},
   "source": [
    "Entonces de la definición de una variable aleatoria continua resulta que:\n",
    "1.  \n",
    "\n",
    "\\begin{align}\n",
    "    P(a < X \\le b) &= P(a \\le X \\le b) \\\\\n",
    "    &= P(a \\le X < b) \\\\\n",
    "    &= P(a < X < b) \\\\\n",
    "    &= F(b) - F(a)\n",
    "\\end{align}\n",
    "$$\\forall a < b \\text{ números reales.}$$  \n",
    "\n",
    "2.  \n",
    "$$P(X \\ge a) = P(X > a) = 1 - F(a)\\ \\ \\forall a \\in \\mathbb{R}$$"
   ]
  },
  {
   "cell_type": "markdown",
   "id": "954fce7b",
   "metadata": {},
   "source": [
    "**Observación:** Algunas de estas igualdades podrían no ser verdaderas si la variable aleatoria es discreta!!!"
   ]
  },
  {
   "cell_type": "markdown",
   "id": "442d70b4",
   "metadata": {},
   "source": [
    "Daremos una proposición que será muy útil para probar las propiedades de la f.d.a. (F)."
   ]
  },
  {
   "cell_type": "markdown",
   "id": "7f8c4079",
   "metadata": {},
   "source": [
    "### Proposición:"
   ]
  },
  {
   "cell_type": "markdown",
   "id": "9d0a9c35",
   "metadata": {},
   "source": [
    "Sea $(S, A, P)$ un modelo probabilístico entonces  \n",
    "**a)**  \n",
    "Si $A_{1} \\subseteq A_{2} \\subseteq A_{3} \\subseteq \\cdots$ es una sucesión de eventos encajados entonces\n",
    "$$ P(\\cup_{i=1}^{\\infty} A_{i}) = \\lim\\limits_{n \\to \\infty} P(A_{n}). $$  \n",
    "**b)**  \n",
    "Si $B_{1} \\supseteq B_{2} \\supseteq B_{3} \\supseteq \\cdots$ es una sucesión de eventos encajados entonces  \n",
    "$$ P(\\cap_{i=1}^{\\infty} B_{i}) = \\lim\\limits_{n \\to \\infty} P(B_{n}). $$"
   ]
  },
  {
   "cell_type": "markdown",
   "id": "01bdfbc1",
   "metadata": {},
   "source": [
    "## Propiedades de la f.d.a. (*F*) de una variable aleatoria."
   ]
  },
  {
   "cell_type": "markdown",
   "id": "9301e6de",
   "metadata": {},
   "source": [
    "Si $(S, A, P)$ un modelo probabilístico y *X* una variable aleatoria con f.d.a. *F*, entonces  \n",
    "\n",
    "**a)** F es monotona creciente, o sea si $x_{1} \\le x_{2} \\Rightarrow F(x_{1}) \\le F(x_{2}).$  \n",
    "\n",
    "**b)** $\\lim\\limits_{x \\to \\infty} F(x) = 1$ y $\\lim\\limits_{x \\to -\\infty} F(x) = 0.$  \n",
    "\n",
    "**c)** $\\forall \\ a \\in \\mathbb{R}$ entonces $\\lim\\limits_{x \\to a^{+}} F(x) = F(a)$  \n",
    "\n",
    "**d)** Si *X* es una variable aleatoria continua entonces  \n",
    "$$\\lim\\limits_{x \\to a^{-}} F(x) = \\lim\\limits_{x \\to a^{+}} F(x) = F(a)\\ \\ \\ \\forall a \\in \\mathbb{R}$$  \n",
    "Luego F es continua en $\\mathbb{R}$"
   ]
  },
  {
   "cell_type": "markdown",
   "id": "17cd727e",
   "metadata": {},
   "source": [
    "En general las f.d.a. (F) de variables aleatorias continuas definidas en termino de funciones que llamaremos función densidad de probabilidad."
   ]
  },
  {
   "cell_type": "markdown",
   "id": "0ab83abe",
   "metadata": {},
   "source": [
    "### Definición:"
   ]
  },
  {
   "cell_type": "markdown",
   "id": "fffc6e4e",
   "metadata": {},
   "source": [
    "Se llama **función densidad de probabilidad** (f.d.p.) a toda función\n",
    "$$ f:\\mathbb{R} \\rightarrow \\mathbb{R} \\text{ no negativa tal que } \\int_{-\\infty}^{\\infty} f(t)\\ dt = 1. $$"
   ]
  },
  {
   "cell_type": "markdown",
   "id": "d3b36a8d",
   "metadata": {},
   "source": [
    "### Definición:"
   ]
  },
  {
   "cell_type": "markdown",
   "id": "79f2e772",
   "metadata": {},
   "source": [
    "Sea *X* una variable aleatoria continua con f.d.a. *F* y f.d.p. *f*. Entonces si  \n",
    "\\begin{align}\n",
    "    F(x) &= \\int_{-\\infty}^{x} f(t)\\ dt & \\forall x \\in \\mathbb{R}\n",
    "\\end{align}\n",
    "se dice que *X* es una **variable aleatoria absolutamente continua.**"
   ]
  },
  {
   "cell_type": "markdown",
   "id": "d2888ce9",
   "metadata": {},
   "source": [
    "Luego si *X* es una v.a. absolutamente continua entonces $\\forall a < b$"
   ]
  },
  {
   "cell_type": "markdown",
   "id": "623f7d58",
   "metadata": {},
   "source": [
    "\\begin{align}\n",
    "    P(a \\le X \\le b) = F(b) - F(a) = \\int_{a}^{b} f(t) dt\n",
    "\\end{align}"
   ]
  },
  {
   "cell_type": "markdown",
   "id": "7b8c88be",
   "metadata": {},
   "source": [
    "![Image 1](resources/imgs_chapter_iv/img_1.png)"
   ]
  },
  {
   "cell_type": "markdown",
   "id": "70e83e4f",
   "metadata": {},
   "source": [
    "### Proposición:"
   ]
  },
  {
   "cell_type": "markdown",
   "id": "a0d57fab",
   "metadata": {},
   "source": [
    "Si *X* es una v.a. con f.d.a. F tal que tenga derivada continua, salvo en un conjunto finito de valores, entonces *X* es absolutamente continua y su f.d.p. esta dado por\n",
    "\n",
    "\\begin{equation}\n",
    "  f(x) =\n",
    "    \\begin{cases}\n",
    "      F'(x), & \\forall x \\text{ donde exista} \\\\\n",
    "      0 & \\text{en caso contrario}\n",
    "    \\end{cases}       \n",
    "\\end{equation}"
   ]
  },
  {
   "cell_type": "markdown",
   "id": "61b0d665",
   "metadata": {},
   "source": [
    "En este curso nos concentraremos en trabajar con v.a. absolutamente continuas."
   ]
  },
  {
   "cell_type": "markdown",
   "id": "37e074ec",
   "metadata": {},
   "source": [
    "### Definición:"
   ]
  },
  {
   "cell_type": "markdown",
   "id": "fdece3da",
   "metadata": {},
   "source": [
    "Sea $p \\in (0;\\ 1)$ y *X* una variable aleatoria continua sobre (S, A, P) y con f.d.a. *F* entonces se llama **percentil (p 100) o cuantil p de X** al valor **$\\eta(p)$** tal que\n",
    "$$ p = F(\\eta(p)) = \\int_{-\\infty}^{\\eta(p)} f(t) dt$$"
   ]
  },
  {
   "cell_type": "markdown",
   "id": "2bf90d6c",
   "metadata": {},
   "source": [
    "Si la gráfica de la f.d.p. de *X* es"
   ]
  },
  {
   "cell_type": "markdown",
   "id": "e009bf8c",
   "metadata": {},
   "source": [
    "![Image 2](resources/imgs_chapter_iv/img_2.png)"
   ]
  },
  {
   "cell_type": "markdown",
   "id": "5c8fb072",
   "metadata": {},
   "source": [
    "### Proposición:"
   ]
  },
  {
   "cell_type": "markdown",
   "id": "cfce762d",
   "metadata": {},
   "source": [
    "Sea *X* una variable aleatoria continua con f.d.a. $F_{X}$ y $\\eta_{X}(q)$, con $q \\in [0;\\ 1]$. Si $Y = aX + b$ con $a \\ne 0$ y $b \\in \\mathbb{R}$ y $p \\in [0;\\ 1]$ entonces\n",
    "\n",
    "\\begin{equation}\n",
    "    \\eta_{Y}(p) =\n",
    "    \\begin{cases}\n",
    "        a \\eta_{X} (p) + b & \\text{si } a > 0 \\\\\n",
    "        a \\eta_{X} (1 - p) + b & \\text{si } a < 0\n",
    "    \\end{cases}\n",
    "\\end{equation}"
   ]
  },
  {
   "cell_type": "markdown",
   "id": "f5069645",
   "metadata": {},
   "source": [
    "## Esperanza y Varianza de una variable aleatoria continua"
   ]
  },
  {
   "cell_type": "markdown",
   "id": "6097e901",
   "metadata": {},
   "source": [
    "### Definición:"
   ]
  },
  {
   "cell_type": "markdown",
   "id": "78b0c319",
   "metadata": {},
   "source": [
    "Sea *X* una variable aleatoria continua sobre $(S, A, P)$ y con función de densidad de probabilidad $f$ entonces se define el **valor esperado o valor media o esperanza de X** a  \n",
    "$\\int_{-\\infty}^{\\infty} x f(x)dx$ siempre que $\\int_{-\\infty}^{\\infty} |x| f(x) dx < \\infty$\n",
    "\n",
    "**Notación:** $E(X) = \\mu$"
   ]
  },
  {
   "cell_type": "markdown",
   "id": "a5655c39",
   "metadata": {},
   "source": [
    "¿Como calcular la esperanza de una función de una variable aleatoria continua X? sin necesidad de hallar su f.d.p."
   ]
  },
  {
   "cell_type": "markdown",
   "id": "10f1737a",
   "metadata": {},
   "source": [
    "### Proposición:"
   ]
  },
  {
   "cell_type": "markdown",
   "id": "933358d0",
   "metadata": {},
   "source": [
    "Sea *X* una variable aleatoria continua $(S, A, P)$ y con f.d.p. $f$. Si $h(X)$ es una variable aleatoria continua entonces\n",
    "\n",
    "\\begin{align}\n",
    "    E(h(X)) = \\int_{-\\infty}^{\\infty} h(x) f(x) dx\n",
    "\\end{align}\n",
    "\n",
    "siempre que $\\int_{-\\infty}^{\\infty} |h(x)| f(x) dx < \\infty.$"
   ]
  },
  {
   "cell_type": "markdown",
   "id": "2bccb0b2",
   "metadata": {},
   "source": [
    "### Definición:"
   ]
  },
  {
   "cell_type": "markdown",
   "id": "663bde7f",
   "metadata": {},
   "source": [
    "Sea *X* una variable aleatoria continua con f.d.p. $f$ entonces se define la **varianza de X** como $E((X - \\mu)^{2}) = \\int_{-\\infty}^{\\infty} (x - \\mu)^{2} f(x) dx$ siempre que $E(X^{2}) < \\infty$ y donde $\\mu = E(X)$.  \n",
    "y se llama **desviación estándar de X** a la raiz cuadrada de la varianza.\n",
    "\n",
    "**Notacion:** Para la varianza $V(X) = \\sigma^{2}$ y para el desvío estándar $\\sigma$."
   ]
  },
  {
   "cell_type": "markdown",
   "id": "99ffabda",
   "metadata": {},
   "source": [
    "### Proposición:"
   ]
  },
  {
   "cell_type": "markdown",
   "id": "5dc38173",
   "metadata": {},
   "source": [
    "Sea *X* una variable aleatoria continua $f$ f.d.p. y $E(X^{2}) < \\infty$ entonces\n",
    "\n",
    "a)  \n",
    "$$0 \\le V(X) = E(X^{2}) - \\mu^{2} \\text{ donde } \\mu = E(X).$$\n",
    "\n",
    "b)\n",
    "\\begin{align}\n",
    "    E(aX + b) &= aE(X) + b & \\text{ y} \\\\\n",
    "    V(aX + b) &= a^{2} V(X);\\ \\forall a,\\ b \\in \\mathbb{R}\n",
    "\\end{align}"
   ]
  },
  {
   "cell_type": "markdown",
   "id": "fdbfe478",
   "metadata": {},
   "source": [
    "## Distribución Uniforme"
   ]
  },
  {
   "cell_type": "markdown",
   "id": "d28e5785",
   "metadata": {},
   "source": [
    "### Definición:"
   ]
  },
  {
   "cell_type": "markdown",
   "id": "de21adaa",
   "metadata": {},
   "source": [
    "Sea *X* una variable aleatoria continua entonces diremos que tiene **distribución Uniforme en el intervalo [a, b]** si su función densidad de probabilidad es\n",
    "\\begin{equation}\n",
    "    f(x) =\n",
    "    \\begin{cases}\n",
    "        \\frac{1}{(b-a)}, & si\\ x \\in [a, b] \\\\\n",
    "        0, & caso\\ contrario.\n",
    "    \\end{cases}\n",
    "\\end{equation}"
   ]
  },
  {
   "cell_type": "markdown",
   "id": "0bc2ba5a",
   "metadata": {},
   "source": [
    "**Notación:** $X \\sim U[a, b].$"
   ]
  },
  {
   "cell_type": "markdown",
   "id": "af8e1f03",
   "metadata": {},
   "source": [
    "Caso particular es cuando $a = 0$ y $b = 1$, la que es muy útil para estudios de simulación."
   ]
  },
  {
   "cell_type": "markdown",
   "id": "0fde8be2",
   "metadata": {},
   "source": [
    "### Proposición:"
   ]
  },
  {
   "cell_type": "markdown",
   "id": "7c167f03",
   "metadata": {},
   "source": [
    "Si $X \\sim U[0, 1]$ entonces:  \n",
    "a) Sea $p \\in (0, 1)$ entonces $\\eta_{X}(p) = p.$  \n",
    "b) $E(X) = \\frac{1}{2}$ y $V(X) = \\frac{1}{12}.$  \n",
    "c) Para cualquier $a < b$ números reales y sea la v.a. $Y = (b-a)X + a$ entonces  \n",
    "i)  \n",
    "\\begin{align}\n",
    "    Y \\sim U[a, b]\n",
    "\\end{align}\n",
    "ii)  \n",
    "\\begin{align}\n",
    "    \\eta_{Y}(p) = (b - a)p + a \\text{ para cualquier p } \\in (0, 1).\n",
    "\\end{align}\n",
    "iii)\n",
    "\\begin{align}\n",
    "    E(Y) = \\frac{a + b}{2} \\text{ y } V(Y) = \\frac{(b-a)^{2}}{12}.\n",
    "\\end{align}"
   ]
  },
  {
   "cell_type": "markdown",
   "id": "2159e95d",
   "metadata": {},
   "source": [
    "### Ejemplo:"
   ]
  },
  {
   "cell_type": "markdown",
   "id": "ada812b1",
   "metadata": {},
   "source": [
    "El tiempo (en minutos) que tarda un camión en realizar un viaje (ida y vuelta), para transportar concreto hacia una obra en construcción, tiene distribución uniforme en el intervalo [50, 70].  \n",
    "\n",
    "a) ¿Cuál es la probabilidad que la duración del viaje de un camión sea menor de 65 minutos?  \n",
    "\n",
    "b) ¿Cuál es la probabilidad que la duración del viaje de un camión sea mayor de 65 minutos dado que se sabe que fue mayor a 55 minutos?  \n",
    "\n",
    "c) Dar el valor medio y desviación estándar del tiempo que tarda un camión en realizar un viaje (ida y vuelta), para transportar concreto hacia esta obra en construcción.  \n",
    "\n",
    "d) Suponga que los tiempos que tardan cada uno de tres camiones en realizar un viaje (ida y vuelta), para transportar concreto hacia esta obra en construcción, son independientes entre si. ¿Cuál es la probabilidad que por lo menos uno de ellos tarde mas de 65 minutos?"
   ]
  },
  {
   "cell_type": "markdown",
   "id": "9d7a83ab",
   "metadata": {},
   "source": [
    "### Resolución:"
   ]
  },
  {
   "cell_type": "markdown",
   "id": "0925ec06",
   "metadata": {},
   "source": [
    "X = \"tiempo en minutos que se demora entre ida y vuelta\"  \n",
    "$$ X \\sim U[50, 70] $$  \n",
    "\n",
    "\\begin{equation}\n",
    "    f(x) =\n",
    "    \\begin{cases}\n",
    "        \\frac{1}{20} & si\\ x \\in [50, 70] \\\\\n",
    "        0 & caso\\ contrario\n",
    "    \\end{cases}\n",
    "\\end{equation}\n",
    "\n",
    "a)  \n",
    "\\begin{align}\n",
    "    P(X < 65) &= \\int_{-\\infty}^{65} f(x) dx = \\int_{50}^{65} f(x) dx \\\\\n",
    "    P(X < 65) &= \\int_{50}^{65} \\frac{1}{20} dx = \\frac{3}{4}\n",
    "\\end{align}\n",
    "\n",
    "b)  \n",
    "\\begin{align}\n",
    "    P((X > 65)\\ |\\ (X > 55)) &= \\frac{P(X > 65 \\cap X > 55)}{P(X > 55)} \\\\\n",
    "    P((X > 65)\\ |\\ (X > 55)) &= \\frac{P(X > 65)}{P(X > 55)}\n",
    "\\end{align}\n",
    "\n",
    "Luego,  \n",
    "$$ P(X > 65) = \\int_{65}^{70} \\frac{1}{20} dx = \\frac{1}{4} $$  \n",
    "y  \n",
    "$$ P(X > 55) = \\int_{55}^{70} \\frac{1}{20} dx = \\frac{3}{4} $$  \n",
    "\n",
    "Entonces,  \n",
    "\\begin{align}\n",
    "    P((X > 65)\\ |\\ (X > 55)) = \\frac{\\frac{1}{4}}{\\frac{3}{4}} = \\frac{1}{3}\n",
    "\\end{align}\n",
    "\n",
    "c)  \n",
    "$$ E(X) = \\frac{50 + 70}{2} = 60 $$\n",
    "\n",
    "$$ V(X) = \\frac{(70-50)^{2}}{12} = \\frac{400}{12} = \\frac{100}{3} $$\n",
    "luego,  \n",
    "$$ \\sigma = \\sqrt{V(X)} = \\sqrt{\\frac{100}{3}} = \\frac{10}{\\sqrt{3}} $$\n",
    "\n",
    "d)  \n",
    "$$ P(X > 65) = 1 - P(X < 65) = 1 - \\frac{3}{4} = \\frac{1}{4} $$\n",
    "\n",
    "Y: \"Número de camiones que demora más de 65 minutos (X > 65)\"\n",
    "$$ Y \\sim B(3, \\frac{1}{4}) \\ \\ \\ (binomial\\ con\\ parámetro\\ n = 3\\ y\\ p = 1/4) $$\n",
    "\n",
    "\\begin{align}\n",
    "    P(Y \\ge 1) = 1 - P(Y = 0) = 1 - \\left(\\frac{3}{4}\\right)^{3}  \\approx 0,5781\n",
    "\\end{align}"
   ]
  },
  {
   "cell_type": "markdown",
   "id": "429500f9",
   "metadata": {},
   "source": [
    "## Distribución normal o gaussiana"
   ]
  },
  {
   "cell_type": "markdown",
   "id": "c8a5673a",
   "metadata": {},
   "source": [
    "Esta distribución es una de las más importantes dentro de la Teoría de la Probabilidad y Estadística. Muchas variables pueden ser aproximadas por esta distribución, como ser: errores de medición en experimentos científicos, calificaciones en diversas pruebas, mediciones antropométricas, tiempo de reacción en experimentos psicológicos, etc."
   ]
  },
  {
   "cell_type": "markdown",
   "id": "e6dbf033",
   "metadata": {},
   "source": [
    "### Definición:"
   ]
  },
  {
   "cell_type": "markdown",
   "id": "d6e7ec7b",
   "metadata": {},
   "source": [
    "Sea *X* una variable aleatoria continua entonces diremos que tiene **distribución Normal de parámetros $\\mu$ y $\\sigma^{2}$** si su función de densidad de probabilidad es\n",
    "$$ f(x, \\mu, \\sigma^{2}) = \\frac{1}{\\sqrt{2\\pi\\sigma^{2}}} e^{-(x-\\mu)^{2}/(2\\sigma^{2})} \\forall x \\in \\mathbb{R}.$$\n",
    "donde $\\mu \\in \\mathbb{R}$ y $\\sigma > 0.$\n",
    "\n",
    "**Notación:** $X \\sim N(\\mu, \\sigma^{2}).$"
   ]
  },
  {
   "cell_type": "markdown",
   "id": "7bc8fa80",
   "metadata": {},
   "source": [
    "### Propiedades de la f.d.p. de una $N(\\mu, \\sigma^{2})$"
   ]
  },
  {
   "cell_type": "markdown",
   "id": "69d6f86c",
   "metadata": {},
   "source": [
    "a) $f(x,\\mu,\\sigma^{2}) \\ge 0 \\forall x \\in \\mathbb{R}$ y $\\int_{-\\infty}^{\\infty} f(x, \\mu, \\sigma^{2}) dx = 1. $  \n",
    "\n",
    "b) Simétrica respecto de $\\mu$, o sea si\n",
    "$$ f(\\mu-x, \\mu, \\sigma^{2}) = f(\\mu + x, \\mu, \\sigma^{2}) \\forall x \\in \\mathbb{R}$$  \n",
    "\n",
    "c) Tiene un punto de máximo en $\\mu$ y puntos de inflexión en $(\\mu \\pm \\sigma).$  \n",
    "\n",
    "d) $$\\lim\\limits_{x \\to -\\infty} f(x, \\mu, \\sigma^{2}) = \\lim\\limits_{x \\to +\\infty} f(x, \\mu, \\sigma^{2}) = 0 $$  \n",
    "\n",
    "e) La gráfica tiene forma de campana."
   ]
  },
  {
   "cell_type": "markdown",
   "id": "d720a123",
   "metadata": {},
   "source": [
    "![Image 3](resources/imgs_chapter_iv/img_3.png)"
   ]
  },
  {
   "cell_type": "markdown",
   "id": "90781b3d",
   "metadata": {},
   "source": [
    "![Image 4](resources/imgs_chapter_iv/img_4.png)"
   ]
  },
  {
   "cell_type": "markdown",
   "id": "23de027b",
   "metadata": {},
   "source": [
    "Dentro de esta familia de distribuciones un caso particular es cuando $\\mu = 0$ y $\\sigma = 1$, que recibe el nombre de **normal estándar** y se simboliza la v.a. con $Z \\sim N(0, 1).$"
   ]
  },
  {
   "cell_type": "markdown",
   "id": "87451ed5",
   "metadata": {},
   "source": [
    "La f.d.a. de *Z* se la denota como\n",
    "$$ \\Phi(z) = \\int_{-\\infty}^{z} \\frac{1}{\\sqrt{2\\pi}} e^{-\\frac{x^{2}}{2}} dx;\\ \\ \\forall z \\in \\mathbb{R}. $$"
   ]
  },
  {
   "cell_type": "markdown",
   "id": "600b7523",
   "metadata": {},
   "source": [
    "### Proposición:"
   ]
  },
  {
   "cell_type": "markdown",
   "id": "06e6e67c",
   "metadata": {},
   "source": [
    "Si $Z \\sim N(0, 1)$ entonces $E(Z) = 0$ y $V(Z) = 1$."
   ]
  },
  {
   "cell_type": "markdown",
   "id": "a801e5ca",
   "metadata": {},
   "source": [
    "Para el cálculo de probabilidades de una normal estándar hay tablas, generadas por métodos de integración numérica.  \n",
    "\n",
    "En la tabla que usaremos se encuentra tabulado el area sombreada, $\\Phi(z) = P(Z \\le z)$, para valores $z \\in \\mathbb{R}$."
   ]
  },
  {
   "cell_type": "markdown",
   "id": "d0b6115f",
   "metadata": {},
   "source": [
    "![Image 5](resources/imgs_chapter_iv/img_5.png)"
   ]
  },
  {
   "cell_type": "markdown",
   "id": "b2f94cc2",
   "metadata": {},
   "source": [
    "## Ejercicios para el manejo de la tabla N(0, 1)"
   ]
  },
  {
   "cell_type": "markdown",
   "id": "a5b0b2c9",
   "metadata": {},
   "source": [
    "I) Calcular las siguientes probabilidades:  \n",
    "\n",
    "a) $P(Z \\le 0)$  \n",
    "\n",
    "b) $P(0 \\le Z \\le 2.57)$  \n",
    "\n",
    "c) $P(-2.57 \\le Z \\le 2.57) = P(|Z| \\le 2.57)$  \n",
    "\n",
    "d) $P(Z \\ge -1.75)$  \n",
    "\n",
    "e) $P(Z \\ge 2.57)$"
   ]
  },
  {
   "cell_type": "markdown",
   "id": "7d060650",
   "metadata": {},
   "source": [
    "II) Determinar el valor de la constante *c* tal que:  \n",
    "\n",
    "a) $\\phi(c) = 0.9838$  \n",
    "\n",
    "b) $P(0 \\le Z \\le c) = 0.291)$  \n",
    "\n",
    "c) $P(|Z| \\le c) = 0.668$"
   ]
  },
  {
   "cell_type": "markdown",
   "id": "7c8bad21",
   "metadata": {},
   "source": [
    "III) Determinar los percentiles 25; 50 y 75."
   ]
  },
  {
   "cell_type": "markdown",
   "id": "12e90b61",
   "metadata": {},
   "source": [
    "### Proposición:"
   ]
  },
  {
   "cell_type": "markdown",
   "id": "dcd1cce2",
   "metadata": {},
   "source": [
    "Si $X \\sim N(\\mu, \\sigma^{2})$ entonces  \n",
    "\n",
    "a) $Z = \\frac{X - \\mu}{\\sigma} \\sim N(0, 1)$ (Estandarización de *X*).  \n",
    "\n",
    "b) $E(X) = \\mu = \\tilde{\\mu}$ y $V(X) = \\sigma^{2}$"
   ]
  },
  {
   "cell_type": "markdown",
   "id": "fa409aa0",
   "metadata": {},
   "source": [
    "**Observación:** Si $X \\sim N(\\mu, \\sigma^{2})$ entonces para calcular $P(a \\le X \\le b)$ primero se debe estandarizar la v.a. *X* y despues usar la tabla de la $N(0, 1)$.\n",
    "$$P(a \\le X \\le b) = \\phi\\left(\\frac{b - \\mu}{\\sigma}\\right) - \\phi\\left(\\frac{a - \\mu}{\\sigma}\\right)$$\n",
    "para todo $a < b$ números reales, donde $\\phi$ es la f.d.a. de una v.a. $N(0, 1)$."
   ]
  },
  {
   "cell_type": "markdown",
   "id": "c2990c50",
   "metadata": {},
   "source": [
    "### Ejemplo:"
   ]
  },
  {
   "cell_type": "markdown",
   "id": "a4b3f920",
   "metadata": {},
   "source": [
    "En una empresa hay dos máquinas disponibles A y B que cortan corchos, para ser usados en botellas de vino, tal que el 40% son cortados con la maquina A y el resto con la B. Se sabe que la máquina A corta corchos con diámetro que están normalmente distribuido con una media de 3cm y una desviación estándar de 0.1cm y la máquina B corta corchos con diámetro que estan normalmente distribuido con una media de 3.04cm y una desviación estándar de 0.02cm.  \n",
    "\n",
    "Para que un corcho sea aceptable, para su uso, debe cumplir que su diámetro este comprendido entre 2.9 y 3.1cm.  \n",
    "\n",
    "**a)** ¿Cuál de las dos máquinas producen mayor porcentaje de corchos aceptables?  \n",
    "\n",
    "**b)** Se selecciona al azar un corcho de la producción, ¿cuál es la probabilidad que el corcho sea aceptable?  \n",
    "\n",
    "**c)** Para la maquina que produce mayor porcentaje de corchos aceptables:  \n",
    "- **i)** ¿Cuál es la probabilidad que el diámetro este comprendido entre 2.99 y 3.05 cm?  \n",
    "- **ii)** Si se seleccionan al azar 10 corchos de la produccion, ¿cuál es la probabilidad que el diámetro este comprendido entre 2.99 y 3.05cm en por lo menos dos de los 10?  \n",
    "- **iii)** Hallar los percentiles 30 y 70 para la variable diámetro del corcho cortado con la máquina elegida."
   ]
  },
  {
   "cell_type": "markdown",
   "id": "6aef5ea9",
   "metadata": {},
   "source": [
    "### Resolucion:"
   ]
  },
  {
   "cell_type": "markdown",
   "id": "8927148b",
   "metadata": {},
   "source": [
    "A: \"Corcho cortado con la máquina A\"\n",
    "B: \"Corcho cortado con la máquina B\"\n",
    "\n",
    "\\begin{align}\n",
    "    P(A) &= 0.4 \\\\\n",
    "    P(B) &= 1 - P(A) = 0.6\n",
    "\\end{align}\n",
    "\n",
    "X: \"Diámetro del corcho\"  \n",
    "$ X_{|A} \\sim N(\\mu_{A} = 3, \\sigma_{A}^{2} = 0.1^{2} $  \n",
    "$ X_{|B} \\sim N(\\mu_{B} = 3.04, \\sigma_{B}^{2} = 0.02^{2} $  \n",
    "\n",
    "a)  \n",
    "- Máquina A:  \n",
    "$ P(2.9 \\le X_{|A} \\le 3.1) = P\\left(\\frac{2.9 - 3}{0.1} \\le Z \\le \\frac{3.1 - 3}{0.1}\\right) = P(-1 \\le Z \\le 1) $  \n",
    "$ P(-1 \\le Z \\le 1) = 2 \\cdot [\\Phi(1) - \\Phi(0)] $  \n",
    "$ 2 \\cdot [0.8413 - 0.5] \\approx 0.6826 \\\\\n",
    "\\Rightarrow \\text{para la máquina A el 68.26% de los corchos son aceptables.} $  \n",
    "\n",
    "\n",
    "- Máquina B:  \n",
    "$ P(2.9 \\le X_{|B} \\le 3.1) = P\\left(\\frac{2.9 - 3.04}{0.02} \\le X \\le \\frac{3.1 - 3.04}{0.02}\\right) = P(-7 \\le Z \\le 3) $  \n",
    "$ P(-7 \\le Z \\le 3) = \\Phi(3) - \\Phi(-7) $  \n",
    "$ \\Phi(3) + \\Phi(7) - 1 \\approx 0.9987 \\\\\n",
    "\\Rightarrow \\text{para la máquina B el 99.87% de los corchos son aceptables.} $\n",
    "\n",
    "Por lo tanto la Máquina B es la que produce la mayor cantidad de corchos aceptables.  \n",
    "\n",
    "\n",
    "b)  \n",
    "- Usamos ley de probabilidad total:  \n",
    "\n",
    "\\begin{align}\n",
    "    P(\\text{\"Que el diámetro sea aceptable\"}) &= P(A) \\cdot P(2.9 \\le X_{|A} \\le 3.1) + P(B) \\cdot P(2.9 \\le X_{|B} \\le 3.1) \\\\\n",
    "    &= 0.4 \\cdot 0.6826 + 0.6 \\cdot 0.9987 \\\\  \n",
    "    &\\approx 0.8723\n",
    "\\end{align}\n",
    "\n",
    "c)  \n",
    "- i)  \n",
    "\n",
    "\\begin{align}\n",
    "    P(2.99 \\le X_{|B} \\le 3.05) &= P\\left(\\frac{2.99 - 3.04}{0.02} \\le Z \\le \\frac{3.05 - 3.04}{0.02}\\right) \\\\\n",
    "    &= P(-2.5 \\le Z \\le 0.5) \\\\\n",
    "    &= \\Phi(0.5) - \\Phi(2.5) \\\\\n",
    "    &=  0.6915 + 1 - 0.9938 \\\\\n",
    "    &\\approx 0.6853\n",
    "\\end{align}  \n",
    "\n",
    "- ii)  \n",
    "\n",
    "W: \"Número de corchos con diámetro entre 2.89 y 3.05\"\n",
    "\\begin{align}\n",
    "    P(E) = 0.6853\n",
    "\\end{align}\n",
    "\n",
    "$$ W \\sim B(n = 10, p = 0.6853) $$  \n",
    "\n",
    "\\begin{align}\n",
    "    P(W \\ge 2) &= 1 - P(W < 2) \\\\\n",
    "    &= 1 - P(W = 0) + P(W = 1) \\\\\n",
    "    &= 1 - \\left( {10 \\choose 0} p^{0} (1-p)^{10} + {10 \\choose 1} p^{1} (1-p)^{9} \\right) \\\\\n",
    "    &\\approx 0.9998\n",
    "\\end{align}  \n",
    "\n",
    "- iii)  \n",
    "\n",
    "Calculamos el percentil o cuantil 0.7 para $ X_{|B} \\sim N(3.04, 0.02^{2}) $  \n",
    "\n",
    "\\begin{align}\n",
    "    0.7 &= P(X_{B} \\le x_{0.7}^{x}) \\\\\n",
    "    0.7 &= P\\left(X \\le \\frac{x_{0.7}^{x} - 3.04}{0.02}\\right) \\\\\n",
    "    0,7 &= \\Phi(0,52)\n",
    "\\end{align}\n",
    "\n",
    "$ \\Rightarrow x_{0.70}^{x} = 0.52 \\cdot 0.02 + 3.04 = 3.0504 $\n",
    "\n",
    "Calculamos el percentil o cuantil 0.7 para $ X_{|B} \\sim N(3.04, 0.02^{2}) $  \n",
    "\n",
    "\\begin{align}\n",
    "    0.3 &= P(X_{B} \\le x_{0.3}^{x}) \\\\\n",
    "    0.3 &= P\\left(X \\le \\frac{x_{0.3}^{x} - 3.04}{0.02}\\right) \\\\\n",
    "    0,3 &= \\Phi(-0.52)\n",
    "\\end{align}\n",
    "\n",
    "$ \\Rightarrow x_{0.30}^{x} = -0.52 \\cdot 0.02 + 3.04 = 3.0296 $"
   ]
  },
  {
   "cell_type": "markdown",
   "id": "b7a29301",
   "metadata": {},
   "source": [
    "## Distribución Gamma"
   ]
  },
  {
   "cell_type": "markdown",
   "id": "f5ee9a50",
   "metadata": {},
   "source": [
    "No todas las variables aleatorias continuas tienen una función de densidad de probabilidad (f.d.p.) simétrica un ejemplo son la familia de distribuciones Gamma, que son sesgadas a derecha y definidas positiva.  \n",
    "\n",
    "Antes de dar la definición de la f.d.p. gamma definiremos la función gamma, muy importante en muchas ramas de la matemática."
   ]
  },
  {
   "cell_type": "markdown",
   "id": "351bff44",
   "metadata": {},
   "source": [
    "### Definición:"
   ]
  },
  {
   "cell_type": "markdown",
   "id": "b8870d03",
   "metadata": {},
   "source": [
    "Para $\\alpha > 0$, la **función gamma** evaluada en $\\alpha$ esta definida como $$\\Gamma(\\alpha) = \\int_{0}^{\\infty} x^{\\alpha - 1} e^{-x} dx.$$"
   ]
  },
  {
   "cell_type": "markdown",
   "id": "57a06b8d",
   "metadata": {},
   "source": [
    "### Propiedades de la función gamma"
   ]
  },
  {
   "cell_type": "markdown",
   "id": "7d6df1ff",
   "metadata": {},
   "source": [
    "a) $\\Gamma(\\alpha) = (\\alpha - 1) \\Gamma(\\alpha - 1)$ para cualquier $\\alpha > 1$.  \n",
    "b) $\\Gamma(n) = (n-1)! \\forall n \\in \\mathbb{N}$.  \n",
    "c) $\\Gamma(1/2) = \\sqrt{\\pi}$."
   ]
  },
  {
   "cell_type": "markdown",
   "id": "46af3086",
   "metadata": {},
   "source": [
    "### Distribución gamma"
   ]
  },
  {
   "cell_type": "markdown",
   "id": "16bd28a6",
   "metadata": {},
   "source": [
    "### Definición:"
   ]
  },
  {
   "cell_type": "markdown",
   "id": "c9643382",
   "metadata": {},
   "source": [
    "Se dice que una variable aleatoria *X* tiene **distribución gamma con parámetros $\\alpha$ y $\\beta$** si la f.d.p. es\n",
    "\\begin{equation}\n",
    "    f(x, \\alpha, \\beta) = \n",
    "    \\begin{cases}\n",
    "        \\frac{1}{\\beta^{\\alpha} \\Gamma(\\alpha)} x^{\\alpha - 1} e^{-\\frac{x}{\\beta}} & x \\ge 0 \\\\\n",
    "        0 & caso\\ contrario\n",
    "    \\end{cases}\n",
    "\\end{equation}\n",
    "para $\\alpha$ y $\\beta$ números positivos.\n",
    "\n",
    "**Notación:** $X \\sim \\Gamma(\\alpha, \\beta)$"
   ]
  },
  {
   "cell_type": "markdown",
   "id": "b5b4f64d",
   "metadata": {},
   "source": [
    "### Proposición:"
   ]
  },
  {
   "cell_type": "markdown",
   "id": "acf9a8c8",
   "metadata": {},
   "source": [
    "Sea *X* una v.a. con distribución $\\Gamma(\\alpha, \\beta)$ entonces:\n",
    "$$ E(X) = \\mu = \\alpha\\beta \\text{ y } V(X) = \\sigma^{2} = \\alpha \\beta^{2}. $$\n",
    "\n",
    "Dentro de esta familia cabe mencionar dos distribuciones una de ellas tiene múltiples aplicaciones y la otra es usada en inferencia estadística, ellas son la distribución exponencial y la Ji-cuadrado o Chi-cuadrado."
   ]
  },
  {
   "cell_type": "markdown",
   "id": "880b5aab",
   "metadata": {},
   "source": [
    "## Distribución exponencial"
   ]
  },
  {
   "cell_type": "markdown",
   "id": "5fa0ea83",
   "metadata": {},
   "source": [
    "### Definición:"
   ]
  },
  {
   "cell_type": "markdown",
   "id": "e5a9dd7d",
   "metadata": {},
   "source": [
    "Se dice que una variable aleatoria *X* tiene **distribución exponencial de parámetro $\\lambda$** si la f.d.p. es\n",
    "\n",
    "\\begin{equation}\n",
    "    f(x, \\lambda) =\n",
    "    \\begin{cases}\n",
    "        \\lambda e^{-\\lambda x} & x \\ge 0 \\\\\n",
    "        0 & en\\ caso\\ contrario\n",
    "    \\end{cases}\n",
    "\\end{equation}\n",
    "\n",
    "para $\\lambda > 0$.  \n",
    "**Notación:** $X \\sim exp(\\lambda) = \\Gamma(1, 1/\\lambda)$"
   ]
  },
  {
   "cell_type": "markdown",
   "id": "43590176",
   "metadata": {},
   "source": [
    "![Image 6](resources/imgs_chapter_iv/img_6.png)"
   ]
  },
  {
   "cell_type": "markdown",
   "id": "301fdff8",
   "metadata": {},
   "source": [
    "### Consecuencias:"
   ]
  },
  {
   "cell_type": "markdown",
   "id": "a3003fbd",
   "metadata": {},
   "source": [
    "Si $X \\sim exp(\\lambda)$ entonces  \n",
    "\n",
    "a) $E(X) = \\mu = \\frac{1}{\\lambda}$ y $V(X) = \\sigma^{2} = \\frac{1}{\\lambda^{2}}.$  \n",
    "\n",
    "b)\n",
    "\\begin{equation}\n",
    "    F(x, \\lambda) =\n",
    "    \\begin{cases}\n",
    "        0 & si\\ x < 0 \\\\\n",
    "        1 - e^{-\\lambda x} & si\\ x \\ge 0\n",
    "    \\end{cases}\n",
    "\\end{equation}  \n",
    "\n",
    "c) Si $t_{0} > 0$ entonces  \n",
    "\\begin{align}\n",
    "    P(X \\ge t + t_{0} | X \\ge t_{0}) = P(X \\ge t) \\ \\ \\forall t > 0\n",
    "\\end{align}"
   ]
  },
  {
   "cell_type": "markdown",
   "id": "93d02c98",
   "metadata": {},
   "source": [
    "Esta distribución es muy utilizada para modelar por ejemplo el tiempo de vida o duración de componentes electrónicos, con lo cual por la propiedad enunciada en el item c (conocida como **\"carencia de memoria\"**) significa que no se tiene en cuenta el efecto desgaste producido por el paso del tiempo y por lo tanto puede ocurrir en algunas situaciones problemas que esta no sea adecuada. Ahora existen otras distribuciones alternativas como la Weilbull y la lognormal."
   ]
  },
  {
   "cell_type": "markdown",
   "id": "78579c61",
   "metadata": {},
   "source": [
    "## Distribución Ji-cuadrado"
   ]
  },
  {
   "cell_type": "markdown",
   "id": "462f3a9f",
   "metadata": {},
   "source": [
    "### Definición:"
   ]
  },
  {
   "cell_type": "markdown",
   "id": "188f2879",
   "metadata": {},
   "source": [
    "Se dice que una variable aleatoria *X* tiene **distribución Ji-cuadrado de parámetro *k*** si la f.d.p. es\n",
    "\n",
    "\\begin{equation}\n",
    "    f(x, k) =\n",
    "    \\begin{cases}\n",
    "        \\frac{1}{2^{k/2} \\Gamma(k/2)} x^{(k/2)-1} e^{-\\frac{x}{2}} & x \\ge 0 \\\\\n",
    "        0 & caso\\ contrario\n",
    "    \\end{cases}\n",
    "\\end{equation}\n",
    "\n",
    "para $k > 0$.\n",
    "\n",
    "**Notación:** $X \\sim \\chi^{2}(k) = \\Gamma(k/2, 2).$"
   ]
  },
  {
   "cell_type": "markdown",
   "id": "3b045bf7",
   "metadata": {},
   "source": [
    "![Image 7](resources/imgs_chapter_iv/img_7.png)"
   ]
  },
  {
   "cell_type": "markdown",
   "id": "e020803f",
   "metadata": {},
   "source": [
    "### Consecuencias:"
   ]
  },
  {
   "cell_type": "markdown",
   "id": "6bed393b",
   "metadata": {},
   "source": [
    "Si $X \\sim \\chi^{2}(k)$ entonces\n",
    "$$E(X) = \\mu = k \\text{ y } V(X) = \\sigma^{2} = 2k$$\n",
    "\n",
    "Esta distribución es muy importante en procedimientos estadísticos (Intervalos de confianza y pruebas de hipótesis para la varianza poblacional)."
   ]
  },
  {
   "cell_type": "markdown",
   "id": "12a497f4",
   "metadata": {},
   "source": [
    "### Proposición:"
   ]
  },
  {
   "cell_type": "markdown",
   "id": "fa442d75",
   "metadata": {},
   "source": [
    "Si $Z \\sim N(0, 1)$ entonces $Z^{2} \\sim \\chi^{2}(1).$"
   ]
  }
 ],
 "metadata": {
  "kernelspec": {
   "display_name": "Python 3 (ipykernel)",
   "language": "python",
   "name": "python3"
  },
  "language_info": {
   "codemirror_mode": {
    "name": "ipython",
    "version": 3
   },
   "file_extension": ".py",
   "mimetype": "text/x-python",
   "name": "python",
   "nbconvert_exporter": "python",
   "pygments_lexer": "ipython3",
   "version": "3.9.7"
  }
 },
 "nbformat": 4,
 "nbformat_minor": 5
}
