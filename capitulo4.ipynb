{
 "cells": [
  {
   "cell_type": "markdown",
   "metadata": {},
   "source": [
    "# *Capitulo 4 - Variables aleatorias continuas y distribuciones de probabilidad*"
   ]
  },
  {
   "cell_type": "markdown",
   "metadata": {},
   "source": [
    "## 4.1 Funciones de densidad de probabilidad"
   ]
  },
  {
   "cell_type": "markdown",
   "metadata": {},
   "source": [
    "### Distribuciones de probabilidad de variables continuas"
   ]
  },
  {
   "cell_type": "markdown",
   "metadata": {},
   "source": [
    "**Definicion:** Sea X una variable aleatoria continua. Entonces, una **distribucion de probabilidad** o **funcion de densidad de probabilidad** (fdp) de $X$ es una funcion $f(x)$ tal que para dos numeros cualesquiera $a$ y $b$ con $a \\le b$.\n",
    "\n",
    "\\begin{align*}\n",
    "    P(a \\le X \\le b) = \\int_{a}^{b}f(x)\n",
    "\\end{align*}\n",
    "\n",
    "Es decir, la probabilidad de que $X$ asuma un valor en el intervalo [a, b] es el area sobre este intervalo y bajo la grafica de la funcion de densidad, como se ilustra en la siguiente figura. La grafica de $f(x)$ a menudo se conoce como *curva de densidad.*"
   ]
  },
  {
   "cell_type": "markdown",
   "metadata": {},
   "source": [
    "![image1](resources/imgs_cap4/img_cap4_01.png)\n",
    "\\begin{align*}\n",
    "    (a \\le X \\le b) = \\text{el area bajo la curva de densidad entra a y b}\n",
    "\\end{align*}"
   ]
  },
  {
   "cell_type": "markdown",
   "metadata": {},
   "source": [
    "Para que $f(x)$ sea una funcion de densidad de probabilidad legitima, debe satisfacer las dos siguientes condiciones:\n",
    "1. $f(x) \\ge 0$ para todas las $x$.\n",
    "2. $\\int_{-\\infty}^{\\infty}f(x)d(x) = 1$"
   ]
  },
  {
   "cell_type": "markdown",
   "metadata": {},
   "source": [
    "**Definicion:** Se dice que una variable aleatoria continua $X$ tiene una **distribucion uniforme** en el intervalo [A, B] si la funcion de densidad de probabilidad de $X$ es"
   ]
  },
  {
   "cell_type": "markdown",
   "metadata": {},
   "source": [
    "\\begin{equation}\n",
    "  f(x; A, B) =\n",
    "    \\begin{cases}\n",
    "      \\frac{1}{(B-A)} & A \\le x \\le B \\\\\n",
    "      0 & \\text{de lo contrario}\n",
    "    \\end{cases}       \n",
    "\\end{equation}"
   ]
  },
  {
   "cell_type": "markdown",
   "metadata": {},
   "source": [
    "## 4.2 Funciones de distribucion acumulativa y valores esperados"
   ]
  },
  {
   "cell_type": "markdown",
   "metadata": {},
   "source": [
    "**Definicion:** La **funcion de distribucion acumulativa** $F(x)$ de una variable aleatoria continua $X$ se define para todo numero $x$ como\n",
    "\n",
    "\\begin{align*}\n",
    "    F(x) = P(X \\le x) = \\int_{-\\infty}^{x}f(y)dy\n",
    "\\end{align*}\n",
    "\n",
    "Para cada $x$, $F(x)$ es el area bajo la curva de densidad a la izquierda de $x$. Esto se ilustra en la siguiente figura, donde $F(x)$ se incrementa con suavidad a medida que $x$ se incrementa.\n"
   ]
  },
  {
   "cell_type": "markdown",
   "metadata": {},
   "source": [
    "![image1](resources/imgs_cap4/img_cap4_02.png)\n",
    "\\begin{align*}\n",
    "    \\text{Una funcion de densidad de probabilidad y funcion de distribucion acumulativa asociada.}\n",
    "\\end{align*}"
   ]
  },
  {
   "cell_type": "markdown",
   "metadata": {},
   "source": [
    "### Utilizacion de $F(x)$ para calcular probabilidades"
   ]
  },
  {
   "cell_type": "markdown",
   "metadata": {},
   "source": [
    "**Proposicion:** Sea $X$ una variable aleatoria continua con funcion de densidad de probrabilidad $f(x)$ y funcion de distribucion acumulativa $F(x)$. Entonces para cualquier numero $a$,\n",
    "\n",
    "\\begin{align*}\n",
    "    P(X > a) = 1 - F(a)\n",
    "\\end{align*}\n",
    "\n",
    "y para dos numero cualesquiera $a$ y $b$ con $a < b$,\n",
    "\n",
    "\\begin{align*}\n",
    "    P(a \\le X \\le b) = F(b) - F(a)\n",
    "\\end{align*}"
   ]
  },
  {
   "cell_type": "markdown",
   "metadata": {},
   "source": [
    "![image1](resources/imgs_cap4/img_cap4_03.png)\n",
    "\\begin{align*}\n",
    "    \\text{Calculo de $P(a \\le X \\le b)$ a partir de probabilidades acumulativas.}\n",
    "\\end{align*}"
   ]
  },
  {
   "cell_type": "markdown",
   "metadata": {},
   "source": [
    "### Obtencion de $f(x)$ a partir de $F(x)$"
   ]
  },
  {
   "cell_type": "markdown",
   "metadata": {},
   "source": [
    "**Proposicion:** Si $X$ es una variable aleatoria continua con funcion de densidad de probabilidad $f(x)$ y funcion de distribucion acumulativa $F(x)$, entonces en cada $x$ que hace posible que la derivada $F'(x)$ exista, $F'(x) = f(x)$"
   ]
  },
  {
   "cell_type": "markdown",
   "metadata": {},
   "source": [
    "### Percentiles de una distribucion continua"
   ]
  },
  {
   "cell_type": "markdown",
   "metadata": {},
   "source": [
    "**Definicion:** Sea $p$ un numero entre 0 y 1. El $(100p)°\\ percentil$ de la distribucion de una variable aleatoria continua $X$, denotada por $\\eta(p)$, se define como\n",
    "\n",
    "\\begin{align*}\n",
    "    p = F(\\eta(p)) = \\int_{-\\infty}^{\\eta(p)}f(y)dy\n",
    "\\end{align*}"
   ]
  },
  {
   "cell_type": "markdown",
   "metadata": {},
   "source": [
    "![image1](resources/imgs_cap4/img_cap4_04.png)\n",
    "\\begin{align*}\n",
    "    \\text{El $(100p)°$ percentil de una distribucion continua.}\n",
    "\\end{align*}"
   ]
  },
  {
   "cell_type": "markdown",
   "metadata": {},
   "source": [
    "**Definicion:** La **mediana**  de una distribucion continua, denotada por $\\tilde{\\mu}$, es el 50° percentil, asi que $\\tilde{\\mu}$ satisface .5 $= F(\\tilde{\\mu})$. Es decir, la mitad del area bajo la curva de densidad se encuentra a la izquierda de $\\tilde{\\mu}$ y la mitad a la derecha de $\\tilde{\\mu}$."
   ]
  },
  {
   "cell_type": "markdown",
   "metadata": {},
   "source": [
    "### Valores esperados"
   ]
  },
  {
   "cell_type": "markdown",
   "metadata": {},
   "source": [
    "**Definicion:** El **valor esperado** o **valor medio** de una variable aleatoria continua $X$ con funcion de densidad de probabilidad $f(x)$ es"
   ]
  },
  {
   "cell_type": "markdown",
   "metadata": {},
   "source": [
    "\\begin{align*}\n",
    "    \\mu_{x} = E(X) = \\int_{-\\infty}^{\\infty}x.f(x) dx\n",
    "\\end{align*}"
   ]
  },
  {
   "cell_type": "markdown",
   "metadata": {},
   "source": [
    "**Proposicion:** Si $X$ es una variable aleatoria continua con funcion de densidad de probabilidad $f(x)$ y $h(x)$ es cualquier funcion de $X$, entonces"
   ]
  },
  {
   "cell_type": "markdown",
   "metadata": {},
   "source": [
    "\\begin{align*}\n",
    "    E[h(X)] = \\mu_{h(x)} = \\int_{-\\infty}^{\\infty}h(x) . f(x)dx\n",
    "\\end{align*}"
   ]
  },
  {
   "cell_type": "markdown",
   "metadata": {},
   "source": [
    "**Definicion:** La **varianza** de una variable aleatoria continua $X$ con funcion de densidad de probabilidad $f(x)$ y valor medio $\\mu$ es"
   ]
  },
  {
   "cell_type": "markdown",
   "metadata": {},
   "source": [
    "\\begin{align*}\n",
    "    \\sigma_{X}^{2} = V(X) = \\int_{-\\infty}^{\\infty}(x - \\mu)^{2} \\cdot f(x)dx = E[(X - \\mu)^{2}]\n",
    "\\end{align*}"
   ]
  },
  {
   "cell_type": "markdown",
   "metadata": {},
   "source": [
    "La **desviacion estandar** (DE) de $X$ es $\\sigma_{X} = \\sqrt{V(X)}$"
   ]
  },
  {
   "cell_type": "markdown",
   "metadata": {},
   "source": [
    "**Proposicion:** $V(X) = E(X^{2}) - [E(X)]^{2}$"
   ]
  },
  {
   "cell_type": "markdown",
   "metadata": {},
   "source": [
    "## 4.3 Distribucion normal"
   ]
  },
  {
   "cell_type": "markdown",
   "metadata": {},
   "source": [
    "**Definicion:** Se dice que una variable aleatoria continua $X$ tiene una **distribucion normal** con parametros $\\mu$ y $\\sigma$ (o $\\mu$ y $\\sigma^{2}$), donde $-\\infty < \\mu < \\infty$ y $0 < \\sigma$, si la funcion de densidad de probabilidad de X es"
   ]
  },
  {
   "cell_type": "markdown",
   "metadata": {},
   "source": [
    "\\begin{align*}\n",
    "    f(x;\\mu,\\sigma) = \\frac{1}{\\sqrt{2\\pi}\\sigma}e^{-(x-\\mu)^{2}/(2\\sigma^{2})} && \\infty < x < \\infty\n",
    "\\end{align*}"
   ]
  },
  {
   "cell_type": "markdown",
   "metadata": {},
   "source": [
    "### Distribucion normal estandar"
   ]
  },
  {
   "cell_type": "markdown",
   "metadata": {},
   "source": [
    "El calculo de $P(a \\le X \\le b)$ cuando $X$ es una variable aleatoria normal con parametros $\\mu$ y $\\sigma$, requiere determinar"
   ]
  },
  {
   "cell_type": "markdown",
   "metadata": {},
   "source": [
    "\\begin{align*}\n",
    "    \\int_{a}^{b}\\frac{1}{\\sqrt{2\\pi}\\sigma}e^{-(x-\\mu)^{2}/(2\\sigma^{2})}dx\n",
    "\\end{align*}"
   ]
  },
  {
   "cell_type": "markdown",
   "metadata": {},
   "source": [
    "Ninguna de las tecnicas estandar de integracion puede ser utilizada para lograr esto. En cambio, con $\\mu = 0$ y $\\sigma = 1$, se calculo la expresion por medio de tecnicas numericas y se tabulo para ciertos valores de $a$ y $b$. Esta tabla tambien puede ser utilizada para calcular probabilidades con cualesquiera otros valores $\\mu$ y $\\sigma$ considerados."
   ]
  },
  {
   "cell_type": "markdown",
   "metadata": {},
   "source": [
    "**Definicion:** La distribucion normal con valores de parametro $\\mu = 0$ y $\\sigma = 1$ se llama **distribucion normal estandar.** Una variable aleatoria que tiene una distribucion normal estandar se llama **variable aleatoria normal estandar** y se denotara por $Z$. La funcion de densidad de probabilidad $Z$ es"
   ]
  },
  {
   "cell_type": "markdown",
   "metadata": {},
   "source": [
    "\\begin{align*}\n",
    "    f(z; 0, 1) = \\frac{1}{\\sqrt{2\\pi}}e^{-\\frac{z^{2}}{2}}& -\\infty < z < \\infty\n",
    "\\end{align*}"
   ]
  },
  {
   "cell_type": "markdown",
   "metadata": {},
   "source": [
    "La grafica de $f(z; 0, 1)$ se llama curva *normal estandar (o z).* Sus puntos de inflexion estan en 1 y -1. La funcion de distribucion acumulativa de $Z$ es $P(Z \\le z) = \\int_{-\\infty}^{z}f(y; 0, 1)dy$ la cual sera denotada por $\\Phi(z)$"
   ]
  },
  {
   "cell_type": "markdown",
   "metadata": {},
   "source": [
    "![image1](resources/imgs_cap4/img_cap4_05.png)\n",
    "\\begin{align*}\n",
    "    \\text{Areas acumulativas normales estandar tabuladas en la tabla A.3 del apendice.}\n",
    "\\end{align*}"
   ]
  },
  {
   "cell_type": "markdown",
   "metadata": {},
   "source": [
    "### Percentiles de la distribucion normal estandar"
   ]
  },
  {
   "cell_type": "markdown",
   "metadata": {},
   "source": [
    "Con cualquier $p$ entre 0 y 1, se puede utilizar la tabla A.3 del apendice para obtener el $(100p)°\\ percentil$ de la distribucion normal estandar."
   ]
  },
  {
   "cell_type": "markdown",
   "metadata": {},
   "source": [
    "### Notacion $Z_\\alpha$ para valores $Z$ criticos"
   ]
  },
  {
   "cell_type": "markdown",
   "metadata": {},
   "source": [
    "**Notacion:** $Z_\\alpha$ denotara el valor sobre el eje $z$ para el cual $\\alpha$ del area bajo la curva $z$ queda a la derecha de $Z_\\alpha$"
   ]
  },
  {
   "cell_type": "markdown",
   "metadata": {},
   "source": [
    "Por ejemplo, $z_{.10}$ captura el area de cola superior .10, y $z_{.01}$ captura el area de cola superior .01"
   ]
  },
  {
   "cell_type": "markdown",
   "metadata": {},
   "source": [
    "![image1](resources/imgs_cap4/img_cap4_06.png)\n",
    "\\begin{align*}\n",
    "    \\text{Notacion $Z_\\alpha$ ilustrada.}\n",
    "\\end{align*}"
   ]
  },
  {
   "cell_type": "markdown",
   "metadata": {},
   "source": [
    "### Distribucion normales no estandar"
   ]
  },
  {
   "cell_type": "markdown",
   "metadata": {},
   "source": [
    "Cuando $X \\sim N(\\mu,\\sigma^{2})$, las probabilidades que implican $X$ se calculan \"estandarizando\". La **variable estandarizada** es $(X - \\mu)/\\sigma$. Al restar $\\mu$ la media cambia de $\\mu$ a cero y luego al dividir entre $\\sigma$ cambian las escalas de la variable de modo que la desviacion estandar es 1 en lugar de $\\sigma$."
   ]
  },
  {
   "cell_type": "markdown",
   "metadata": {},
   "source": [
    "**Proposicion:** Si $X$ tiene una distribucion normal con media $\\mu$ y desviacion estandar $\\sigma$, entonces"
   ]
  },
  {
   "cell_type": "markdown",
   "metadata": {},
   "source": [
    "\\begin{align*}\n",
    "    Z = \\frac{X - \\mu}{\\sigma}\n",
    "\\end{align*}"
   ]
  },
  {
   "cell_type": "markdown",
   "metadata": {},
   "source": [
    "tiene una distribucion normal estandar. Por lo tanto"
   ]
  },
  {
   "cell_type": "markdown",
   "metadata": {},
   "source": [
    "\\begin{align*}\n",
    "    P(a \\le X \\le b) = P\\left(\\frac{a-\\mu}{\\sigma} \\le Z \\le \\frac{b-\\mu}{\\sigma}\\right)\n",
    "\\end{align*}"
   ]
  },
  {
   "cell_type": "markdown",
   "metadata": {},
   "source": [
    "\\begin{align*}\n",
    "    & = \\Phi\\left(\\frac{b-\\mu}{\\sigma}\\right)-\\Phi\\left(\\frac{a-\\mu}{\\sigma}\\right)\n",
    "\\end{align*}"
   ]
  },
  {
   "cell_type": "markdown",
   "metadata": {},
   "source": [
    "\\begin{align*}\n",
    "    P(X \\le a) = \\Phi\\left(\\frac{a-\\mu}{\\sigma}\\right) &&&&& P(X \\ge b) = 1 - \\Phi\\left(\\frac{b-\\mu}{\\sigma}\\right)\n",
    "\\end{align*}"
   ]
  },
  {
   "cell_type": "markdown",
   "metadata": {},
   "source": [
    "### Percentiles de una distribucion normal arbitraria"
   ]
  },
  {
   "cell_type": "markdown",
   "metadata": {},
   "source": [
    "**Proposicion:**\n",
    "\\begin{align*}\n",
    "    \\text{(100p)° percentil para ($\\mu$, $\\sigma$) normal = $\\mu$ + [(100p)° para normal estandar] $\\cdot$ $\\sigma$}\n",
    "\\end{align*}\n"
   ]
  },
  {
   "cell_type": "markdown",
   "metadata": {},
   "source": [
    "### Distribucion normal y poblaciones discretas"
   ]
  },
  {
   "cell_type": "markdown",
   "metadata": {},
   "source": [
    "La distribucion normal a menudo se utiliza como una aproximacion a la distribucion de valores en una poblacion discreta. En semejantes situaciones se debe tener cuidado especial para asegurarse de que las probabilidades se calculen con precision."
   ]
  },
  {
   "cell_type": "markdown",
   "metadata": {},
   "source": [
    "### Aproximacion de la distribucion binomial"
   ]
  },
  {
   "cell_type": "markdown",
   "metadata": {},
   "source": [
    "**Proposicion:** Sea $X$ una variable aleatoria binomial basada en $n$ ensayos con probabilidad de exito $p$. Entonces, si el histograma de probabilidad binomial no es demasiado asimetrico, $X$ tiene aproximadamente una distribucion normal con $\\mu = np$ y $\\sigma = \\sqrt{npq}$. En particular, con $x =$ un valor posible de $X$,"
   ]
  },
  {
   "cell_type": "markdown",
   "metadata": {},
   "source": [
    "\\begin{align*}\n",
    "    P(X \\le x) = B(x, n, p) \\approx \\left(\\text{area bajo la curva normal a la izquierda de x + .5}\\right) \\\\\n",
    "    = \\Phi\\left(\\frac{x + .5 - np}{\\sqrt{npq}}\\right)\n",
    "\\end{align*}"
   ]
  },
  {
   "cell_type": "markdown",
   "metadata": {},
   "source": [
    "En la practica, la aproximacion es adecuada siempre que $np \\ge 10$ y $nq \\ge 10$, puesto que en ese caso existe bastante simetria en la distribucion binomial subyacente."
   ]
  },
  {
   "cell_type": "markdown",
   "metadata": {},
   "source": [
    "## 4.4 Distribucion exponencial y gamma"
   ]
  },
  {
   "cell_type": "markdown",
   "metadata": {},
   "source": [
    "La curva de densidad correspondiente a cualquier distribucion normal tiene forma de campana y por consiguiente es simetrica. Existen muchas situaciones practicas en las cuales la variable de interes para un investigador podria tener una distribucion asimetrica. Una familia de distribuciones que tiene esta propiedad es la familia *gamma.* Primero se considera un caso especial, la distribucion *exponencial*, y luego se le generaliza mas adelante en esta seccion."
   ]
  },
  {
   "cell_type": "markdown",
   "metadata": {},
   "source": [
    "### Distribucion exponencial"
   ]
  },
  {
   "cell_type": "markdown",
   "metadata": {},
   "source": [
    "**Definicion:** Se dice que $X$ tiene una **distribucion exponencial** con parametros $\\lambda (\\lambda > 0)$ si la funcion de densidad de probabilidad de $X$ es"
   ]
  },
  {
   "cell_type": "markdown",
   "metadata": {},
   "source": [
    "\\begin{equation}\n",
    "  f(x;\\lambda) =\n",
    "    \\begin{cases}\n",
    "      \\lambda e^{-\\lambda x} & \\text{$x \\ge 0$}\\\\\n",
    "      0 & \\text{de lo contrario}\n",
    "    \\end{cases}       \n",
    "\\end{equation}"
   ]
  },
  {
   "cell_type": "markdown",
   "metadata": {},
   "source": [
    "___\n",
    "Algunas fuentes escriben la funcion de densidad de probabilidad exponencial en la forma $(1/\\beta)e^{-x/\\beta}$, de modo que $\\beta = 1/\\lambda$. El valor esperado de una variable aleatoria $X$ exponencialmente distribuida es"
   ]
  },
  {
   "cell_type": "markdown",
   "metadata": {},
   "source": [
    "\\begin{align*}\n",
    "    E(X) = \\int_{0}^{\\infty}x \\lambda e^{-\\lambda x} dx\n",
    "\\end{align*}"
   ]
  },
  {
   "cell_type": "markdown",
   "metadata": {},
   "source": [
    "Para obtener este valor esperado se requiere integrar por partes. La varianza de $X$ se calcula utilizando el hecho de que $V(X) = E(X^{2}) - [E(X)]^{2}$. La determinacion de $E(X^{2})$ requiere integrar por partes dos veces en sucesion. Los resultados de estas integraciones son los siguientes:"
   ]
  },
  {
   "cell_type": "markdown",
   "metadata": {},
   "source": [
    "\\begin{align*}\n",
    "    \\mu = \\frac{1}{\\lambda} &&&&&&& \\sigma^{2} = \\frac{1}{\\lambda^{2}}\n",
    "\\end{align*}"
   ]
  },
  {
   "cell_type": "markdown",
   "metadata": {},
   "source": [
    "Tanto la media como la desviacion estandar de la distribucion exponencia son iguales a $1/\\lambda$. En la siguiente figura aparecen varias graficas de varias funciones de densidad de probabilidad exponenciales."
   ]
  },
  {
   "cell_type": "markdown",
   "metadata": {},
   "source": [
    "![image1](resources/imgs_cap4/img_cap4_07.png)\n",
    "\\begin{align*}\n",
    "    \\text{Curvas de densidad exponencial.}\n",
    "\\end{align*}"
   ]
  },
  {
   "cell_type": "markdown",
   "metadata": {},
   "source": [
    "La funcion de densidad de probabilidad exponencial es facil de integrar para obtener la funcion de densidad acumulativa."
   ]
  },
  {
   "cell_type": "markdown",
   "metadata": {},
   "source": [
    "\\begin{equation*}\n",
    "  f(x; \\lambda) =\n",
    "    \\begin{cases}\n",
    "      0 & x < 0 \\\\\n",
    "      1 - e^{-\\lambda x} & x \\ge 0\n",
    "    \\end{cases}       \n",
    "\\end{equation*}"
   ]
  },
  {
   "cell_type": "markdown",
   "metadata": {},
   "source": [
    "La distribucion exponencial se utiliza con frecuencia como modelo de distribucion de tiempos entre la ocurrencia de eventos sucesivos, tales como clientes que llegan a una instalacion de servicio o llamadas que entran a un conmutador. La razon de esto es que la distribucion exponencial esta estrechamente relacionada con el proceso de Poisson discutido en el capitulo 3.\n",
    "___"
   ]
  },
  {
   "cell_type": "markdown",
   "metadata": {},
   "source": [
    "**Proposicion:** Suponga que el numero de eventos que ocurren en cualquier intervalo de tiempo de duracion $t$ tiene una distribucion de Poisson con parametro $\\alpha t$ (donde $\\alpha$, la tasa del proceso de eventos, es el numero esperado de eventos que ocurren en 1 unidad de tiempo) y que los numeros de ocurrencias en intervalos no traslapantes son independientes uno de otro. Entonces la distribucion del tiempo transcurrido entre la ocurrencia de dos eventos sucesivos es exponencial con parametro $\\lambda = \\alpha$."
   ]
  },
  {
   "cell_type": "markdown",
   "metadata": {},
   "source": [
    "### La funcion gamma"
   ]
  },
  {
   "cell_type": "markdown",
   "metadata": {},
   "source": [
    "**Definicion:** Con $\\alpha > 0$, la **funcion gamma** $\\Gamma(\\alpha)$ se define como"
   ]
  },
  {
   "cell_type": "markdown",
   "metadata": {},
   "source": [
    "\\begin{equation*}\n",
    "    \\Gamma(\\alpha) = \\int_{0}^{\\infty}x^{\\alpha - 1} e^{-x} dx\n",
    "\\end{equation*}"
   ]
  },
  {
   "cell_type": "markdown",
   "metadata": {},
   "source": [
    "#### Propiedades de la funcion gamma:"
   ]
  },
  {
   "cell_type": "markdown",
   "metadata": {},
   "source": [
    "1. Con cualquier $\\alpha > 1$, $\\Gamma(\\alpha) \\cdot \\Gamma(\\alpha - 1)$ [via integracion por partes]\n",
    "2. Con cualquier entero positivo, $n$, $\\Gamma(n) = (n - 1)!$\n",
    "3. $\\Gamma(\\frac{1}{2}) = \\sqrt{\\pi}$"
   ]
  },
  {
   "cell_type": "markdown",
   "metadata": {},
   "source": [
    "De acuerdo con la expresion $\\Gamma(\\alpha) = \\int_{0}^{\\infty}x^{\\alpha - 1} e^{-x} dx$ de la definicion, si"
   ]
  },
  {
   "cell_type": "markdown",
   "metadata": {},
   "source": [
    "\\begin{equation*}\n",
    "  f(x; \\alpha) =\n",
    "    \\begin{cases}\n",
    "      \\frac{x^{\\alpha - 1} e^{-x}}{\\Gamma(\\alpha)} & x \\ge 0 \\\\\n",
    "      0 & \\text{de lo contrario}\n",
    "    \\end{cases}       \n",
    "\\end{equation*}"
   ]
  },
  {
   "cell_type": "markdown",
   "metadata": {},
   "source": [
    "entonces $f(x;\\alpha) \\ge 0$ y $\\int_{0}^{\\infty}f(x;\\alpha)dx = \\Gamma(\\alpha)/\\Gamma(\\alpha) = 1$, asi que $f(x; \\alpha)$ satisface las dos propiedades basicas de una funcion de densidad de probabilidad."
   ]
  },
  {
   "cell_type": "markdown",
   "metadata": {},
   "source": [
    "### La distribucion gamma"
   ]
  },
  {
   "cell_type": "markdown",
   "metadata": {},
   "source": [
    "**Definicion:** Se dice que una variable aleatoria continua $X$ tiene una **distribucion gamma** si la funcion de densidad de probabilidad de $X$ es"
   ]
  },
  {
   "cell_type": "markdown",
   "metadata": {},
   "source": [
    "\\begin{equation*}\n",
    "  f(x; \\alpha, \\beta) =\n",
    "    \\begin{cases}\n",
    "      \\frac{1}{\\beta^{\\alpha}\\Gamma(\\alpha)} x^{\\alpha - 1} e^{-x/\\beta} & x \\ge 0 \\\\\n",
    "      0 & \\text{de lo contrario}\n",
    "    \\end{cases}       \n",
    "\\end{equation*}"
   ]
  },
  {
   "cell_type": "markdown",
   "metadata": {},
   "source": [
    "donde los parametros $\\alpha$ y $\\beta$ satisface $\\alpha > 0$, $\\beta > 0$. La **distribucion gamma estandar** tiene $\\beta = 1$, asi que"
   ]
  },
  {
   "cell_type": "markdown",
   "metadata": {},
   "source": [
    "\\begin{equation*}\n",
    "  f(x; \\alpha) =\n",
    "    \\begin{cases}\n",
    "      \\frac{x^{\\alpha - 1} e^{-x}}{\\Gamma(\\alpha)} & x \\ge 0 \\\\\n",
    "      0 & \\text{de lo contrario}\n",
    "    \\end{cases}       \n",
    "\\end{equation*}"
   ]
  },
  {
   "cell_type": "markdown",
   "metadata": {},
   "source": [
    "da la funcion de densidad de probabilidad de una variable aleatoria gamma estandar."
   ]
  },
  {
   "cell_type": "markdown",
   "metadata": {},
   "source": [
    "**Proposicion:** Si $X$ tiene una distribucion gamma con parametros $\\alpha$ y $\\beta$, entonces con cualquier $x > 0$, la funcion de distribucion acumulativa de $X$ es"
   ]
  },
  {
   "cell_type": "markdown",
   "metadata": {},
   "source": [
    "\\begin{equation*}\n",
    "    P(X \\le x) = F(x; \\alpha, \\beta) = F\\left(\\frac{x}{\\beta}; \\alpha\\right)\n",
    "\\end{equation*}"
   ]
  },
  {
   "cell_type": "markdown",
   "metadata": {},
   "source": [
    "donde $F(\\bullet; \\alpha)$ es la funcion gamma incompleta."
   ]
  },
  {
   "cell_type": "markdown",
   "metadata": {},
   "source": [
    "### Distribucion ji cuadrada"
   ]
  },
  {
   "cell_type": "markdown",
   "metadata": {},
   "source": [
    "La distribucion ji cuadrada es importante porque es la base de varios procedimientos de inferencia estadistica. El papel central desempenado por la distribucion ji cuadrada en inferencia se deriva de su relacion con distribuciones normales. Se discutira esta distribucion con mas detalle en capitulos posteriores."
   ]
  },
  {
   "cell_type": "markdown",
   "metadata": {},
   "source": [
    "**Definicion:** Sea $v$ un entero positivo. Se dice entonces que una variable aleatoria $X$ tiene una **distribucion ji cuadrada** con parametro $v$ si la funcion de densidad de probabilidad de $X$ es la densidad gamma con $\\alpha = v/2$ y $\\beta = 2$. La funcion de densidad de probabilidad de una variable aleatoria ji cuadrada es por lo tanto"
   ]
  },
  {
   "cell_type": "markdown",
   "metadata": {},
   "source": [
    "\\begin{equation*}\n",
    "  f(x; v) =\n",
    "    \\begin{cases}\n",
    "      \\frac{1}{2^{v/2}\\Gamma(v/2)} x^{(v/2)-1} e^{-x/2} & x \\ge 0 \\\\\n",
    "      0 & \\text{de lo contrario}\n",
    "    \\end{cases}       \n",
    "\\end{equation*}"
   ]
  },
  {
   "cell_type": "markdown",
   "metadata": {},
   "source": [
    "El parametro $v$ se llama **numero de grados de libertad** (gl) de $X$. A menudo se utiliza el simbolo $\\chi^{2}$ en lugar de *ji cuadrada*."
   ]
  }
 ],
 "metadata": {
  "kernelspec": {
   "display_name": "Python 3 (ipykernel)",
   "language": "python",
   "name": "python3"
  },
  "language_info": {
   "codemirror_mode": {
    "name": "ipython",
    "version": 3
   },
   "file_extension": ".py",
   "mimetype": "text/x-python",
   "name": "python",
   "nbconvert_exporter": "python",
   "pygments_lexer": "ipython3",
   "version": "3.9.7"
  }
 },
 "nbformat": 4,
 "nbformat_minor": 2
}
