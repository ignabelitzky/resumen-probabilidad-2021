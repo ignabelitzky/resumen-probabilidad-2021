{
 "cells": [
  {
   "cell_type": "markdown",
   "metadata": {},
   "source": [
    "# Capitulo 4 - Variables aleatorias continuas y distribuciones de probabilidad"
   ]
  },
  {
   "cell_type": "markdown",
   "metadata": {},
   "source": [
    "## Funciones de densidad de probabilidad"
   ]
  },
  {
   "cell_type": "markdown",
   "metadata": {},
   "source": [
    "### Distribuciones de probabilidad de variables continuas"
   ]
  },
  {
   "cell_type": "markdown",
   "metadata": {},
   "source": [
    "**Definicion:** Sea X una variable aleatoria continua. Entonces, una **distribucion de probabilidad** o **funcion de densidad de probabilidad** (fdp) de X es una funcion f(x) tal que para dos numeros cualesquiera $a$ y $b$ con $a \\le b$\n",
    "\n",
    "\\begin{align*}P(a \\le X \\le b) = \\int_{a}^{b}f(x)\\end{align*}\n",
    "\n",
    "Es decir, la probabilidad de que X asuma un valor en el intervalo [a, b] es el area sobre este intervalo y bajo la grafica de la funcion de densidad, como se ilustra en la figura 4.1. La grafica de $f(x)$ a menudo se conoce como *curva de densidad*"
   ]
  },
  {
   "cell_type": "code",
   "execution_count": 1,
   "metadata": {},
   "outputs": [],
   "source": [
    "import matplotlib.pyplot as plt\n",
    "import numpy as np"
   ]
  },
  {
   "cell_type": "code",
   "execution_count": 2,
   "metadata": {
    "scrolled": true
   },
   "outputs": [
    {
     "data": {
      "image/png": "[encoded data removed]",
      "text/plain": [
       "<Figure size 432x288 with 1 Axes>"
      ]
     },
     "metadata": {
      "needs_background": "light"
     },
     "output_type": "display_data"
    }
   ],
   "source": [
    "def f(x):\n",
    "    return 1-(x-1)**2\n",
    "\n",
    "size = 50\n",
    "xPoints = np.linspace(0, 2, size)\n",
    "yPoints = f(xPoints)\n",
    "\n",
    "plt.figure()\n",
    "plt.plot(xPoints, yPoints, 'r-')\n",
    "plt.xlabel(\"Eje X\")\n",
    "plt.ylabel(\"Eje Y\")\n",
    "plt.grid()\n",
    "plt.show()"
   ]
  },
  {
   "cell_type": "markdown",
   "metadata": {},
   "source": [
    "**TO-DO: MEJORAR EL GRAFICO DE ARRIBA (FALTA MARCAR AREA VER LIBRO - PRINCIPIO CAPITULO 4)**"
   ]
  },
  {
   "cell_type": "markdown",
   "metadata": {},
   "source": [
    "Para que $f(x)$ sea una funcion de densidad de probabilidad legitima, debe satisface las dos siguientes condiciones:\n",
    "1. $f(x) \\ge 0$ con todas las x\n",
    "2. \\begin{align}\\int_{-\\infty}^{\\infty}f(x)d(x) = area\\ bajo\\ toda\\ la\\ grafica\\ de\\ f(x)\\end{align}\n",
    "\\begin{align} = 1 \\end{align}"
   ]
  },
  {
   "cell_type": "markdown",
   "metadata": {},
   "source": [
    "**Definicion:** Se dice que una variable aleatoria continua X tiene una **distribucion uniforme** en el intervalo [A, B] si la funcion de densidad de probabilidad de X es"
   ]
  },
  {
   "cell_type": "markdown",
   "metadata": {},
   "source": [
    "$f(x;A, B) = 1/(B-A) \\text{ si } A \\le x \\le B\\\\\n",
    "\\text{o}\\\\\n",
    "f(x;A, B) = 0 \\text{ de lo contrario}$\n",
    "\n",
    "**TO-DO: HACER BIEN LA FUNCION POR PARTES CON LA LLAVE GRANDE**"
   ]
  },
  {
   "cell_type": "markdown",
   "metadata": {},
   "source": [
    "## Funciones de distribucion acumulativa y valores esperados"
   ]
  },
  {
   "cell_type": "markdown",
   "metadata": {},
   "source": [
    "**Definicion:** La **funcion de distribucion acumulativa** F(x) de una variable aleatoria continua X se define para todo numero x como\n",
    "\n",
    "\\begin{align}F(x) = P(X \\le x) = \\int_{-\\infty}^{x}f(y)dy\\end{align}\n",
    "\n",
    "Para cada $x$, $F(x)$ es el area bajo la curva de densidad a la izquierda de x. Esto se ilustra en la figura XX, donde $F(x)$ se incrementa con suavidad a medida que $x$ se incrementa.\n"
   ]
  },
  {
   "cell_type": "markdown",
   "metadata": {},
   "source": [
    "**TO-DO: ACA VA UN GRAFICO... CHEQUEAR LIBRO**"
   ]
  },
  {
   "cell_type": "markdown",
   "metadata": {},
   "source": [
    "### Utilizacion de $F(x)$ para calcular probabilidades"
   ]
  },
  {
   "cell_type": "markdown",
   "metadata": {},
   "source": [
    "**Proposicion:** Sea $X$ una variable aleatoria continua con funcion de densidad de probrabilidad $f(x)$ y funcion de distribucion acumulativa $F(x)$. Entonces para cualquier numero $a$,\n",
    "\n",
    "\\begin\\{align}P(X > a) = 1 - F(a)\\end\\{align}\n",
    "\n",
    "y para dos numero cualesquiera $a$ y $b$ con $a < b$,\n",
    "\n",
    "\\begin\\{align}P(a \\le X \\le b) = F(b) - F(a)\\end\\{align}"
   ]
  },
  {
   "cell_type": "markdown",
   "metadata": {},
   "source": [
    "**TO-DO: ACA VA UN GRAFICO... CHEQUEAR LIBRO**"
   ]
  },
  {
   "cell_type": "markdown",
   "metadata": {},
   "source": [
    "### Obtencion de $f(x)$ a partir de $F(x)$"
   ]
  },
  {
   "cell_type": "markdown",
   "metadata": {},
   "source": [
    "**Proposicion:** Si $X$ es una variable aleatoria continua con funcion de densidad de probabilidad $f(x)$ y funcion de distribucion acumulativa $F(x)$, entonces en cada $x$ que hace posible que la derivada $F'(x)$ exista, $F'(x) = f(x)$"
   ]
  },
  {
   "cell_type": "markdown",
   "metadata": {},
   "source": [
    "### Percentiles de una distribucion continua"
   ]
  },
  {
   "cell_type": "markdown",
   "metadata": {},
   "source": [
    "**Definicion:** Sea $p$ un numero entre 0 y 1. El $(100p) percentil$ de la distribucion de una variable aleatoria continua $X$, denotada por $\\eta(p)$, se define como\n",
    "\n",
    "\\begin\\{align}p = F(\\eta(p)) = \\int_{-\\infty}^{\\eta(p)}f(y)dy\\end\\{align}"
   ]
  },
  {
   "cell_type": "markdown",
   "metadata": {},
   "source": [
    "**TO-DO: ACA VA UN GRAFICO**"
   ]
  },
  {
   "cell_type": "markdown",
   "metadata": {},
   "source": [
    "**Definicion:** La **mediana**  de una distribucion continua, denotada por $\\tilde{\\mu}$, es el 50 percentil, asi que $\\tilde{\\mu}$ satisface .5 $= F(\\tilde{\\mu})$. Es decir, la mitad del area bajo la curva de densidad se encuentra a la izquierda de $\\tilde{\\mu}$ y la mitad a la derecha de $\\tilde{\\mu}$."
   ]
  },
  {
   "cell_type": "markdown",
   "metadata": {},
   "source": [
    "### Valores esperados"
   ]
  },
  {
   "cell_type": "markdown",
   "metadata": {},
   "source": [
    "**Definicion:** El **valor esperado** o **valor medio** de una variable aleatoria continua $X$ con funcion de densidad de probabilidad $f(x)$ es"
   ]
  },
  {
   "cell_type": "markdown",
   "metadata": {},
   "source": [
    "\\begin\\{align}\\mu_{x} = E(X) = \\int_{-\\infty}^{\\infty}x.f(x) dx\\end\\{align}"
   ]
  },
  {
   "cell_type": "markdown",
   "metadata": {},
   "source": [
    "**Proposicion:** Si $X$ es una variable aleatoria continua con funcion de densidad de probabilidad $f(x)$ y $h(x)$ es cualquier funcion de $X$, entonces"
   ]
  },
  {
   "cell_type": "markdown",
   "metadata": {},
   "source": [
    "\\begin\\{align}E[h(X)] = \\mu_{h(x)} = \\int_{-\\infty}^{\\infty}h(x) . f(x)dx\\end\\{align}"
   ]
  },
  {
   "cell_type": "markdown",
   "metadata": {},
   "source": [
    "**Definicion:** La **varianza** de una variable aleatoria continua $X$ con funcion de densidad de probabilidad $f(x)$ y valor medio $\\mu$ es"
   ]
  },
  {
   "cell_type": "markdown",
   "metadata": {},
   "source": [
    "\\begin\\{align}\\sigma_{X}^{2} = V(X) = \\int_{-\\infty}^{\\infty}(x - \\mu)^{2} . f(x)dx = E[(X - \\mu)^{2}]\\end\\{align}"
   ]
  },
  {
   "cell_type": "markdown",
   "metadata": {},
   "source": [
    "La **desviacion estandar** (DE) de $X$ es $\\sigma_{X} = \\sqrt{V(X)}$"
   ]
  },
  {
   "cell_type": "markdown",
   "metadata": {},
   "source": [
    "**Proposicion:** $V(X) = E(X^{2}) - [E(X)]^{2}$"
   ]
  },
  {
   "cell_type": "markdown",
   "metadata": {},
   "source": [
    "## Distribucion normal"
   ]
  },
  {
   "cell_type": "markdown",
   "metadata": {},
   "source": [
    "**Definicion:** Se dice que una variable aleatoria continua $X$ tiene una **distribucion normal** con parametros $\\mu$ y $\\sigma$ (o $\\mu$ y $\\sigma^{2}$), donde $-\\infty < \\mu < \\infty$ y $0 < \\sigma$, si la funcion de densidad de probabilidad de X es"
   ]
  },
  {
   "cell_type": "markdown",
   "metadata": {},
   "source": [
    "\\begin\\{align}f(x;\\mu,\\sigma) = \\frac{1}{\\sqrt{2\\pi}\\sigma}e^{-(x-\\mu)^{2}/(2\\sigma^{2})}&-\\infty < x < \\infty \\end\\{align}"
   ]
  }
 ],
 "metadata": {
  "kernelspec": {
   "display_name": "Python 3",
   "language": "python",
   "name": "python3"
  },
  "language_info": {
   "codemirror_mode": {
    "name": "ipython",
    "version": 3
   },
   "file_extension": ".py",
   "mimetype": "text/x-python",
   "name": "python",
   "nbconvert_exporter": "python",
   "pygments_lexer": "ipython3",
   "version": "3.7.3"
  }
 },
 "nbformat": 4,
 "nbformat_minor": 2
}
