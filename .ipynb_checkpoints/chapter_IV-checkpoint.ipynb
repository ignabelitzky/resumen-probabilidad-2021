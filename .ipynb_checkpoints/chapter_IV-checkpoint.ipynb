{
 "cells": [
  {
   "cell_type": "markdown",
   "id": "e3734c06",
   "metadata": {},
   "source": [
    "# Variables aleatorias continuas"
   ]
  },
  {
   "cell_type": "markdown",
   "id": "58c5cca5",
   "metadata": {},
   "source": [
    "En la vida diaria nos encontramos con variables que no son discretas, como por ejemplo: la cantidad diaria de lluvia caida en cierta region, el tiempo de vida de cierto tipo de componentes electronicos, la profundidad en un lago para puntos aleatoriamente elegidos, etc."
   ]
  },
  {
   "cell_type": "markdown",
   "id": "c04e2422",
   "metadata": {},
   "source": [
    "En todos estos ejemplos los valores posibles no es un conjunto finito ni infinito numerables, son intervalos o semirectas."
   ]
  },
  {
   "cell_type": "markdown",
   "id": "d66921fb",
   "metadata": {},
   "source": [
    "### Definicion:"
   ]
  },
  {
   "cell_type": "markdown",
   "id": "33e73324",
   "metadata": {},
   "source": [
    "Sea *X* una variablee aleatoria sobre un modelo probabilistico $(S, A, P)$, se dice que *X* es una **variable aleatoria continua** si"
   ]
  },
  {
   "cell_type": "markdown",
   "id": "9560f2b9",
   "metadata": {},
   "source": [
    "\\begin{align}\n",
    "    P(X = x) &= 0 & \\forall x \\in \\mathbb{R}\n",
    "\\end{align}"
   ]
  },
  {
   "cell_type": "markdown",
   "id": "b4fd81ea",
   "metadata": {},
   "source": [
    "Sea *X* una variable aleatoria sobre un modelo probabilistico $(S, A, P)$ recordemos la definicion de funcion de distribucion acumulada (f.d.a.) de una variable aleatoria *X* es:"
   ]
  },
  {
   "cell_type": "markdown",
   "id": "d4f700ea",
   "metadata": {},
   "source": [
    "\\begin{align}\n",
    "    F(x) &= P(X \\le x) & \\forall x \\in \\mathbb{R}\n",
    "\\end{align}"
   ]
  },
  {
   "cell_type": "markdown",
   "id": "c8215374",
   "metadata": {},
   "source": [
    "Entonces de la definicion de una variable aleatoria continua resulta que:\n",
    "1.  \n",
    "\n",
    "\\begin{align}\n",
    "    P(a < X \\le b) &= P(a \\le X \\le b) \\\\\n",
    "    &= P(a \\le X < b) \\\\\n",
    "    &= P(a < X < b) \\\\\n",
    "    &= F(b) - F(a)\n",
    "\\end{align}\n",
    "$$\\forall a < b \\text{ numeros reales.}$$  \n",
    "\n",
    "2.  \n",
    "$$P(X \\ge a) = P(X > a) = 1 - F(a)\\ \\ \\forall a \\in \\mathbb{R}$$"
   ]
  },
  {
   "cell_type": "markdown",
   "id": "954fce7b",
   "metadata": {},
   "source": [
    "**Observacion:** Algunas de estas igualdades podrian no ser verdaderas si la variable aleatoria es discreta!!!"
   ]
  },
  {
   "cell_type": "markdown",
   "id": "442d70b4",
   "metadata": {},
   "source": [
    "Daremos una proposicion que sera muy ultil para probar las propiedades de la f.d.a. (F)."
   ]
  },
  {
   "cell_type": "markdown",
   "id": "7f8c4079",
   "metadata": {},
   "source": [
    "### Proposicion:"
   ]
  },
  {
   "cell_type": "markdown",
   "id": "9d0a9c35",
   "metadata": {},
   "source": [
    "Sea $(S, A, P)$ un modelo probabilistico entonces  \n",
    "**a)**  \n",
    "Si $A_{1} \\subseteq A_{2} \\subseteq A_{3} \\subseteq \\cdots$ es una sucesion de eventos encajados entonces\n",
    "$$ P(\\cup_{i=1}^{\\infty} A_{i}) = \\lim\\limits_{n \\to \\infty} P(A_{n}). $$  \n",
    "**b)**  \n",
    "Si $B_{1} \\supseteq B_{2} \\supseteq B_{3} \\supseteq \\cdots$ es una sucesion de eventos encajados entonces  \n",
    "$$ P(\\cap_{i=1}^{\\infty} B_{i}) = \\lim\\limits_{n \\to \\infty} P(B_{n}). $$"
   ]
  },
  {
   "cell_type": "markdown",
   "id": "01bdfbc1",
   "metadata": {},
   "source": [
    "## Propiedades de la f.d.a. (F) de una variable aleatoria."
   ]
  },
  {
   "cell_type": "markdown",
   "id": "9301e6de",
   "metadata": {},
   "source": [
    "Si $(S, A, P)$ un modelo probabilistico y *X* una variable aleatoria con f.d.a. *F*, entonces  \n",
    "**a)** F es monotona creciente, o sea si $x_{1} \\le x_{2} \\Rightarrow F(x_{1}) \\le F(x_{2}).$  \n",
    "**b)** $\\lim\\limits_{x \\to \\infty} F(x) = 1$ y $\\lim\\limits_{x \\to -\\infty} F(x) = 0.$  \n",
    "**c)** $\\forall \\ a \\in \\mathbb{R}$ entonces $\\lim\\limits_{x \\to a^{+}} F(x) = F(a)$  \n",
    "**d)** Si *X* es una variable aleatoria continua entonces  \n",
    "$$\\lim\\limits_{x \\to a^{-}} F(x) = \\lim\\limits_{x \\to a^{+}} F(x) = F(a)\\ \\ \\ \\forall a \\in \\mathbb{R}$$  \n",
    "Luego F es continua en $\\mathbb{R}$"
   ]
  },
  {
   "cell_type": "markdown",
   "id": "17cd727e",
   "metadata": {},
   "source": [
    "En general las f.d.a. (F) de variables aleatorias continuas definidas en termino de funciones que llamaremos funcion densidad de probabilidad."
   ]
  },
  {
   "cell_type": "markdown",
   "id": "0ab83abe",
   "metadata": {},
   "source": [
    "### Definicion:"
   ]
  },
  {
   "cell_type": "markdown",
   "id": "fffc6e4e",
   "metadata": {},
   "source": [
    "Se llama **funcion densidad de probabilidad** (f.d.p.) a toda funcion\n",
    "$$ f:\\mathbb{R} \\rightarrow \\mathbb{R} \\text{ no negativa tal que } \\int_{-\\infty}^{\\infty} f(t)\\ dt = 1. $$"
   ]
  },
  {
   "cell_type": "markdown",
   "id": "d3b36a8d",
   "metadata": {},
   "source": [
    "### Definicion:"
   ]
  },
  {
   "cell_type": "markdown",
   "id": "79f2e772",
   "metadata": {},
   "source": [
    "Sea *X* una variable aleatoria continua con f.d.a. *F* y f.d.p. *f*. Entonces si  \n",
    "\\begin{align}\n",
    "    F(x) &= \\int_{-\\infty}^{x} f(t)\\ dt & \\forall x \\in \\mathbb{R}\n",
    "\\end{align}\n",
    "se dice que *X* es una **variable aleatoria absolutamente continua.**"
   ]
  },
  {
   "cell_type": "markdown",
   "id": "d2888ce9",
   "metadata": {},
   "source": [
    "Luego si *X* es una v.a. absolutamente continua entonces $\\forall a < b$"
   ]
  },
  {
   "cell_type": "markdown",
   "id": "623f7d58",
   "metadata": {},
   "source": [
    "\\begin{align}\n",
    "    P(a \\le X \\le b) = F(b) - F(a) = \\int_{a}^{b} f(t) dt\n",
    "\\end{align}"
   ]
  },
  {
   "cell_type": "markdown",
   "id": "7b8c88be",
   "metadata": {},
   "source": [
    "![Image 1](resources/imgs_chapter_iv/img_1.png)"
   ]
  },
  {
   "cell_type": "markdown",
   "id": "70e83e4f",
   "metadata": {},
   "source": [
    "### Proposicion:"
   ]
  },
  {
   "cell_type": "markdown",
   "id": "a0d57fab",
   "metadata": {},
   "source": [
    "Si *X* es una v.a. con f.d.a. F tal que tenga derivada continua, salvo en un conjunto finito de valores, entonces *X* es absolutamente continua y su f.d.p. esta dado por\n",
    "\n",
    "\\begin{equation}\n",
    "  f(x) =\n",
    "    \\begin{cases}\n",
    "      F'(x), & \\forall x \\text{ donde exista} \\\\\n",
    "      0 & \\text{en caso contrario}\n",
    "    \\end{cases}       \n",
    "\\end{equation}"
   ]
  },
  {
   "cell_type": "markdown",
   "id": "61b0d665",
   "metadata": {},
   "source": [
    "En este curso nos concentraremos en trabajar con v.a. absolutamente continuas."
   ]
  },
  {
   "cell_type": "markdown",
   "id": "37e074ec",
   "metadata": {},
   "source": [
    "### Definicion:"
   ]
  },
  {
   "cell_type": "markdown",
   "id": "fdece3da",
   "metadata": {},
   "source": [
    "Sea $p \\in (0;\\ 1)$ y *X* una variable aleatoria continua sobre (S, A, P) y con f.d.a. F entonces se llama **percentil (p 100) o cuantil p de X** al valor **$\\eta(p)$** tal que\n",
    "$$ p = F(\\eta(p)) $$"
   ]
  },
  {
   "cell_type": "markdown",
   "id": "2bf90d6c",
   "metadata": {},
   "source": [
    "Si la grafica de la f.d.p. de *X* es"
   ]
  },
  {
   "cell_type": "markdown",
   "id": "e009bf8c",
   "metadata": {},
   "source": [
    "![Image 2](resources/imgs_chapter_iv/img_2.png)"
   ]
  },
  {
   "cell_type": "markdown",
   "id": "5c8fb072",
   "metadata": {},
   "source": [
    "### Proposicion:"
   ]
  },
  {
   "cell_type": "markdown",
   "id": "cfce762d",
   "metadata": {},
   "source": [
    "Sea *X* una variable aleatoria continua con f.d.a. $F_{X}$ y $\\eta_{X}(q)$, con $q \\in [0;\\ 1]$. Si $Y = aX + b$ con $a \\ne 0$ y $b \\in \\mathbb{R}$ y $p \\in [0;\\ 1]$ entonces\n",
    "\\begin{equation}\n",
    "    \\eta_{Y}(p) =\n",
    "    \\begin{cases}\n",
    "        a \\eta_{X} (p) + b & \\text{si } a > 0 \\\\\n",
    "        a \\eta_{X} (1 - p) + b & \\text{si } a < 0\n",
    "    \\end{cases}\n",
    "\\end{equation}"
   ]
  },
  {
   "cell_type": "markdown",
   "id": "f5069645",
   "metadata": {},
   "source": [
    "## Esperanza y Varianza de una variable aleatoria continua"
   ]
  },
  {
   "cell_type": "markdown",
   "id": "6097e901",
   "metadata": {},
   "source": [
    "### Definicion:"
   ]
  },
  {
   "cell_type": "markdown",
   "id": "78b0c319",
   "metadata": {},
   "source": [
    "Sea *X* una variable aleatoria continua sobre $(S, A, P)$ y con funcion de densidad de probabilidad $f$ entonces se define el **valor esperado o valor media o esperanza de X** a  \n",
    "$\\int_{-\\infty}^{\\infty} x f(x)dx$ siempre que $\\int_{-\\infty}^{\\infty} |x| f(x) dx < \\infty$\n",
    "\n",
    "**Notacion:** $E(X) = \\mu$"
   ]
  },
  {
   "cell_type": "markdown",
   "id": "a5655c39",
   "metadata": {},
   "source": [
    "Como calcular la esperanza de una funcion de una variable aleatoria continua X? sin necesidad de hallar su f.d.p."
   ]
  },
  {
   "cell_type": "markdown",
   "id": "10f1737a",
   "metadata": {},
   "source": [
    "### Proposicion:"
   ]
  },
  {
   "cell_type": "markdown",
   "id": "933358d0",
   "metadata": {},
   "source": [
    "Sea *X* una variable aleatoria continua $(S, A, P)$ y con f.d.p. $f$. Si $h(X)$ es una variable aleatoria continua entonces\n",
    "\n",
    "\\begin{align}\n",
    "    E(h(X)) = \\int_{-\\infty}^{\\infty} h(x) f(x) dx\n",
    "\\end{align}\n",
    "\n",
    "siempre que $\\int_{-\\infty}^{\\infty} |h(x)| f(x) dx < \\infty.$"
   ]
  },
  {
   "cell_type": "markdown",
   "id": "2bccb0b2",
   "metadata": {},
   "source": [
    "### Definicion:"
   ]
  },
  {
   "cell_type": "markdown",
   "id": "663bde7f",
   "metadata": {},
   "source": [
    "Sea *X* una variable aleatoria continua con f.d.p. $f$ entonces se define la **varianza de X** como $E((X - \\mu)^{2}) = \\int_{-\\infty}^{\\infty} (x - \\mu)^{2} f(x) dx$ siempre que $E(X^{2}) < \\infty$ y donde $\\mu = E(X)$.  \n",
    "y se llama **desviacion estandar de X** a la raiz cuadrada de la varianza.\n",
    "\n",
    "**Notacion:** Para la varianza $V(X) = \\sigma^{2}$ y para el desvio estandar $\\sigma$."
   ]
  },
  {
   "cell_type": "markdown",
   "id": "99ffabda",
   "metadata": {},
   "source": [
    "### Proposicion:"
   ]
  },
  {
   "cell_type": "markdown",
   "id": "5dc38173",
   "metadata": {},
   "source": [
    "Sea *X* una variable aleatoria continua $f$ f.d.p. y $E(X^{2}) < \\infty$ entonces\n",
    "\n",
    "a) $0 \\le V(X) = E(X^{2}) - \\mu^{2}$ donde $\\mu = E(X).$  \n",
    "b) \\begin{align}\n",
    "    E(aX + b) &= aE(X) + b & \\text{ y} \\\\\n",
    "    V(aX + b) &= a^{2} V(X);\\ \\forall a,\\ b \\in \\mathbb{R}\n",
    "\\end{align}"
   ]
  },
  {
   "cell_type": "markdown",
   "id": "fdbfe478",
   "metadata": {},
   "source": [
    "## Distribucion Uniforme"
   ]
  },
  {
   "cell_type": "markdown",
   "id": "d28e5785",
   "metadata": {},
   "source": [
    "### Definicion:"
   ]
  },
  {
   "cell_type": "markdown",
   "id": "de21adaa",
   "metadata": {},
   "source": [
    "Sea *X* una variable aleatoria continua entonces diremos que tiene **distribucion Uniforme en el intervalo [a, b]** si su funcion densidad de probabilidad es\n",
    "\\begin{equation}\n",
    "    f(x) =\n",
    "    \\begin{cases}\n",
    "        \\frac{1}{(b-a)}, & si\\ x \\in [a, b] \\\\\n",
    "        0, & caso\\ contrario.\n",
    "    \\end{cases}\n",
    "\\end{equation}"
   ]
  },
  {
   "cell_type": "markdown",
   "id": "0bc2ba5a",
   "metadata": {},
   "source": [
    "**Notacion:** $X \\sim U[a, b].$"
   ]
  },
  {
   "cell_type": "markdown",
   "id": "af8e1f03",
   "metadata": {},
   "source": [
    "Caso particular es cuando $a = 0$ y $b = 1$, la que es muy util para estudios de simulacion."
   ]
  },
  {
   "cell_type": "markdown",
   "id": "0fde8be2",
   "metadata": {},
   "source": [
    "### Proposicion:"
   ]
  },
  {
   "cell_type": "markdown",
   "id": "7c167f03",
   "metadata": {},
   "source": [
    "Si $X \\sim U[0, 1]$ entonces:  \n",
    "a) Sea $p \\in (0, 1)$ entonces $\\eta_{X}(p) = p.$  \n",
    "b) $E(X) = \\frac{1}{2}$ y $V(X) = \\frac{1}{12}.$  \n",
    "c) Para cualquier $a < b$ numeros reales y sea la v.a. $Y = (b-a)X + a$ entonces  \n",
    "i)  \n",
    "\\begin{align}\n",
    "    Y \\sim U[a, b]\n",
    "\\end{align}\n",
    "ii)  \n",
    "\\begin{align}\n",
    "    \\eta_{Y}(p) = (b - a)p + a \\text{ para cualquier p } \\in (0, 1).\n",
    "\\end{align}\n",
    "iii)\n",
    "\\begin{align}\n",
    "    E(Y) = \\frac{a + b}{2} \\text{ y } V(Y) = \\frac{(b-a)^{2}}{12}.\n",
    "\\end{align}"
   ]
  },
  {
   "cell_type": "markdown",
   "id": "2159e95d",
   "metadata": {},
   "source": [
    "### Ejemplo:"
   ]
  },
  {
   "cell_type": "markdown",
   "id": "ada812b1",
   "metadata": {},
   "source": [
    "El tiempo (en minutos) que tarda un camion en realizar un viaje (ida y vuelta), para transportar concreto hacia una obra en construccion, tiene distribucion uniforme en el intervalo [50, 70].  \n",
    "\n",
    "a) Cual es la probabilidad que la duracion del viaje de un camion sea menor de 65 minutos?  \n",
    "\n",
    "b) Cual es la probabilidad que la duracion del viaje de un camion sea mayor de 65 minutos dado que se sabe que fue mayor a 55 minutos?  \n",
    "\n",
    "c) Dar el valor medio y desviacion estandar del tiempo que tarda un camion en realizar un viaje (ida y vuelta), para transportar concreto hacia esta obra en construccion.  \n",
    "\n",
    "d) Suponga que los tiempose que tardan cada uno de tres camiones en realizar un viaje (ida y vuelta), para transportar concreto hacia esta obra en construccion, son independientes entre si. Cual es la probabilidad que por lo menos uno de ellos tarde mas de 65 minutos?"
   ]
  },
  {
   "cell_type": "markdown",
   "id": "429500f9",
   "metadata": {},
   "source": [
    "## Distribucion normal o gaussiana"
   ]
  },
  {
   "cell_type": "markdown",
   "id": "c8a5673a",
   "metadata": {},
   "source": [
    "Esta distribucion es una de las mas importantes dentro de la Teoria de la Probabilidad y Estadistica. Muchas variables pueden ser aproximadas por esta distribucion, como ser: errores de medicion en experimentos cientificos, calificaciones en diversas pruebas, mediciones antropometricas, tiempo de reaccion en experimentos sicologicos, etc."
   ]
  },
  {
   "cell_type": "markdown",
   "id": "e6dbf033",
   "metadata": {},
   "source": [
    "### Definicion:"
   ]
  },
  {
   "cell_type": "markdown",
   "id": "d6e7ec7b",
   "metadata": {},
   "source": [
    "Sea *X* una variable aleatoria continua entonces diremos que tiene **distribucion Normal de parametros $\\mu$ y $\\sigma^{2}$** si su funcion de densidad de probabilidad es\n",
    "$$ f(x, \\mu, \\sigma^{2}) = \\frac{1}{\\sqrt{2\\pi\\sigma^{2}}} e^{-(x-\\mu)^{2}/(2\\sigma^{2})} \\forall x \\in \\mathbb{R}.$$\n",
    "donde $\\mu \\in \\mathbb{R}$ y $\\sigma > 0.$\n",
    "\n",
    "**Notacion:** $X \\sim N(\\mu, \\sigma^{2}).$"
   ]
  },
  {
   "cell_type": "markdown",
   "id": "7bc8fa80",
   "metadata": {},
   "source": [
    "### Propiedades de la f.d.p. de una $N(\\mu, \\sigma^{2})$"
   ]
  },
  {
   "cell_type": "markdown",
   "id": "69d6f86c",
   "metadata": {},
   "source": [
    "a) $f(x,\\mu,\\sigma^{2}) \\ge 0 \\forall x \\in \\mathbb{R}$ y $\\int_{-\\infty}^{\\infty} f(x, \\mu, \\sigma^{2}) dx = 1. $  \n",
    "\n",
    "b) Simetrica respecto de $\\mu$, o sea si\n",
    "$$ f(\\mu-x, \\mu, \\sigma^{2}) = f(\\mu + x, \\mu, \\sigma^{2}) \\forall x \\in \\mathbb{R}$$  \n",
    "\n",
    "c) Tiene un punto de macimo en $\\mu$ y puntos de inflexion en $(\\mu \\pm \\sigma).$  \n",
    "\n",
    "d) $$\\lim\\limits_{x \\to -\\infty} f(x, \\mu, \\sigma^{2}) = \\lim\\limits_{x \\to +\\infty} f(x, \\mu, \\sigma^{2}) = 0 $$  \n",
    "\n",
    "e) La grafica tiene forma de campana."
   ]
  },
  {
   "cell_type": "markdown",
   "id": "d720a123",
   "metadata": {},
   "source": [
    "![Image 3](resources/imgs_chapter_iv/img_3.png)"
   ]
  },
  {
   "cell_type": "markdown",
   "id": "90781b3d",
   "metadata": {},
   "source": [
    "![Image 4](resources/imgs_chapter_iv/img_4.png)"
   ]
  },
  {
   "cell_type": "markdown",
   "id": "23de027b",
   "metadata": {},
   "source": [
    "Dentro de esta familia de distribuciones un caso particular es cuando $\\mu = 0$ y $\\sigma = 1$, que recibe el nombre de **normal estandar** y se simboliza la v.a. con $Z \\sim N(0, 1).$"
   ]
  },
  {
   "cell_type": "markdown",
   "id": "87451ed5",
   "metadata": {},
   "source": [
    "La f.d.a. de *Z* se la denota como\n",
    "$$ \\Phi(z) = \\int_{-\\infty}^{z} \\frac{1}{\\sqrt{2\\pi}} e^{-\\frac{x^{2}}{2}} dx;\\ \\ \\forall z \\in \\mathbb{R}. $$"
   ]
  },
  {
   "cell_type": "markdown",
   "id": "600b7523",
   "metadata": {},
   "source": [
    "### Proposicion:"
   ]
  },
  {
   "cell_type": "markdown",
   "id": "06e6e67c",
   "metadata": {},
   "source": [
    "Si $Z \\sim N(0, 1)$ entonces $E(Z) = 0$ y $V(Z) = 1$."
   ]
  },
  {
   "cell_type": "markdown",
   "id": "a801e5ca",
   "metadata": {},
   "source": [
    "Para el calculo de probabilidades de una normal estandar hay tablas, generadas por metodos de integracion numerica.  \n",
    "\n",
    "En la tabla que usaremos se encuentra tabulado el area sombreada, $\\Phi(z) = P(Z \\le z)$, para valores $z \\in \\mathbb{R}$."
   ]
  },
  {
   "cell_type": "markdown",
   "id": "d0b6115f",
   "metadata": {},
   "source": [
    "![Image 5](resources/imgs_chapter_iv/img_5.png)"
   ]
  },
  {
   "cell_type": "markdown",
   "id": "b2f94cc2",
   "metadata": {},
   "source": [
    "## Ejercicios para el manejo de la tabla N(0, 1)"
   ]
  },
  {
   "cell_type": "markdown",
   "id": "a5b0b2c9",
   "metadata": {},
   "source": [
    "I) Calcular las siguientes probabilidades:  \n",
    "\n",
    "a) $P(Z \\le 0)$  \n",
    "\n",
    "b) $P(0 \\le Z \\le 2.57)$  \n",
    "\n",
    "c) $P(-2.57 \\le Z \\le 2.57) = P(|Z| \\le 2.57)$  \n",
    "\n",
    "d) $P(Z \\ge -1.75)$  \n",
    "\n",
    "e) $P(Z \\ge 2.57)$"
   ]
  },
  {
   "cell_type": "markdown",
   "id": "7d060650",
   "metadata": {},
   "source": [
    "II) Determinar el valor de la constante *c* tal que:  \n",
    "\n",
    "a) $\\phi(c) = 0.9838$  \n",
    "\n",
    "b) $P(0 \\le Z \\le c) = 0.291)$  \n",
    "\n",
    "c) $P(|Z| \\le c) = 0.668$"
   ]
  },
  {
   "cell_type": "markdown",
   "id": "7c8bad21",
   "metadata": {},
   "source": [
    "III) Determinar los percentiles 25; 50 y 75."
   ]
  },
  {
   "cell_type": "markdown",
   "id": "12e90b61",
   "metadata": {},
   "source": [
    "### Proposicion:"
   ]
  },
  {
   "cell_type": "markdown",
   "id": "dcd1cce2",
   "metadata": {},
   "source": [
    "Si $X \\sim N(\\mu, \\sigma^{2})$ entonces  \n",
    "\n",
    "a) $Z = \\frac{X - \\mu}{\\sigma} \\sim N(0, 1)$ (Estandarizacion de *X*).  \n",
    "\n",
    "b) $E(X) = \\mu = \\tilde{\\mu}$ y $V(X) = \\sigma^{2}$"
   ]
  },
  {
   "cell_type": "markdown",
   "id": "fa409aa0",
   "metadata": {},
   "source": [
    "**Observacion:** Si $X \\sim N(\\mu, \\sigma^{2})$ entonces para calcular $P(a \\le X \\le b)$ primero se debe estandarizar la v.a. *X* y despues usar la tabla de la $N(0, 1)$.\n",
    "$$P(a \\le X \\le b) = \\phi\\left(\\frac{b - \\mu}{\\sigma}\\right) - \\phi\\left(\\frac{a - \\mu}{\\sigma}\\right)$$\n",
    "para todo $a < b$ numeros reales, donde $\\phi$ es la f.d.a. de una v.a. $N(0, 1)$."
   ]
  },
  {
   "cell_type": "markdown",
   "id": "c2990c50",
   "metadata": {},
   "source": [
    "### Ejemplo:"
   ]
  },
  {
   "cell_type": "markdown",
   "id": "a4b3f920",
   "metadata": {},
   "source": [
    "En una empresa hay dos maquinas disponibles A y B que cortan corchos, para ser usados en botellas de vino, tal que el 40% son cortados con la maquina A y el resto con la B. Se sabe que la maquina A corta corchos con diametro que estan normalmente distribuido con una media de 3cm y una desviacion estandar de 0.1cm y la maquina B corta corchos con diametro que estan normalmente distribuido con una media de 3.04cm y una desviacion estandar de 0.02cm.  \n",
    "\n",
    "Para que un corcho sea aceptable, para su uso, debe cumplir que su diametro este comprendido entre 2.9 y 3.1cm.  \n",
    "\n",
    "**a)** Cual de las dos maquinas producen mayor porcentaje de corchos aceptables?  \n",
    "\n",
    "**b)** Se selecciona al azar un corcho de la produccion, cual es la probabilidad que el corcho sea aceptable?  \n",
    "\n",
    "**c)** Para la maquina que produce mayor porcentaje de corchos aceptables:  \n",
    "- **i)** Cual es la probabilidad que el diametro este comprendido entre 2.99 y 3.05 cm?  \n",
    "- **ii)** Si se seleccionan al azar 10 corchos de la produccion, cual es la probabilidad que el diametro este comprendido entre 2.99 y 3.05cm en por lo menos dos de los 10?  \n",
    "- **iii)** Hallar los percentiles 30 y 70 para la variable diametro del corcho cortado con la maquina elegida."
   ]
  },
  {
   "cell_type": "markdown",
   "id": "b7a29301",
   "metadata": {},
   "source": [
    "## Distribucion Gamma"
   ]
  },
  {
   "cell_type": "markdown",
   "id": "f5ee9a50",
   "metadata": {},
   "source": [
    "No todas las variables aleatorias continuas tienen una funcion de densidad de probabilidad (f.d.p.) simetrica un ejemplo son la familia de distribuciones Gamma, que son sesgadas a derecha y definidas positiva.  \n",
    "\n",
    "Antes de dar la definicion de la f.d.p. gamma definiremos la funcion gamma, muy importante en muchas ramas de la matematica."
   ]
  },
  {
   "cell_type": "markdown",
   "id": "351bff44",
   "metadata": {},
   "source": [
    "### Definicion:"
   ]
  },
  {
   "cell_type": "markdown",
   "id": "b8870d03",
   "metadata": {},
   "source": [
    "Para $\\alpha > 0$, la **funcion gamma** evaluada en $\\alpha$ esta definida como $$\\Gamma(\\alpha) = \\int_{0}^{\\infty} x^{\\alpha - 1} e^{-x} dx.$$"
   ]
  },
  {
   "cell_type": "markdown",
   "id": "57a06b8d",
   "metadata": {},
   "source": [
    "### Propiedades de la funcion gamma"
   ]
  },
  {
   "cell_type": "markdown",
   "id": "7d6df1ff",
   "metadata": {},
   "source": [
    "a) $\\Gamma(\\alpha) = (\\alpha - 1) \\Gamma(\\alpha - 1)$ para cualquier $\\alpha > 1$.  \n",
    "b) $\\Gamma(n) = (n-1)! \\forall n \\in \\mathbb{N}$.  \n",
    "c) $\\Gamma(1/2) = \\sqrt{\\pi}$."
   ]
  },
  {
   "cell_type": "markdown",
   "id": "46af3086",
   "metadata": {},
   "source": [
    "### Distribucion gamma"
   ]
  },
  {
   "cell_type": "markdown",
   "id": "16bd28a6",
   "metadata": {},
   "source": [
    "### Definicion:"
   ]
  },
  {
   "cell_type": "markdown",
   "id": "c9643382",
   "metadata": {},
   "source": [
    "Se dice que una variable aleatoria *X* tiene **distribucion gamma con parametros $\\alpha$ y $\\beta$** si la f.d.p. es\n",
    "\\begin{equation}\n",
    "    f(x, \\alpha, \\beta) = \n",
    "    \\begin{cases}\n",
    "        \\frac{1}{\\beta^{\\alpha} \\Gamma(\\alpha)} x^{\\alpha - 1} e^{-\\frac{x}{\\beta}} & x \\ge 0 \\\\\n",
    "        0 & caso\\ contrario\n",
    "    \\end{cases}\n",
    "\\end{equation}\n",
    "para $\\alpha$ y $\\beta$ numeros positivos.\n",
    "\n",
    "**Notacion:** $X \\sim \\Gamma(\\alpha, \\beta)$"
   ]
  },
  {
   "cell_type": "markdown",
   "id": "b5b4f64d",
   "metadata": {},
   "source": [
    "### Proposicion:"
   ]
  },
  {
   "cell_type": "markdown",
   "id": "acf9a8c8",
   "metadata": {},
   "source": [
    "Sea *X* una v.a. con distribucion $\\Gamma(\\alpha, \\beta)$ entonces:\n",
    "$$ E(X) = \\mu = \\alpha\\beta \\text{ y } V(X) = \\sigma^{2} = \\alpha \\beta^{2}. $$\n",
    "\n",
    "Dentro de esta familia cabe mencionar dos distribuciones una de ellas tiene multiples aplicaciones y la otra es usada en inferencia estadistica, ellas son la distribucion exponencial y la Ji-cuadrado o Chi-cuadrado."
   ]
  },
  {
   "cell_type": "markdown",
   "id": "880b5aab",
   "metadata": {},
   "source": [
    "## Distribucion exponencial"
   ]
  },
  {
   "cell_type": "markdown",
   "id": "5fa0ea83",
   "metadata": {},
   "source": [
    "### Definicion:"
   ]
  },
  {
   "cell_type": "markdown",
   "id": "e5a9dd7d",
   "metadata": {},
   "source": [
    "Se dice que una variable aleatoria *X* tiene **distribucion exponencial de parametro $\\lambda$** si la f.d.p. es\n",
    "\n",
    "\\begin{equation}\n",
    "    f(x, \\lambda) =\n",
    "    \\begin{cases}\n",
    "        \\lambda e^{-\\lambda x} & x \\ge 0 \\\\\n",
    "        0 & en\\ caso\\ contrario\n",
    "    \\end{cases}\n",
    "\\end{equation}\n",
    "\n",
    "para $\\lambda > 0$.  \n",
    "**Notacion:** $X \\sim exp(\\lambda) = \\Gamma(1, 1/\\lambda)$"
   ]
  },
  {
   "cell_type": "markdown",
   "id": "43590176",
   "metadata": {},
   "source": [
    "![Image 6](resources/imgs_chapter_iv/img_6.png)"
   ]
  },
  {
   "cell_type": "markdown",
   "id": "301fdff8",
   "metadata": {},
   "source": [
    "### Consecuencias:"
   ]
  },
  {
   "cell_type": "markdown",
   "id": "a3003fbd",
   "metadata": {},
   "source": [
    "Si $X \\sim exp(\\lambda)$ entonces  \n",
    "\n",
    "a) $E(X) = \\mu = \\frac{1}{\\lambda}$ y $V(X) = \\sigma^{2} = \\frac{1}{\\lambda^{2}}.$  \n",
    "\n",
    "b)\n",
    "\\begin{equation}\n",
    "    F(x, \\lambda) =\n",
    "    \\begin{cases}\n",
    "        0 & si\\ x < 0 \\\\\n",
    "        1 - e^{-\\lambda x} & si\\ x \\ge 0\n",
    "    \\end{cases}\n",
    "\\end{equation}  \n",
    "\n",
    "c) Si $t_{0} > 0$ entonces  \n",
    "\\begin{align}\n",
    "    P(X \\ge t + t_{0} | X \\ge t_{0}) = P(X \\ge t) \\ \\ \\forall t > 0\n",
    "\\end{align}"
   ]
  },
  {
   "cell_type": "markdown",
   "id": "93d02c98",
   "metadata": {},
   "source": [
    "Esta distribucion es muy utilizada para modelar por ejemplo el tiempo de vida o duracion de componentes electronicos, con lo cual por la propiedad enunciada en el item c (conocida como **\"carencia de memoria\"**) significa que no se tiene en cuenta el efecto desgaste producido por el paso del tiempo y por lo tanto puede ocurrir en algunas situaciones problemas que esta no sea adecuada. Ahora existen otras distribuciones alternativas como la Weilbull y la lognormal."
   ]
  },
  {
   "cell_type": "markdown",
   "id": "78579c61",
   "metadata": {},
   "source": [
    "## Distribucion Ji-cuadrado"
   ]
  },
  {
   "cell_type": "markdown",
   "id": "462f3a9f",
   "metadata": {},
   "source": [
    "### Definicion:"
   ]
  },
  {
   "cell_type": "markdown",
   "id": "188f2879",
   "metadata": {},
   "source": [
    "Se dice que una variable aleatoria *X* tiene **distribucion Ji-cuadrado de parametro *k*** si la f.d.p. es\n",
    "\n",
    "\\begin{equation}\n",
    "    f(x, k) =\n",
    "    \\begin{cases}\n",
    "        \\frac{1}{2^{k/2} \\Gamma(k/2)} x^{(k/2)-1} e^{-\\frac{x}{2}} & x \\ge 0 \\\\\n",
    "        0 & caso\\ contrario\n",
    "    \\end{cases}\n",
    "\\end{equation}\n",
    "\n",
    "para $k > 0$.\n",
    "\n",
    "**Notacion:** $X \\sim \\chi^{2}(k) = \\Gamma(k/2, 2).$"
   ]
  },
  {
   "cell_type": "markdown",
   "id": "3b045bf7",
   "metadata": {},
   "source": [
    "![Image 7](resources/imgs_chapter_iv/img_7.png)"
   ]
  },
  {
   "cell_type": "markdown",
   "id": "e020803f",
   "metadata": {},
   "source": [
    "### Consecuencias:"
   ]
  },
  {
   "cell_type": "markdown",
   "id": "6bed393b",
   "metadata": {},
   "source": [
    "Si $X \\sim \\chi^{2}(k)$ entonces\n",
    "$$E(X) = \\mu = k \\text{ y } V(X) = \\sigma^{2} = 2k$$\n",
    "\n",
    "Esta distribucion es muy importante en procedimientos estadisticos (Intervalos de confianza y pruebas de hipotesis para la varianza poblacional)."
   ]
  },
  {
   "cell_type": "markdown",
   "id": "12a497f4",
   "metadata": {},
   "source": [
    "### Proposicion:"
   ]
  },
  {
   "cell_type": "markdown",
   "id": "fa442d75",
   "metadata": {},
   "source": [
    "Si $Z \\sim N(0, 1)$ entonces $Z^{2} \\sim \\chi^{2}(1).$"
   ]
  }
 ],
 "metadata": {
  "kernelspec": {
   "display_name": "Python 3 (ipykernel)",
   "language": "python",
   "name": "python3"
  },
  "language_info": {
   "codemirror_mode": {
    "name": "ipython",
    "version": 3
   },
   "file_extension": ".py",
   "mimetype": "text/x-python",
   "name": "python",
   "nbconvert_exporter": "python",
   "pygments_lexer": "ipython3",
   "version": "3.9.7"
  }
 },
 "nbformat": 4,
 "nbformat_minor": 5
}
