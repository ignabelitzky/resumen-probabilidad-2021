{
 "cells": [
  {
   "cell_type": "markdown",
   "id": "32d3d217",
   "metadata": {},
   "source": [
    "# *Capitulo 3 - Variables aleatorias discretas y distribuciones de probabilidad*"
   ]
  },
  {
   "cell_type": "markdown",
   "id": "981c97d6",
   "metadata": {},
   "source": [
    "## 3.1 Variables aleatorias"
   ]
  },
  {
   "cell_type": "markdown",
   "id": "afc689a7",
   "metadata": {},
   "source": [
    "**Definicion:** Para un espacio muestral $S$ de algun experimento, una **variable aleatoria** es cualquier regla que asocia un numero con cada resultado en $S$. En lenguaje matematico, una variable aleatoria es una funcion cuyo dominio es el espacio muestral y cuyo rango es el conjunto de los numeros reales."
   ]
  },
  {
   "cell_type": "markdown",
   "id": "800ea803",
   "metadata": {},
   "source": [
    "![Image 1](resources/imgs_cap3/img_cap3_01.png)\n",
    "\n",
    "$$\\text{Una variable aleatoria}$$"
   ]
  },
  {
   "cell_type": "markdown",
   "id": "4ce4a999",
   "metadata": {},
   "source": [
    "**Definicion:** Cualquier variable aleatoria cuyos unicos valores posibles son 0 y 1 se llama **variable aleatoria de Bernoulli.**"
   ]
  },
  {
   "cell_type": "markdown",
   "id": "ae9e02f2",
   "metadata": {},
   "source": [
    "### Dos tipos de variables aleatorias"
   ]
  },
  {
   "cell_type": "markdown",
   "id": "a365299d",
   "metadata": {},
   "source": [
    "**Definicion:** Una variable aleatoria **discreta** es una variable aleatoria cuyos valores posibles constituyen un conjunto finito o bien pueden ser puestos en lista en una secuencia infinita en la cual existe un primer elemento, un segundo elemento, y asi sucesivamente (\"contablemente\" infinita).  \n",
    "Una variable aleatoria es **continua** si *ambas* de las siguientes condiciones se cumplen:  \n",
    "1. Su conjunto de valores posibles se compone de todos los numeros que hay en un solo intervalo sobre la linea de numeracion (posiblemente de extension infinita, es decir, desde $-\\infty$ hasta $\\infty$) o todos los numeros en una union disjunta de dichos intervalos (por ejemplo, $[0, 10] \\cup [20, 30]$).\n",
    "2. Ningun valor posible de la variable tiene probabilidad positiva, esto es, $P(X = c) = 0$ con cualquier valor posible de $c$."
   ]
  },
  {
   "cell_type": "markdown",
   "id": "ab074fc7",
   "metadata": {},
   "source": [
    "## 3.2 Distribuciones de probabilidad para variables aleatorias discretas"
   ]
  },
  {
   "cell_type": "markdown",
   "id": "8154333f",
   "metadata": {},
   "source": [
    "**Definicion:** La **distribucion de probabilidad** o **funcion de masa de probabilidad** (fmp) de una variable discreta se define para cada numero $x$ como $p(x) = P(X = x) = P$ (todas las $s \\in S:X(s) = x$)."
   ]
  },
  {
   "cell_type": "markdown",
   "id": "39a6c584",
   "metadata": {},
   "source": [
    "### Parametro de una distribucion de probabilidad"
   ]
  },
  {
   "cell_type": "markdown",
   "id": "ab638c24",
   "metadata": {},
   "source": [
    "**Definicion:** Supongase que $p(x)$ depende de la cantidad que puede ser asignada a cualquiera de un numero de valores posibles, y cada valor determina una distribucion de probabilidad diferente. Tal cantidad se llama **parametro** de distribucion. El conjunto de todas las distribuciones de probabilidad para diferentes valores del parametro se llama **familia** de distribuciones de probabilidad."
   ]
  },
  {
   "cell_type": "markdown",
   "id": "bdd77ff2",
   "metadata": {},
   "source": [
    "### Funcion de distribucion acumulativa"
   ]
  },
  {
   "cell_type": "markdown",
   "id": "b205bcec",
   "metadata": {},
   "source": [
    "**Defininicion:** La **funcion de distribucion acumulativa** (fda) $F(x)$ de una variable aleatoria discreta $X$ con funcion de masa de probabilidad $p(x)$ se define para cada numero $x$ como  \n",
    "\n",
    "$$F(x) = P(X \\le x) = \\sum_{y:y \\le x}p(y)$$\n",
    "\n",
    "Para cualquier numero $x, F(x)$ es la probabilidad de que el valor observado de $X$ sera cuando mucho $x$."
   ]
  },
  {
   "cell_type": "markdown",
   "id": "b27fdddc",
   "metadata": {},
   "source": [
    "Sea\n",
    "\n",
    "\\begin{equation}\n",
    "    F(y) ="
   ]
  }
 ],
 "metadata": {
  "kernelspec": {
   "display_name": "Python 3 (ipykernel)",
   "language": "python",
   "name": "python3"
  },
  "language_info": {
   "codemirror_mode": {
    "name": "ipython",
    "version": 3
   },
   "file_extension": ".py",
   "mimetype": "text/x-python",
   "name": "python",
   "nbconvert_exporter": "python",
   "pygments_lexer": "ipython3",
   "version": "3.9.7"
  }
 },
 "nbformat": 4,
 "nbformat_minor": 5
}
