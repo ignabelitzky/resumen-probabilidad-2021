{
 "cells": [
  {
   "cell_type": "markdown",
   "id": "0a1e4049",
   "metadata": {},
   "source": [
    "# Distribución de Probabilidad Conjunta"
   ]
  },
  {
   "cell_type": "markdown",
   "id": "1819f776",
   "metadata": {},
   "source": [
    "El conocimiento de estas distribuciones es fundamental para aplicar en el Método de Máxima Verosimilitud e inferencia estadística, sobre una población de la cual se selecciono una muestra aleatoria.  \n",
    "Para comenzar consideremos la distribución conjunta para dos v.a. discretas, luego para dos v.a. continuas y para terminar se extenderan las definiciones para más de dos v.a."
   ]
  },
  {
   "cell_type": "markdown",
   "id": "b228e27a",
   "metadata": {},
   "source": [
    "## Función de Probabilidad de Masa Conjunta"
   ]
  },
  {
   "cell_type": "markdown",
   "id": "ce0363b6",
   "metadata": {},
   "source": [
    "### Definición:\n",
    "Sean *X* e *Y* v.a. discretas, sobre el mismo espacio muestral *S*, entonces la **Función de Probabilidad de Masa Conjunta (fpmc) de (X, Y)** es la función definida:"
   ]
  },
  {
   "cell_type": "markdown",
   "id": "cab31b6b",
   "metadata": {},
   "source": [
    "\\begin{align}\n",
    "    p(x, y) &= P[(X = x) \\cap (Y = y)] & \\forall x, y \\in \\mathbb{R}\n",
    "\\end{align}"
   ]
  },
  {
   "cell_type": "markdown",
   "id": "b039459d",
   "metadata": {},
   "source": [
    "### Propiedades de la fpmc:\n",
    "* \n",
    "\\begin{align}\n",
    "    0 \\le p(x,y) \\le 1, && \\forall x, y \\in \\mathbb{R}\n",
    "\\end{align}  \n",
    "\n",
    "\n",
    "* \n",
    "\\begin{align}\n",
    "    P[(X, Y) \\in A] = \\sum_{(x,y) \\in A} p(x, y), && \\forall A \\subseteq \\mathbb{R}^{2}\n",
    "\\end{align}  \n",
    "\n",
    "\n",
    "* \n",
    "\\begin{align}\n",
    "    \\sum_{x}\\sum_{y} p(x, y) = 1\n",
    "\\end{align}"
   ]
  },
  {
   "cell_type": "markdown",
   "id": "30116943",
   "metadata": {},
   "source": [
    "**Observación:** Usando la fpmc de (X, Y) se pueden obtener las funciones de distribución de probabilidades para *X* e *Y* respectivamente. Las mismas están dadas por:  \n",
    "\n",
    "\\begin{align}\n",
    "    p_{x} (x) &= \\sum_{y} p(x, y) & \\forall x \\in \\mathbb{R} \\\\\n",
    "    p_{y} (y) &= \\sum_{x} p(x, y) & \\forall y \\in \\mathbb{R}\n",
    "\\end{align}"
   ]
  },
  {
   "cell_type": "markdown",
   "id": "8294f81f",
   "metadata": {},
   "source": [
    "### Ejemplo I:\n",
    "Se asignan aleatoriamente dos contratos diferentes entre tres empresas (A, B o C).  \n",
    "Sean *X* e *Y* las v.a. definidas como el número de contratos asignados a la empresa A y B respectivamente; osea cada empresa puede recibir 0, 1 o 2 contratos.  \n",
    "\n",
    "a) Hallar la fpmc de (X, Y).\n",
    "\n",
    "b) Hallar las funciones de probabilidad marginal para *X* e *Y* respectivamente.\n",
    "\n",
    "c) Calcular la esperanza y varianza de *X* e *Y*."
   ]
  },
  {
   "cell_type": "markdown",
   "id": "1f48db55",
   "metadata": {},
   "source": [
    "## Función de Densidad de Probabilidad Conjunta"
   ]
  },
  {
   "cell_type": "markdown",
   "id": "8ae374cb",
   "metadata": {},
   "source": [
    "### Definición:\n",
    "Sean *X* e *Y* v.a. continuas, sobre el mismo espacio muestral *S*. SE llama **Función de Densidad de Probabilidad Continua (fdpc) de (X, Y)** a una función $f: \\mathbb{R}^{2} \\rightarrow \\mathbb{R}$ no negativa y tal que:\n",
    "\n",
    "\\begin{align}\n",
    "    P[(a_{1} \\le X \\le b_{1}) \\cap (a_{2} \\le Y \\le b_{2}) ] = \\int_{a_{1}}^{b_{1}} \\int_{a_{2}}^{b_{2}} f(x, y) dy dx\n",
    "\\end{align}\n",
    "\n",
    "donde $a_{i} < b_{i}$ con *i = 1, 2.*"
   ]
  },
  {
   "cell_type": "markdown",
   "id": "11922cba",
   "metadata": {},
   "source": [
    "### Propiedades de la fdpc:\n",
    "\n",
    "* \n",
    "\\begin{align}\n",
    "    \\int_{-\\infty}^{\\infty} \\int_{-\\infty}^{\\infty} f(x, y) dx dy = 1\n",
    "\\end{align}\n",
    "\n",
    "\n",
    "* \n",
    "\\begin{align}\n",
    "    P[(X, Y) \\in A] = \\int \\int_{(x,y) \\in A} f(x, y) dx dy && \\forall A \\subseteq \\mathbb{R}^{2}\n",
    "\\end{align}"
   ]
  },
  {
   "cell_type": "markdown",
   "id": "821c43bc",
   "metadata": {},
   "source": [
    "**Observación:** Usando la fdpc de (X, Y) se pueden obtener las funciones de densidad de probabilidades para *X* e *Y* respectivamente. Las mismas estan dadas por:\n",
    "\n",
    "\\begin{align}\n",
    "    f_{x} (x) &= \\int_{-\\infty}^{\\infty} f(x, y) dy & \\forall x \\in \\mathbb{R} \\\\\n",
    "    f_{y} (y) &= \\int_{-\\infty}^{\\infty} f(x, y) dx & \\forall y \\in \\mathbb{R}\n",
    "\\end{align}\n",
    "\n",
    "Estas funciones $f_{x}$ y $f_{y}$ se las denomina **función densidad de probabilidad marginal para *X* e *Y* respectivamente.**"
   ]
  },
  {
   "cell_type": "markdown",
   "id": "fe237ae4",
   "metadata": {},
   "source": [
    "### Ejemplo II:\n",
    "Supongamos que en un peaje hay dos puestos de atención, uno para automóviles particulares y otro para colectivos. Sean *X* e *Y* la proporción de tiempo en que permanece ocupado el puesto de automóviles particulares y el de colectivos respectivamente, en una unidad especificada. Supongamos que la fdpc de (X, Y) esta dada por:\n",
    "\n",
    "\\begin{equation}\n",
    "    f(x, y) =\n",
    "    \\begin{cases}\n",
    "        k(x + y^{2}) & \\text{para } 0 \\le x, y \\le 1 \\\\\n",
    "        0 & \\text{caso contrario}\n",
    "    \\end{cases}\n",
    "\\end{equation}\n",
    "\n",
    "con *k* una constante positiva.\n",
    "\n",
    "a) Determinar el valor de la constante *k* para que *f* sea fdpc.  \n",
    "\n",
    "b) Hallar las funciones densidad de probabilidad marginal para *X* e *Y* respectivamente.  \n",
    "\n",
    "c) Hallar la probabilidad que las proporciones de los tiempos ocupados por ambos puestos sean menores a $1/4$.  \n",
    "\n",
    "d) Calcular $P(X > Y)$.\n",
    "\n",
    "e) Hallar la esperanza y varianza de *X* e *Y*."
   ]
  },
  {
   "cell_type": "markdown",
   "id": "89178eed",
   "metadata": {},
   "source": [
    "### Ejemplo III:\n",
    "Dada la siguiente fdpc de (X, Y)\n",
    "\n",
    "\\begin{equation}\n",
    "    f(x, y) =\n",
    "    \\begin{cases}\n",
    "        k x y & 0 \\le x, y \\le 1, & x + y \\le 1 \\\\\n",
    "        0 & \\text{caso contrario}\n",
    "    \\end{cases}\n",
    "\\end{equation}\n",
    "\n",
    "con *k* una constante positiva.\n",
    "\n",
    "a) Determinar el valor de la constante *k* para que *f* sea fdpc.  \n",
    "\n",
    "b) Hallar las funciones de densidad de probabilidad marginal para *X* e *Y* respectivamente."
   ]
  },
  {
   "cell_type": "markdown",
   "id": "e8b7e9d0",
   "metadata": {},
   "source": [
    "## Variables aleatorias independientes"
   ]
  },
  {
   "cell_type": "markdown",
   "id": "41c28cb8",
   "metadata": {},
   "source": [
    "### Definición:\n",
    "Diremos que *X* e *Y* son **v.a. independientes**, sobre el mismo espacio muestral *S*, si\n",
    "\n",
    "\\begin{align}\n",
    "    p(x, y) = p_{x}(x) p_{y}(y)&& \\forall x, y \\in \\mathbb{R}\\ \\text{si X e Y son v.a. discretas.} \\\\\n",
    "    f(x, y) = f_{x}(x) f_{y}(y)&& \\forall x, y \\in \\mathbb{R}\\ \\text{si X e Y son v.a. continuas.}\n",
    "\\end{align}"
   ]
  },
  {
   "cell_type": "markdown",
   "id": "66ca036e",
   "metadata": {},
   "source": [
    "---\n",
    "Volver a los enunciados de los ejemplos I y IV, determinar si las variables *X* e *Y* son independientes. Justifique claramente su respuesta.  \n",
    "___"
   ]
  },
  {
   "cell_type": "markdown",
   "id": "f7a19534",
   "metadata": {},
   "source": [
    "Ahora vamos a extender los conceptos dados para mas de dos variables aleatorias."
   ]
  },
  {
   "cell_type": "markdown",
   "id": "fa3e5757",
   "metadata": {},
   "source": [
    "### Definición:\n",
    "Sean $X_{1}, X_{2},\\ldots, X_{n}$ v.a., sobre el mismo espacio muestral *S*, entonces:  \n",
    "\n",
    "a) Si ellas son discretas se define la **función de probabilidad de masa conjunta de $(X_{1}, X_{2},\\ldots, X_{n})$** como:\n",
    "\n",
    "\\begin{align}\n",
    "    p(x_{1}, x_{2},\\ldots, x_{n}) = P\\left(\\cap_{i = 1}^{n} [X_{i} = x_{i}]\\right) \\forall x_{i} \\in \\mathbb{R}, i = 1,\\ldots, n.\n",
    "\\end{align}  \n",
    "\n",
    "b) Si ellas son continuas se llama **función densidad de probabilidad conjunta de $(X_{1}, X_{2}, \\ldots, X_{n})$** a una función *f* no negativa tal que:\n",
    "\n",
    "\\begin{align}\n",
    "    P([a_{1} \\le X_{1} \\le b_{1}] \\cap \\ldots \\cap [a_{n} \\le X_{n} \\le b_{n}]) = \\int_{a_{1}}^{b_{1}} \\ldots \\int_{a_{n}}^{b_{n}} f(x_{1},\\ldots, x_{n}) dx_{n} \\ldots dx_{1} \\\\\n",
    "    \\forall a_{i} < b_{i}\\ \\text{números reales, } i = 1,\\ldots, n.\n",
    "\\end{align}  \n",
    "\n",
    "c) Diremos que $X_{1}, X_{2}, \\ldots, X_{n}$ son v.a. **mutuamente independientes** si cualquier subconjunto de v.a. $\\{X_i\\}_{i \\in I}$ cumple que la fpmc o fdpc, según corresponda, es igual al producto de las marginales."
   ]
  },
  {
   "cell_type": "markdown",
   "id": "a46c76a8",
   "metadata": {},
   "source": [
    "## Valores esperados, covarianza y correlación"
   ]
  },
  {
   "cell_type": "markdown",
   "id": "5f0637bf",
   "metadata": {},
   "source": [
    "Ahora vamos a ver como calcular el valor esperado de una v.a. que tenga en cuenta la información de dos o más variables aleatorias.  \n",
    "También daremos una *medida de la asociación* entre variables aleatorias. "
   ]
  },
  {
   "cell_type": "markdown",
   "id": "86214da5",
   "metadata": {},
   "source": [
    "### Proposición:\n",
    "Sean *X* e *Y* v.a., sobre el mismo espacio muestral *S*, con fpmc o fdpc de (X, Y) en el caso discreto o continuo respectivamente. Entonces\n",
    "\n",
    "\\begin{equation}\n",
    "    E(h(X, Y) =\n",
    "    \\begin{cases}\n",
    "        \\sum_{x} \\sum_{y} h(x, y)\\ p(x, y) & \\text{caso discreto} \\\\\n",
    "        \\int_{-\\infty}^{\\infty} \\int_{-\\infty}^{\\infty} h(x, y)\\ f(x, y) dx dy & \\text{caso continuo}\n",
    "    \\end{cases}\n",
    "\\end{equation}\n",
    "\n",
    "siempre que exista.  \n",
    "\n",
    "Se puede extender este método para calcular el valor esperado de una función de *n* v.a., cambiando por una suma o integral *n* dimensional según que las v.a. sean discretas o continuas respectivamente."
   ]
  },
  {
   "cell_type": "markdown",
   "id": "4b7f0665",
   "metadata": {},
   "source": [
    "### Consecuencia:\n",
    "Si *X* e *Y* v.a., sobre el mismo espacio muestral *S*, con valores esperados entonces\n",
    "\n",
    "a) $E(aX + bY) = aE(X) + bE(Y)\\ \\forall a, b \\in \\mathbb{R}$  \n",
    "\n",
    "b) Si *X* e *Y* son v.a. independientes $E(XY) = E(X)\\ E(Y)$  \n",
    "\n",
    "Por otro lado cuando dos v.a. no son independientes entonces se puede definir una medida que cuantifique la dependencia entre ellas."
   ]
  },
  {
   "cell_type": "markdown",
   "id": "dc9ff939",
   "metadata": {},
   "source": [
    "### Definición:\n",
    "Sean *X* e *Y* v.a., sobre el mismo espacio muestral *S*, entonces se define la **covarianza entre X e Y** como\n",
    "\n",
    "\\begin{align}\n",
    "    cov(X, Y) &= E[(X - \\mu_{X}) (Y-\\mu_{Y})] \\\\\n",
    "    &= \n",
    "    \\begin{cases}\n",
    "        \\sum_{(x, y)} (x - \\mu_{X}) (y - \\mu_{Y}) p(x, y) & \\text{caso discreto} \\\\\n",
    "        \\int \\int (x - \\mu_{X}) (y - \\mu_{Y}) f(x, y) dx dy & \\text{caso continuo}\n",
    "    \\end{cases}\n",
    "\\end{align}\n",
    "\n",
    "donde $\\mu_{X}$ y $\\mu_{Y}$ son las esperanzas de *X* e *Y* respectivamente."
   ]
  },
  {
   "cell_type": "markdown",
   "id": "16274728",
   "metadata": {},
   "source": [
    "---\n",
    "La $cov(X, Y)$ es una medida de dependencia lineal entre *X* e *Y*, el signo sera positivo o negativo dependiendo si ellas estan positivamente o negativamente asociadas.\n",
    "\n",
    "\\begin{align}\n",
    "    cov(X, Y) > 0 && \\text{entonces cuando X crece Y crece} \\\\\n",
    "    cov(X, Y) < 0 && \\text{entocnes cuando X crece Y decrece} \\\\\n",
    "    cov(X, Y) = 0 && \\text{si no hay dependencia lineal entre X e Y}\n",
    "\\end{align}  \n",
    "___"
   ]
  },
  {
   "cell_type": "markdown",
   "id": "4a3daf1d",
   "metadata": {},
   "source": [
    "### Proposición:\n",
    "Sean *X* e *Y* v.a., sobre el mismo espacio muestral *S*, entonces:\n",
    "\n",
    "a) $cov(X, Y) = E(X\\ Y) - E(X)E(Y)$  \n",
    "b) Si *X* e *Y* son v.a. independientes $cov(X, Y) = 0$  \n",
    "c) $cov(aX + b,\\ cY + d) = a\\ c\\ cov(X, Y)\\ \\ \\forall a, b, c\\ y\\ d \\in \\mathbb{R}$  \n",
    "d) $V(aX + bY) = a^{2} V(X) + b^{2} V(Y) + 2\\ a\\ b\\ cov(X, Y)\\ \\ \\forall a, b \\in \\mathbb{R}$  \n",
    "e) Si *X* e *Y* son v.a. independientes entonces  \n",
    "$V(aX + bY) = a^{2} V(X) + b^{2} V(Y)\\ \\ \\forall a, b \\in \\mathbb{R}.$"
   ]
  },
  {
   "cell_type": "markdown",
   "id": "ebaa718f",
   "metadata": {},
   "source": [
    "Ejercicio: Calcular las covarianzas para las v.a. *X* e *Y* definidas en los ejemplos I y IV."
   ]
  },
  {
   "cell_type": "markdown",
   "id": "6bf1395b",
   "metadata": {},
   "source": [
    "**Observación:** Como ya se dijo si *X* e *Y* son v.a. independientes entonces $cov(X, Y) = 0$ pero la recíproca puede no ser cierta."
   ]
  },
  {
   "cell_type": "markdown",
   "id": "9e568e89",
   "metadata": {},
   "source": [
    "### Ejemplo IV:\n",
    "Sean *X* e *Y* dos v.a. con fpmc dada por\n",
    "\n",
    "| X / Y | -1 | 0 | 1 |\n",
    "| :-: | :-: | :-: | :-: |\n",
    "| **-1** | 1/8 | 1/8 | 1/8 |\n",
    "| **0** | 1/8 | 0 | 1/8 |\n",
    "| **1** | 1/8 | 1/8 | 1/8 |\n",
    "\n",
    "a) Hallar las marginales para *X* y para *Y*.  \n",
    "\n",
    "b) ¿*X* e *Y* son v.a. independientes? Justifique su respuesta.  \n",
    "\n",
    "c) Calcular las esperanzas de *X* e *Y*.  \n",
    "\n",
    "d) Calcular la $cov(X, Y)$.\n"
   ]
  },
  {
   "cell_type": "markdown",
   "id": "853f9c4a",
   "metadata": {},
   "source": [
    "Una desventaja que tiene la $cov(X, Y)$ es que depende de las unidades de medidas de *X* e *Y*, para salvar este problema se define el *coeficiente de correlación.*"
   ]
  },
  {
   "cell_type": "markdown",
   "id": "b1e197e7",
   "metadata": {},
   "source": [
    "### Definición:\n",
    "Sean *X* e *Y* v.a., sobre el mismo espacio muestral *S*, entonces se define el **coeficiente de correlación entre X e Y** como  \n",
    "\n",
    "\\begin{align}\n",
    "    \\rho(X, Y) = corr(X, Y) = \\frac{cov(X, Y)}{\\sigma_{X}\\ \\sigma_{Y}}\n",
    "\\end{align}\n",
    "\n",
    "donde $\\sigma_{X}$ y $\\sigma_{Y}$ son los desvíos estándar de *X* e *Y* respectivamente."
   ]
  },
  {
   "cell_type": "markdown",
   "id": "c861e868",
   "metadata": {},
   "source": [
    "Ejercicio: Calcular las correlaciones entre las v.a. *X* e *Y* definidas en los ejemplos I y II."
   ]
  },
  {
   "cell_type": "markdown",
   "id": "a9abf60b",
   "metadata": {},
   "source": [
    "### Propiedades del coeficiente de correlación:\n",
    "\n",
    "a) $corr(aX + b, cY + d) = sg(a c)corr(X, Y)\\ \\ \\forall\\ a\\ y\\ c \\neq 0,\\ b\\ y\\ d \\in \\mathbb{R}$  \n",
    "\n",
    "b) $-1 \\le corr(X, Y) \\le 1$  \n",
    "\n",
    "c) Si *X* e *Y* son v.a. independientes entonces $corr(X, Y) = 0$.  \n",
    "\n",
    "d) Si $a \\neq 0$ y $b \\in \\mathbb{R}, Y = aX + b$ entonces\n",
    "\n",
    "\\begin{equation}\n",
    "    corr(X, Y) =\n",
    "    \\begin{cases}\n",
    "        1 & si\\ a > 0 \\\\\n",
    "        -1 & si\\ a < 0\n",
    "    \\end{cases}\n",
    "\\end{equation}"
   ]
  },
  {
   "cell_type": "markdown",
   "id": "95fcb3bf",
   "metadata": {},
   "source": [
    "### Algunos comentarios:\n",
    "- $\\rho(X, Y)$ es una medida de la dependencia lineal entre *X* e *Y*.\n",
    "- Si *X* e *Y* estan perfectamente relacionadas linealmente entonces $\\rho(X, Y)$ es 1 o -1, dependiendo si la relación es creciente o decreciente respectivamente.\n",
    "- Si $\\rho(X, Y) = 0$ no implica independencia entre *X* e *Y*!!! solo se dice que no hay una relación lineal entre ellas. Cuando esto ocurre se dice que *X* e *Y* son no correlacionadas."
   ]
  },
  {
   "cell_type": "markdown",
   "id": "1298fa9f",
   "metadata": {},
   "source": [
    "Ahora se extenderan algunas de las propiedades sobre la esperanza, covarianza y varianza para una combinación de n variables aleatorias. *(ya las probamos para n = 2)*"
   ]
  },
  {
   "cell_type": "markdown",
   "id": "3f20385d",
   "metadata": {},
   "source": [
    "### Proposición:\n",
    "Si $X_{1}, \\ldots, X_{n}$ v.a. con varianzas finitas, $a_{i} \\in \\mathbb{R}\\ \\forall\\ i = 1,\\ldots, n$  \n",
    "\n",
    "a)\n",
    "\\begin{align}\n",
    "    E\\left( \\sum_{i = 1}^{n} a_{i} X_{i} \\right) = \\sum_{i = 1}^{n} a_{i} E(X_{i})\n",
    "\\end{align}\n",
    "\n",
    "b)  \n",
    "Y si $Y_{1},\\ldots,Y_{m}$ v.a. con varianzas finitas, $b_{j} \\in \\mathbb{R}\\ \\forall\\ j = 1,\\ldots, m$ entonces:\n",
    "\n",
    "\\begin{align}\n",
    "    cov\\left( \\sum_{i = 1}^{n} a_{i} X_{i}, \\sum_{j=1}^{m} b_{j} Y_{j}\\right) = \\sum_{1 \\le i \\le n, 1 \\le j \\le m} a_{i} b_{j} cov(X_{i}, Y_{j})\n",
    "\\end{align}  \n",
    "\n",
    "c)  \n",
    "\\begin{align}\n",
    "    V\\left(\\sum_{i = 1}^{n} a_{i} X_{i} \\right) = \\sum_{i = 1}^{n} a_{i}^{2} V(X_{i}) + 2 \\sum_{1 \\le i < j \\le n} a_{i} a_{j} cov(X_{i}, X_{j}) \n",
    "\\end{align}  \n",
    "\n",
    "d)  \n",
    "Si $X_{1},\\ldots, X_{n}$ v.a. independientes entonces\n",
    "\n",
    "\\begin{align}\n",
    "    V \\left( \\sum_{i = 1}^{n} a_{i} X_{i} \\right) = \\sum_{i = 1}^{n} a_{i}^{2} V(X_{i})\n",
    "\\end{align}  \n",
    "\n",
    "e)  \n",
    "**Importante:** Si $X_{1},\\ldots, X_{n}$ v.a. independientes e idénticamente distribuidas con $E(X) = \\mu$ y $V(X) = \\sigma^{2}$ entonces:\n",
    "\n",
    "\\begin{align}\n",
    "    E(\\overline{X}) = \\mu && \\text{y} && V(\\overline{X}) = \\frac{\\sigma^{2}}{n}.\n",
    "\\end{align}"
   ]
  },
  {
   "cell_type": "markdown",
   "id": "6ab8f5db",
   "metadata": {},
   "source": [
    "*La variable promedio muestral es una combinación lineal donde $a_{i} = 1/n\\ \\ \\forall\\ i = 1,\\ldots, n.$*  \n",
    "$E(X_{i}) = \\mu$ y $V(X_{i}) = \\sigma^{2}\\ \\forall\\ i = 1,\\ldots, n$"
   ]
  },
  {
   "cell_type": "markdown",
   "id": "20bd541d",
   "metadata": {},
   "source": [
    "### Definición:\n",
    "Diremos que $X_{1},\\ldots, X_{n}$ es una **muestra aleatoria** (m.a.) si son variable aleatorias independientes e idénticamente distribuidas."
   ]
  },
  {
   "cell_type": "markdown",
   "id": "bf36d9f3",
   "metadata": {},
   "source": [
    "Con la proposicion mencionada podemos decir cuanto vale la esperanza y varianza de una combinación lineal de n variables aleatorias pero...  \n",
    "**¿Que podemos decir sobre su distribucion?**  \n",
    "Una respuesta parcial a la pregunta esta dada por esta proposición."
   ]
  },
  {
   "cell_type": "markdown",
   "id": "e26033b1",
   "metadata": {},
   "source": [
    "### Proposición:\n",
    "Si $X_{1},\\ldots, X_{n}$ son v.a. independientes y con distribución normal, o sea que $X_{i} \\sim N(\\mu_{i}, \\sigma_{i}^{2}),\\ \\forall\\ i = 1,\\ldots, n$. Entonces\n",
    "\n",
    "\\begin{align}\n",
    "    \\sum_{i = 1}^{n} a_{i} X_{i} \\sim N \\left( \\sum_{i = 1}^{n} a_{i} \\mu_{i},\\ \\sum_{i = 1}^{n} a_{i}^{2} \\sigma_{i}^{2} \\right)\n",
    "\\end{align}"
   ]
  },
  {
   "cell_type": "markdown",
   "id": "48823360",
   "metadata": {},
   "source": [
    "### Consecuencia:\n",
    "Si $X_{1},\\ldots, X_{n}$ es una m.a. con distribución $N(\\mu, \\sigma^{2}$ entonces:  \n",
    "\n",
    "\\begin{align}\n",
    "    \\overline{X} \\sim N\\left(\\mu, \\frac{\\sigma^{2}}{n}\\right) \\Leftrightarrow \\left( \\frac{\\overline{X}-\\mu}{\\sigma}\\right) \\sqrt{n} \\sim N(0, 1)\n",
    "\\end{align}"
   ]
  },
  {
   "cell_type": "markdown",
   "id": "4a615cf9",
   "metadata": {},
   "source": [
    "#### Problema I:\n",
    "Si *X* e *Y* son v.a. independientes con distribuciones exp(1). Probar que la v.a. $W = X + Y \\sim \\Gamma(2, 1)$. (Notar que no es una exp(2))"
   ]
  },
  {
   "cell_type": "markdown",
   "id": "c4985c50",
   "metadata": {},
   "source": [
    "#### Problema II:\n",
    "a) Si X_{1}, \\ldots, X_{n} son v.a. independientes y con distribución $Bernoulli(p) = B(1, p)\\ \\forall\\ i = 1,\\ldots, n$. Entoncces\n",
    "\\begin{align}\n",
    "    \\sum_{i = 1}^{n} X_{i} \\sim B(n, p)\n",
    "\\end{align}  \n",
    "\n",
    "b) Si $X_{1}$ y $X_{2}$ son variables independientes con distribucion $B(n_{i}, p)$ con $i = 1, 2$ respectivamente, entonces\n",
    "\\begin{align}\n",
    "    X_{1} + X_{2} \\sim B(n_{1} + n_{2}, p)\n",
    "\\end{align}"
   ]
  },
  {
   "cell_type": "markdown",
   "id": "64061991",
   "metadata": {},
   "source": [
    "#### Problema III:\n",
    "a) Si $X_{1}$ y $X_{2}$ son variables independientes con distribución $P(\\lambda_{i})$ con $i = 1, 2$ respectivamente, entonces\n",
    "\\begin{align}\n",
    "    X_{1} + X_{2} \\sim P(\\lambda_{1} + \\lambda_{2})\n",
    "\\end{align}  \n",
    "\n",
    "b) Si $X_{1},\\ldots, X_{n}$ son v.a. independientes y con distribución Poisson, o sea que $X_{i} \\sim P(\\lambda_{i}),\\ \\forall\\ i = 1,\\ldots, n$. Entonces\n",
    "\\begin{align}\n",
    "    \\sum_{i = 1}^{n} X_{i} \\sim P \\left( \\sum_{i = 1}^{n} \\lambda_{i}\\right)\n",
    "\\end{align}"
   ]
  },
  {
   "cell_type": "markdown",
   "id": "6a92f9a2",
   "metadata": {},
   "source": [
    "**Ahora ¿que se puede decir sobre la distribución de la variable $\\overline{X}$ si la distribución de la m.a. no es normal?**  \n",
    "\n",
    "Una de las respuestas posible es uno de los teoremas mas importantes dentro de la teoria de la Probabilidad y Estadística, conocido como **Teorema Central del Límite (T.C.L.)**"
   ]
  },
  {
   "cell_type": "markdown",
   "id": "38bdc42b",
   "metadata": {},
   "source": [
    "![Image 1](resources/imgs_chapter_v/img_1.png)\n",
    "![Image 2](resources/imgs_chapter_v/img_2.png)\n",
    "![Image 3](resources/imgs_chapter_v/img_3.png)\n",
    "![Image 4](resources/imgs_chapter_v/img_4.png)\n",
    "![Image 5](resources/imgs_chapter_v/img_5.png)"
   ]
  },
  {
   "cell_type": "markdown",
   "id": "b16f02e2",
   "metadata": {},
   "source": [
    "## Teorema Central del Límite (T.C.L.)\n",
    "Si $X_{1},\\ldots, X_{n}$ es una m.a. con $E(X_{1}) = \\mu$ y $V(X_{1}) = \\sigma^{2}$ entonces si *\"n es suficientemente grande\"* la v.a. promedio muestral tiene distribución aproximadamente normal, o sea:\n",
    "\n",
    "\\begin{align}\n",
    "    \\overline{X} \\sim N\\left( \\mu, \\frac{\\sigma^{2}}{n}\\right) \\Leftrightarrow \\left( \\frac{\\overline{X} - \\mu}{\\sigma / \\sqrt{n}}\\right) \\sim N(0, 1)\n",
    "\\end{align}  \n",
    "\n",
    "O equivalentemente:\n",
    "\\begin{align}\n",
    "    \\frac{\\sum_{i = 1}^{n} X_{i} - n \\mu}{\\sqrt{n \\sigma^{2}}} \\sim N(0, 1)\n",
    "\\end{align}"
   ]
  },
  {
   "cell_type": "markdown",
   "id": "7cc0fb2a",
   "metadata": {},
   "source": [
    "La aplicación de este resultado es que bajo las hipótesis del T.C.L.\n",
    "\n",
    "\\begin{align}\n",
    "    P(\\overline{X} \\le x) \\approx \\Phi \\left(\\left(\\frac{x-\\mu}{\\sigma}\\right) \\sqrt{n} \\right)\\ \\forall\\ x \\in \\mathbb{R}\n",
    "\\end{align}\n",
    "\n",
    "O equivalentemente:\n",
    "\n",
    "\\begin{align}\n",
    "    P\\left(\\sum_{i = 1}^{n} X_{i} \\le x\\right) \\approx \\Phi \\left( \\frac{x - n \\mu}{\\sqrt{n \\sigma^{2}}} \\right)\\ \\forall\\ x \\in \\mathbb{R}\n",
    "\\end{align}"
   ]
  },
  {
   "cell_type": "markdown",
   "id": "229df9ee",
   "metadata": {},
   "source": [
    "Pero ¿cuándo consideraremos que la aproximación es adecuada?  \n",
    "\n",
    "El tamano de la m.a. dependera de la distribución de la misma, si ella es simétrica entonces la aproximación podría ser buena aun para *n* pequeño pero debera ser mayor si es asimétrica.  \n",
    "\n",
    "La regla práctica que usaremos será tomar $n \\ge 30$  \n",
    "\n",
    "Una consecuencia del T.C.L. es la aproximación a la Binomial por una Normal."
   ]
  },
  {
   "cell_type": "markdown",
   "id": "7101d1d6",
   "metadata": {},
   "source": [
    "### Consecuencia:\n",
    "Si $X_{1},\\ldots, X_{n}$ es una m.a. con $Bernoulli(p)$ entonces si *\"n es suficientemente grande\":*  \n",
    "\n",
    "\\begin{align}\n",
    "    \\overline{X} = \\hat{p} \\sim N \\left(p, \\frac{p (1 - p)}{n} \\right) \\Leftrightarrow \\frac{\\hat{p} - p} {\\sqrt{\\frac{p (1 - p)}{n}}} \\sim N(0, 1)\n",
    "\\end{align}"
   ]
  },
  {
   "cell_type": "markdown",
   "id": "c664f2eb",
   "metadata": {},
   "source": [
    "### Aproximación a la Binomial por una Normal:\n",
    "Si $X = \\sum_{i = 1}^{n} X_{i} \\sim B(n, p)$ entonces\n",
    "\n",
    "\\begin{align}\n",
    "    P(X \\le x) \\sim \\Phi \\left( \\frac{x - n p}{\\sqrt{n p (1 - p)}}\\right)\n",
    "\\end{align}  \n",
    "\n",
    "Para esta distribución se recomienda tomar\n",
    "\\begin{align}\n",
    "    n p \\ge 10 && y && n (1 - p) \\ge 10\n",
    "\\end{align}"
   ]
  },
  {
   "cell_type": "markdown",
   "id": "99d5dc89",
   "metadata": {},
   "source": [
    "### Ejemplo V:\n",
    "Supongamos que una máquina produce el 10% de articulos defectuosos diariamente. Como una prueba de control de calidad, se procede a detener el funcionamiento de la maquina si por lo menos el 15% son defectuosos en una muestra aleatoria de 100 artículos de la producción diaria. ¿Cuál es la probabilidad que en un día dado deba detenerse la máquina para repararla?"
   ]
  }
 ],
 "metadata": {
  "kernelspec": {
   "display_name": "Python 3 (ipykernel)",
   "language": "python",
   "name": "python3"
  },
  "language_info": {
   "codemirror_mode": {
    "name": "ipython",
    "version": 3
   },
   "file_extension": ".py",
   "mimetype": "text/x-python",
   "name": "python",
   "nbconvert_exporter": "python",
   "pygments_lexer": "ipython3",
   "version": "3.10.0"
  }
 },
 "nbformat": 4,
 "nbformat_minor": 5
}
