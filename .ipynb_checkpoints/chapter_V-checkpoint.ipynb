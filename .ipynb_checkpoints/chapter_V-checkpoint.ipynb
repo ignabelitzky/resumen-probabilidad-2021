{
 "cells": [
  {
   "cell_type": "markdown",
   "id": "0a1e4049",
   "metadata": {},
   "source": [
    "# Distribucion de Probabilidad Conjunta"
   ]
  },
  {
   "cell_type": "markdown",
   "id": "1819f776",
   "metadata": {},
   "source": [
    "El conocimiento de estas distribuciones es fundamental para aplicar en el Metodo de Maxima Verosimilitud e inferencia estadistica, sobre una poblacion de la cual se selecciono una muestra aleatoria.  \n",
    "Para comenzar consideremos la distribucion conjunta para dos v.a. discretas, luego para dos v.a. continuas y para terminar se extenderan las definiciones para mas de dos v.a."
   ]
  },
  {
   "cell_type": "markdown",
   "id": "b228e27a",
   "metadata": {},
   "source": [
    "## Funcion de Probabilidad de Masa Conjunta"
   ]
  },
  {
   "cell_type": "markdown",
   "id": "ce0363b6",
   "metadata": {},
   "source": [
    "### Definicion:\n",
    "Sean *X* e *Y* v.a. discretas, sobre el mismo espacio muestral *S*, entonces la **Funcion de Probabilidad de Masa Conjunta (fpmc) de (X, Y)** es la funcion definida:"
   ]
  },
  {
   "cell_type": "markdown",
   "id": "cab31b6b",
   "metadata": {},
   "source": [
    "\\begin{align}\n",
    "    p(x, y) &= P[(X = x) \\cap (Y = y)] & \\forall x, y \\in \\mathbb{R}\n",
    "\\end{align}"
   ]
  },
  {
   "cell_type": "markdown",
   "id": "b039459d",
   "metadata": {},
   "source": [
    "### Propiedades de la fpmc:\n",
    "* \n",
    "\\begin{align}\n",
    "    0 \\le p(x,y) \\le 1, && \\forall x, y \\in \\mathbb{R}\n",
    "\\end{align}  \n",
    "\n",
    "\n",
    "* \n",
    "\\begin{align}\n",
    "    P[(X, Y) \\in A] = \\sum_{(x,y) \\in A} p(x, y), && \\forall A \\subseteq \\mathbb{R}^{2}\n",
    "\\end{align}  \n",
    "\n",
    "\n",
    "* \n",
    "\\begin{align}\n",
    "    \\sum_{x}\\sum_{y} p(x, y) = 1\n",
    "\\end{align}"
   ]
  },
  {
   "cell_type": "markdown",
   "id": "30116943",
   "metadata": {},
   "source": [
    "**Observacion:** Usando la fpmc de (X, Y) se pueden obtener las funciones de distribucion de probabilidades para *X* e *Y* respectivamente. Las mismas estan dadas por:  \n",
    "\n",
    "\\begin{align}\n",
    "    p_{x} (x) &= \\sum_{y} p(x, y) & \\forall x \\in \\mathbb{R} \\\\\n",
    "    p_{y} (y) &= \\sum_{x} p(x, y) & \\forall y \\in \\mathbb{R}\n",
    "\\end{align}"
   ]
  },
  {
   "cell_type": "markdown",
   "id": "8294f81f",
   "metadata": {},
   "source": [
    "### Ejemplo I:\n",
    "Se asignan aleatoriamente dos contratos diferentes entre tres empresas (A, B o C).  \n",
    "Sean *X* e *Y* las v.a. definidas como el numero de contratos asignados a la empresa A y B respectivamente; osea cada empresa puede recibir 0, 1 o 2 contratos.  \n",
    "\n",
    "a) Hallar la fpmc de (X, Y).\n",
    "\n",
    "b) Hallar las funciones de probabilidad marginal para *X* e *Y* respectivamente.\n",
    "\n",
    "c) Calcular la esperanza y varianza de *X* e *Y*."
   ]
  },
  {
   "cell_type": "markdown",
   "id": "1f48db55",
   "metadata": {},
   "source": [
    "## Funcion de Densidad de Probabilidad Conjunta"
   ]
  },
  {
   "cell_type": "markdown",
   "id": "8ae374cb",
   "metadata": {},
   "source": [
    "### Definicion:\n",
    "Sean *X* e *Y* v.a. continuas, sobre el mismo espacio muestral *S*. SE llama **Funcion de Densidad de Probabilidad Continua (fdpc) de (X, Y)** a una funcion $f: \\mathbb{R}^{2} \\rightarrow \\mathbb{R}$ no negativa y tal que:\n",
    "\n",
    "\\begin{align}\n",
    "    P[(a_{1} \\le X \\le b_{1}) \\cap (a_{2} \\le Y \\le b_{2}) ] = \\int_{a_{1}}^{b_{1}} \\int_{a_{2}}^{b_{2}} f(x, y) dy dx\n",
    "\\end{align}\n",
    "\n",
    "donde $a_{i} < b_{i}$ con *i = 1, 2.*"
   ]
  },
  {
   "cell_type": "markdown",
   "id": "11922cba",
   "metadata": {},
   "source": [
    "### Propiedades de la fdpc:\n",
    "\n",
    "* \n",
    "\\begin{align}\n",
    "    \\int_{-\\infty}^{\\infty} \\int_{-\\infty}^{\\infty} f(x, y) dx dy = 1\n",
    "\\end{align}\n",
    "\n",
    "\n",
    "* \n",
    "\\begin{align}\n",
    "    P[(X, Y) \\in A] = \\int \\int_{(x,y) \\in A} f(x, y) dx dy && \\forall A \\subseteq \\mathbb{R}^{2}\n",
    "\\end{align}"
   ]
  },
  {
   "cell_type": "markdown",
   "id": "821c43bc",
   "metadata": {},
   "source": [
    "**Observacion:** Usando la fdpc de (X, Y) se pueden obtener las funciones de densidad de probabilidades para *X* e *Y* respectivamente. Las mismas estan dadas por:\n",
    "\n",
    "\\begin{align}\n",
    "    f_{x} (x) &= \\int_{-\\infty}^{\\infty} f(x, y) dy & \\forall x \\in \\mathbb{R} \\\\\n",
    "    f_{y} (y) &= \\int_{-\\infty}^{\\infty} f(x, y) dx & \\forall y \\in \\mathbb{R}\n",
    "\\end{align}\n",
    "\n",
    "Estas funciones $f_{x}$ y $f_{y}$ se las denomina **funcion densidad de probabilidad marginal para *X* e *Y* respectivamente.**"
   ]
  },
  {
   "cell_type": "markdown",
   "id": "fe237ae4",
   "metadata": {},
   "source": [
    "### Ejemplo II:\n",
    "Supongamos que en un peaje hay dos puestos de atencion, uno para automoviles particulares y otro para colectivos. Sean *X* e *Y* la proporcion de tiempo en que permanece ocupado el puesto de automoviles particulares y el de colectivos respectivamente, en una unidad especificada. Supongamos que la fdpc de (X, Y) esta dada por:\n",
    "\n",
    "\\begin{equation}\n",
    "    f(x, y) =\n",
    "    \\begin{cases}\n",
    "        k(x + y^{2}) & \\text{para } 0 \\le x, y \\le 1 \\\\\n",
    "        0 & \\text{caso contrario}\n",
    "    \\end{cases}\n",
    "\\end{equation}\n",
    "\n",
    "con *k* una constante positiva.\n",
    "\n",
    "a) Determinar el valor de la constante *k* para que *f* sea fdpc.  \n",
    "\n",
    "b) Hallar las funciones densidad de probabilidad marginal para *X* e *Y* respectivamente.  \n",
    "\n",
    "c) Hallar la probabilidad que las proporciones de los tiempos ocupados por ambos puestos sean menores a $1/4$.  \n",
    "\n",
    "d) Calcular $P(X > Y)$.\n",
    "\n",
    "e) Hallar la esperanza y varianza de *X* e *Y*."
   ]
  },
  {
   "cell_type": "markdown",
   "id": "89178eed",
   "metadata": {},
   "source": [
    "### Ejemplo III:\n",
    "Dada la siguiente fdpc de (X, Y)\n",
    "\n",
    "\\begin{equation}\n",
    "    f(x, y) =\n",
    "    \\begin{cases}\n",
    "        k x y & 0 \\le x, y \\le 1, & x + y \\le 1 \\\\\n",
    "        0 & \\text{caso contrario}\n",
    "    \\end{cases}\n",
    "\\end{equation}\n",
    "\n",
    "con *k* una constante positiva.\n",
    "\n",
    "a) Determinar el valor de la constante *k* para que *f* sea fdpc.  \n",
    "\n",
    "b) Hallar las funciones de densidad de probabilidad marginal para *X* e *Y* respectivamente."
   ]
  },
  {
   "cell_type": "markdown",
   "id": "e8b7e9d0",
   "metadata": {},
   "source": [
    "## Variables aleatorias independientes"
   ]
  },
  {
   "cell_type": "markdown",
   "id": "41c28cb8",
   "metadata": {},
   "source": [
    "### Definicion:\n",
    "Diremos que *X* e *Y* son **v.a. independientes**, sobre el mismo espacio muestral *S*, si\n",
    "\n",
    "\\begin{align}\n",
    "    p(x, y) = p_{x}(x) p_{y}(y)&& \\forall x, y \\in \\mathbb{R}\\ \\text{si X e Y son v.a. discretas.} \\\\\n",
    "    f(x, y) = f_{x}(x) f_{y}(y)&& \\forall x, y \\in \\mathbb{R}\\ \\text{si X e Y son v.a. continuas.}\n",
    "\\end{align}"
   ]
  },
  {
   "cell_type": "markdown",
   "id": "66ca036e",
   "metadata": {},
   "source": [
    "---\n",
    "Volver a los enunciados de los ejemplos I y IV, determinar si las variables *X* e *Y* son independientes. Justifique claramente su respuesta.  \n",
    "___"
   ]
  },
  {
   "cell_type": "markdown",
   "id": "f7a19534",
   "metadata": {},
   "source": [
    "Ahora vamos a extender los conceptos dados para mas de dos variables aleatorias."
   ]
  },
  {
   "cell_type": "markdown",
   "id": "fa3e5757",
   "metadata": {},
   "source": [
    "### Definicion:\n",
    "Sean $X_{1}, X_{2},\\ldots, X_{n}$ v.a., sobre el mismo espacio muestral *S*, entonces:  \n",
    "\n",
    "a) Si ellas son discretas se define la **funcion de probabilidad de masa conjunta de $(X_{1}, X_{2},\\ldots, X_{n})$** como:\n",
    "\n",
    "\\begin{align}\n",
    "    p(x_{1}, x_{2},\\ldots, x_{n}) = P\\left(\\cap_{i = 1}^{n} [X_{i} = x_{i}]\\right) \\forall x_{i} \\in \\mathbb{R}, i = 1,\\ldots, n.\n",
    "\\end{align}  \n",
    "\n",
    "b) Si ellas son continuas se llama **funcion densidad de probabilidad conjunta de $(X_{1}, X_{2}, \\ldots, X_{n})$** a una funcion *f* no negativa tal que:\n",
    "\n",
    "\\begin{align}\n",
    "    P([a_{1} \\le X_{1} \\le b_{1}] \\cap \\ldots \\cap [a_{n} \\le X_{n} \\le b_{n}]) = \\int_{a_{1}}^{b_{1}} \\ldots \\int_{a_{n}}^{b_{n}} f(x_{1},\\ldots, x_{n}) dx_{n} \\ldots dx_{1} \\\\\n",
    "    \\forall a_{i} < b_{i}\\ \\text{numeros reales, } i = 1,\\ldots, n.\n",
    "\\end{align}  \n",
    "\n",
    "c) Diremos que $X_{1}, X_{2}, \\ldots, X_{n}$ son v.a. **mutuamente independientes** si cualquier subconjunto de v.a. $\\{X_i\\}_{i \\in I}$ cumple que la fpmc o fdpc, segun corresponda, es igual al producto de las marginales."
   ]
  },
  {
   "cell_type": "markdown",
   "id": "a46c76a8",
   "metadata": {},
   "source": [
    "## Valores esperados, covarianza y correlacion"
   ]
  },
  {
   "cell_type": "markdown",
   "id": "5f0637bf",
   "metadata": {},
   "source": [
    "Ahora vamos a ver como calcular el valor esperado de una v.a. que tenga en cuenta la informacion de dos o mas variables aleatorias.  \n",
    "Tambien daremos una *medida de la asociacion* entre variables aleatorias. "
   ]
  },
  {
   "cell_type": "markdown",
   "id": "86214da5",
   "metadata": {},
   "source": [
    "### Proposicion:\n",
    "Sean *X* e *Y* v.a., sobre el mismo espacio muestral *S*, con fpmc o fdpc de (X, Y) en el caso discreto o continuo respectivamente. Entonces\n",
    "\n",
    "\\begin{equation}\n",
    "    E(h(X, Y) =\n",
    "    \\begin{cases}\n",
    "        \\sum_{x} \\sum_{y} h(x, y)\\ p(x, y) & \\text{caso discreto} \\\\\n",
    "        \\int_{-\\infty}^{\\infty} \\int_{-\\infty}^{\\infty} h(x, y)\\ f(x, y) dx dy & \\text{caso continuo}\n",
    "    \\end{cases}\n",
    "\\end{equation}\n",
    "\n",
    "siempre que exista.  \n",
    "\n",
    "Se puede extender este metodo para calcular el valor esperado de una funcion de *n* v.a., cambiando por una suma o integral *n* dimensional segun que las v.a. sean discretas o continuas respectivamente."
   ]
  },
  {
   "cell_type": "markdown",
   "id": "4b7f0665",
   "metadata": {},
   "source": [
    "### Consecuencia:\n",
    "Si *X* e *Y* v.a., sobre el mismo espacio muestral *S*, con valores esperados entonces\n",
    "\n",
    "a) $E(aX + bY) = aE(X) + bE(Y)\\ \\forall a, b \\in \\mathbb{R}$  \n",
    "\n",
    "b) Si *X* e *Y* son v.a. independientes $E(XY) = E(X)\\ E(Y)$  \n",
    "\n",
    "Por otro lado cuando dos v.a. no son independientes entonces se puede definir una medida que cuantifique la dependencia entre ellas."
   ]
  },
  {
   "cell_type": "markdown",
   "id": "dc9ff939",
   "metadata": {},
   "source": [
    "### Definicion:\n",
    "Sean *X* e *Y* v.a., sobre el mismo espacio muestral *S*, entonces se define la **covarianza entre X e Y** como\n",
    "\n",
    "\\begin{align}\n",
    "    cov(X, Y) &= E[(X - \\mu_{X}) (Y-\\mu_{Y})] \\\\\n",
    "    &= \n",
    "    \\begin{cases}\n",
    "        \\sum_{(x, y)} (x - \\mu_{X}) (y - \\mu_{Y}) p(x, y) & \\text{caso discreto} \\\\\n",
    "        \\int \\int (x - \\mu_{X}) (y - \\mu_{Y}) f(x, y) dx dy & \\text{caso continuo}\n",
    "    \\end{cases}\n",
    "\\end{align}\n",
    "\n",
    "donde $\\mu_{X}$ y $\\mu_{Y}$ son las esperanzas de *X* e *Y* respectivamente."
   ]
  },
  {
   "cell_type": "markdown",
   "id": "16274728",
   "metadata": {},
   "source": [
    "---\n",
    "La $cov(X, Y)$ es una medida de dependencia lineal entre *X* e *Y*, el signo sera positivo o negativo dependiendo si ellas estan positivamente o negativamente asociadas.\n",
    "\n",
    "\\begin{align}\n",
    "    cov(X, Y) > 0 && \\text{entonces cuando X crece Y crece} \\\\\n",
    "    cov(X, Y) < 0 && \\text{entocnes cuando X crece Y decrece} \\\\\n",
    "    cov(X, Y) = 0 && \\text{si no hay dependencia lineal entre X e Y}\n",
    "\\end{align}  \n",
    "___"
   ]
  },
  {
   "cell_type": "markdown",
   "id": "4a3daf1d",
   "metadata": {},
   "source": [
    "### Proposicion:\n",
    "Sean *X* e *Y* v.a., sobre el mismo espacio muestral *S*, entonces:\n",
    "\n",
    "a) $cov(X, Y) = E(X\\ Y) - E(X)E(Y)$  \n",
    "b) Si *X* e *Y* son v.a. independientes $cov(X, Y) = 0$  \n",
    "c) $cov(aX + b,\\ cY + d) = a\\ c\\ cov(X, Y)\\ \\ \\forall a, b, c\\ y\\ d \\in \\mathbb{R}$  \n",
    "d) $V(aX + bY) = a^{2} V(X) + b^{2} V(Y) + 2\\ a\\ b\\ cov(X, Y)\\ \\ \\forall a, b \\in \\mathbb{R}$  \n",
    "e) Si *X* e *Y* son v.a. independientes entonces  \n",
    "$V(aX + bY) = a^{2} V(X) + b^{2} V(Y)\\ \\ \\forall a, b \\in \\mathbb{R}.$"
   ]
  }
 ],
 "metadata": {
  "kernelspec": {
   "display_name": "Python 3 (ipykernel)",
   "language": "python",
   "name": "python3"
  },
  "language_info": {
   "codemirror_mode": {
    "name": "ipython",
    "version": 3
   },
   "file_extension": ".py",
   "mimetype": "text/x-python",
   "name": "python",
   "nbconvert_exporter": "python",
   "pygments_lexer": "ipython3",
   "version": "3.9.7"
  }
 },
 "nbformat": 4,
 "nbformat_minor": 5
}
