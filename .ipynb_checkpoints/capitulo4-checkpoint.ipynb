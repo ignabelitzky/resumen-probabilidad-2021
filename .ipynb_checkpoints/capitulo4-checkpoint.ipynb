{
 "cells": [
  {
   "cell_type": "markdown",
   "metadata": {},
   "source": [
    "# *Capítulo 4 - Variables aleatorias continuas y distribuciones de probabilidad*"
   ]
  },
  {
   "cell_type": "markdown",
   "metadata": {},
   "source": [
    "## 4.1 Funciones de densidad de probabilidad"
   ]
  },
  {
   "cell_type": "markdown",
   "metadata": {},
   "source": [
    "### Distribuciones de probabilidad de variables continuas"
   ]
  },
  {
   "cell_type": "markdown",
   "metadata": {},
   "source": [
    "**Definición:** Sea X una variable aleatoria continua. Entonces, una **distribución de probabilidad** o **función de densidad de probabilidad** (fdp) de $X$ es una función $f(x)$ tal que para dos números cualesquiera $a$ y $b$ con $a \\le b$.\n",
    "\n",
    "\\begin{align*}\n",
    "    P(a \\le X \\le b) = \\int_{a}^{b}f(x)\n",
    "\\end{align*}\n",
    "\n",
    "Es decir, la probabilidad de que $X$ asuma un valor en el intervalo [a, b] es el área sobre este intervalo y bajo la gráfica de la función de densidad, como se ilustra en la siguiente figura. La gráfica de $f(x)$ a menudo se conoce como *curva de densidad.*"
   ]
  },
  {
   "cell_type": "markdown",
   "metadata": {},
   "source": [
    "![image1](resources/imgs_cap4/img_cap4_01.png)\n",
    "\\begin{align*}\n",
    "    (a \\le X \\le b) = \\text{el área bajo la curva de densidad entra a y b}\n",
    "\\end{align*}"
   ]
  },
  {
   "cell_type": "markdown",
   "metadata": {},
   "source": [
    "Para que $f(x)$ sea una función de densidad de probabilidad legítima, debe satisfacer las dos siguientes condiciones:\n",
    "1. $f(x) \\ge 0$ para todas las $x$.\n",
    "2. $\\int_{-\\infty}^{\\infty}f(x)d(x) = 1$"
   ]
  },
  {
   "cell_type": "markdown",
   "metadata": {},
   "source": [
    "**Definición:** Se dice que una variable aleatoria continua $X$ tiene una **distribución uniforme** en el intervalo [A, B] si la función de densidad de probabilidad de $X$ es"
   ]
  },
  {
   "cell_type": "markdown",
   "metadata": {},
   "source": [
    "\\begin{equation}\n",
    "  f(x; A, B) =\n",
    "    \\begin{cases}\n",
    "      \\frac{1}{(B-A)} & A \\le x \\le B \\\\\n",
    "      0 & \\text{de lo contrario}\n",
    "    \\end{cases}       \n",
    "\\end{equation}"
   ]
  },
  {
   "cell_type": "markdown",
   "metadata": {},
   "source": [
    "## 4.2 Funciones de distribución acumulativa y valores esperados"
   ]
  },
  {
   "cell_type": "markdown",
   "metadata": {},
   "source": [
    "**Definición:** La **función de distribución acumulativa** $F(x)$ de una variable aleatoria continua $X$ se define para todo número $x$ como\n",
    "\n",
    "\\begin{align*}\n",
    "    F(x) = P(X \\le x) = \\int_{-\\infty}^{x}f(y)dy\n",
    "\\end{align*}\n",
    "\n",
    "Para cada $x$, $F(x)$ es el área bajo la curva de densidad a la izquierda de $x$. Esto se ilustra en la siguiente figura, donde $F(x)$ se incrementa con suavidad a medida que $x$ se incrementa.\n"
   ]
  },
  {
   "cell_type": "markdown",
   "metadata": {},
   "source": [
    "![image1](resources/imgs_cap4/img_cap4_02.png)\n",
    "\\begin{align*}\n",
    "    \\text{Una función de densidad de probabilidad y función de distribución acumulativa asociada.}\n",
    "\\end{align*}"
   ]
  },
  {
   "cell_type": "markdown",
   "metadata": {},
   "source": [
    "### Utilización de $F(x)$ para calcular probabilidades"
   ]
  },
  {
   "cell_type": "markdown",
   "metadata": {},
   "source": [
    "**Proposición:** Sea $X$ una variable aleatoria continua con función de densidad de probrabilidad $f(x)$ y función de distribución acumulativa $F(x)$. Entonces para cualquier número $a$,\n",
    "\n",
    "\\begin{align*}\n",
    "    P(X > a) = 1 - F(a)\n",
    "\\end{align*}\n",
    "\n",
    "y para dos números cualesquiera $a$ y $b$ con $a < b$,\n",
    "\n",
    "\\begin{align*}\n",
    "    P(a \\le X \\le b) = F(b) - F(a)\n",
    "\\end{align*}"
   ]
  },
  {
   "cell_type": "markdown",
   "metadata": {},
   "source": [
    "![image1](resources/imgs_cap4/img_cap4_03.png)\n",
    "\\begin{align*}\n",
    "    \\text{Cálculo de $P(a \\le X \\le b)$ a partir de probabilidades acumulativas.}\n",
    "\\end{align*}"
   ]
  },
  {
   "cell_type": "markdown",
   "metadata": {},
   "source": [
    "### Obtención de $f(x)$ a partir de $F(x)$"
   ]
  },
  {
   "cell_type": "markdown",
   "metadata": {},
   "source": [
    "**Proposición:** Si $X$ es una variable aleatoria continua con función de densidad de probabilidad $f(x)$ y función de distribución acumulativa $F(x)$, entonces en cada $x$ que hace posible que la derivada $F'(x)$ exista, $F'(x) = f(x)$"
   ]
  },
  {
   "cell_type": "markdown",
   "metadata": {},
   "source": [
    "### Percentiles de una distribución continua"
   ]
  },
  {
   "cell_type": "markdown",
   "metadata": {},
   "source": [
    "**Definición:** Sea $p$ un número entre 0 y 1. El $(100p)°\\ percentil$ de la distribución de una variable aleatoria continua $X$, denotada por $\\eta(p)$, se define como\n",
    "\n",
    "\\begin{align*}\n",
    "    p = F(\\eta(p)) = \\int_{-\\infty}^{\\eta(p)}f(y)dy\n",
    "\\end{align*}"
   ]
  },
  {
   "cell_type": "markdown",
   "metadata": {},
   "source": [
    "![image1](resources/imgs_cap4/img_cap4_04.png)\n",
    "\\begin{align*}\n",
    "    \\text{El $(100p)°$ percentil de una distribución continua.}\n",
    "\\end{align*}"
   ]
  },
  {
   "cell_type": "markdown",
   "metadata": {},
   "source": [
    "**Definición:** La **mediana**  de una distribución continua, denotada por $\\tilde{\\mu}$, es el 50° percentil, asi que $\\tilde{\\mu}$ satisface .5 $= F(\\tilde{\\mu})$. Es decir, la mitad del área bajo la curva de densidad se encuentra a la izquierda de $\\tilde{\\mu}$ y la mitad a la derecha de $\\tilde{\\mu}$."
   ]
  },
  {
   "cell_type": "markdown",
   "metadata": {},
   "source": [
    "### Valores esperados"
   ]
  },
  {
   "cell_type": "markdown",
   "metadata": {},
   "source": [
    "**Definición:** El **valor esperado** o **valor medio** de una variable aleatoria continua $X$ con función de densidad de probabilidad $f(x)$ es"
   ]
  },
  {
   "cell_type": "markdown",
   "metadata": {},
   "source": [
    "\\begin{align*}\n",
    "    \\mu_{x} = E(X) = \\int_{-\\infty}^{\\infty}x.f(x) dx\n",
    "\\end{align*}"
   ]
  },
  {
   "cell_type": "markdown",
   "metadata": {},
   "source": [
    "**Proposición:** Si $X$ es una variable aleatoria continua con función de densidad de probabilidad $f(x)$ y $h(x)$ es cualquier función de $X$, entonces"
   ]
  },
  {
   "cell_type": "markdown",
   "metadata": {},
   "source": [
    "\\begin{align*}\n",
    "    E[h(X)] = \\mu_{h(x)} = \\int_{-\\infty}^{\\infty}h(x) . f(x)dx\n",
    "\\end{align*}"
   ]
  },
  {
   "cell_type": "markdown",
   "metadata": {},
   "source": [
    "**Definición:** La **varianza** de una variable aleatoria continua $X$ con función de densidad de probabilidad $f(x)$ y valor medio $\\mu$ es"
   ]
  },
  {
   "cell_type": "markdown",
   "metadata": {},
   "source": [
    "\\begin{align*}\n",
    "    \\sigma_{X}^{2} = V(X) = \\int_{-\\infty}^{\\infty}(x - \\mu)^{2} \\cdot f(x)dx = E[(X - \\mu)^{2}]\n",
    "\\end{align*}"
   ]
  },
  {
   "cell_type": "markdown",
   "metadata": {},
   "source": [
    "La **desviación estándar** (DE) de $X$ es $\\sigma_{X} = \\sqrt{V(X)}$"
   ]
  },
  {
   "cell_type": "markdown",
   "metadata": {},
   "source": [
    "**Proposición:**\n",
    "$$V(X) = E(X^{2}) - [E(X)]^{2}$$"
   ]
  },
  {
   "cell_type": "markdown",
   "metadata": {},
   "source": [
    "## 4.3 Distribución normal"
   ]
  },
  {
   "cell_type": "markdown",
   "metadata": {},
   "source": [
    "**Definición:** Se dice que una variable aleatoria continua $X$ tiene una **distribución normal** con parámetros $\\mu$ y $\\sigma$ (o $\\mu$ y $\\sigma^{2}$), donde $-\\infty < \\mu < \\infty$ y $0 < \\sigma$, si la función de densidad de probabilidad de X es"
   ]
  },
  {
   "cell_type": "markdown",
   "metadata": {},
   "source": [
    "\\begin{align*}\n",
    "    f(x;\\mu,\\sigma) &= \\frac{1}{\\sqrt{2\\pi}\\sigma}e^{-(x-\\mu)^{2}/(2\\sigma^{2})} & \\infty < x < \\infty\n",
    "\\end{align*}"
   ]
  },
  {
   "cell_type": "markdown",
   "metadata": {},
   "source": [
    "### Distribución normal estándar"
   ]
  },
  {
   "cell_type": "markdown",
   "metadata": {},
   "source": [
    "El cálculo de $P(a \\le X \\le b)$ cuando $X$ es una variable aleatoria normal con parámetros $\\mu$ y $\\sigma$, requiere determinar"
   ]
  },
  {
   "cell_type": "markdown",
   "metadata": {},
   "source": [
    "\\begin{align*}\n",
    "    \\int_{a}^{b}\\frac{1}{\\sqrt{2\\pi}\\sigma}e^{-(x-\\mu)^{2}/(2\\sigma^{2})}dx\n",
    "\\end{align*}"
   ]
  },
  {
   "cell_type": "markdown",
   "metadata": {},
   "source": [
    "Ninguna de las técnicas estándar de integración puede ser utilizada para lograr esto. En cambio, con $\\mu = 0$ y $\\sigma = 1$, se cálculo la expresión por medio de técnicas numéricas y se tabulo para ciertos valores de $a$ y $b$. Esta tabla también puede ser utilizada para calcular probabilidades con cualesquiera otros valores $\\mu$ y $\\sigma$ considerados."
   ]
  },
  {
   "cell_type": "markdown",
   "metadata": {},
   "source": [
    "**Definición:** La distribución normal con valores de parametro $\\mu = 0$ y $\\sigma = 1$ se llama **distribución normal estándar.** Una variable aleatoria que tiene una distribución normal estándar se llama **variable aleatoria normal estándar** y se denotará por $Z$. La función de densidad de probabilidad $Z$ es"
   ]
  },
  {
   "cell_type": "markdown",
   "metadata": {},
   "source": [
    "\\begin{align*}\n",
    "    f(z; 0, 1) = \\frac{1}{\\sqrt{2\\pi}}e^{-\\frac{z^{2}}{2}}& -\\infty < z < \\infty\n",
    "\\end{align*}"
   ]
  },
  {
   "cell_type": "markdown",
   "metadata": {},
   "source": [
    "La gráfica de $f(z; 0, 1)$ se llama curva *normal estándar (o z).* Sus puntos de inflexión están en 1 y -1. La función de distribución acumulativa de $Z$ es $P(Z \\le z) = \\int_{-\\infty}^{z}f(y; 0, 1)dy$ la cual sera denotada por $\\Phi(z)$"
   ]
  },
  {
   "cell_type": "markdown",
   "metadata": {},
   "source": [
    "![image1](resources/imgs_cap4/img_cap4_05.png)\n",
    "\\begin{align*}\n",
    "    \\text{Áreas acumulativas normales estándar tabuladas en la tabla A.3 del apéndice.}\n",
    "\\end{align*}"
   ]
  },
  {
   "cell_type": "markdown",
   "metadata": {},
   "source": [
    "### Percentiles de la distribución normal estándar"
   ]
  },
  {
   "cell_type": "markdown",
   "metadata": {},
   "source": [
    "Con cualquier $p$ entre 0 y 1, se puede utilizar la tabla A.3 del apéndice para obtener el $(100p)°\\ percentil$ de la distribución normal estándar."
   ]
  },
  {
   "cell_type": "markdown",
   "metadata": {},
   "source": [
    "### Notación $Z_\\alpha$ para valores $Z$ críticos"
   ]
  },
  {
   "cell_type": "markdown",
   "metadata": {},
   "source": [
    "**Notación:** $Z_\\alpha$ denotará el valor sobre el eje $z$ para el cual $\\alpha$ del área bajo la curva $z$ queda a la derecha de $Z_\\alpha$"
   ]
  },
  {
   "cell_type": "markdown",
   "metadata": {},
   "source": [
    "Por ejemplo, $z_{.10}$ captura el area de cola superior .10, y $z_{.01}$ captura el área de cola superior .01"
   ]
  },
  {
   "cell_type": "markdown",
   "metadata": {},
   "source": [
    "![image1](resources/imgs_cap4/img_cap4_06.png)\n",
    "\\begin{align*}\n",
    "    \\text{Notación $Z_\\alpha$ ilustrada.}\n",
    "\\end{align*}"
   ]
  },
  {
   "cell_type": "markdown",
   "metadata": {},
   "source": [
    "### Distribución normales no estándar"
   ]
  },
  {
   "cell_type": "markdown",
   "metadata": {},
   "source": [
    "Cuando $X \\sim N(\\mu,\\sigma^{2})$, las probabilidades que implican $X$ se calculan \"estandarizando\". La **variable estandarizada** es $(X - \\mu)/\\sigma$. Al restar $\\mu$ la media cambia de $\\mu$ a cero y luego al dividir entre $\\sigma$ cambian las escalas de la variable de modo que la desviación estándar es 1 en lugar de $\\sigma$."
   ]
  },
  {
   "cell_type": "markdown",
   "metadata": {},
   "source": [
    "**Proposicion:** Si $X$ tiene una distribución normal con media $\\mu$ y desviación estándar $\\sigma$, entonces"
   ]
  },
  {
   "cell_type": "markdown",
   "metadata": {},
   "source": [
    "\\begin{align*}\n",
    "    Z = \\frac{X - \\mu}{\\sigma}\n",
    "\\end{align*}"
   ]
  },
  {
   "cell_type": "markdown",
   "metadata": {},
   "source": [
    "tiene una distribución normal estándar. Por lo tanto"
   ]
  },
  {
   "cell_type": "markdown",
   "metadata": {},
   "source": [
    "\\begin{align*}\n",
    "    P(a \\le X \\le b) = P\\left(\\frac{a-\\mu}{\\sigma} \\le Z \\le \\frac{b-\\mu}{\\sigma}\\right)\n",
    "\\end{align*}"
   ]
  },
  {
   "cell_type": "markdown",
   "metadata": {},
   "source": [
    "\\begin{align*}\n",
    "    & = \\Phi\\left(\\frac{b-\\mu}{\\sigma}\\right)-\\Phi\\left(\\frac{a-\\mu}{\\sigma}\\right)\n",
    "\\end{align*}"
   ]
  },
  {
   "cell_type": "markdown",
   "metadata": {},
   "source": [
    "\\begin{align*}\n",
    "    P(X \\le a) = \\Phi\\left(\\frac{a-\\mu}{\\sigma}\\right) &&&&& P(X \\ge b) = 1 - \\Phi\\left(\\frac{b-\\mu}{\\sigma}\\right)\n",
    "\\end{align*}"
   ]
  },
  {
   "cell_type": "markdown",
   "metadata": {},
   "source": [
    "### Percentiles de una distribución normal arbitraria"
   ]
  },
  {
   "cell_type": "markdown",
   "metadata": {},
   "source": [
    "**Proposición:**\n",
    "\\begin{align*}\n",
    "    \\text{(100p)° percentil para ($\\mu$, $\\sigma$) normal = $\\mu$ + [(100p)° para normal estándar] $\\cdot$ $\\sigma$}\n",
    "\\end{align*}\n"
   ]
  },
  {
   "cell_type": "markdown",
   "metadata": {},
   "source": [
    "### Distribución normal y poblaciones discretas"
   ]
  },
  {
   "cell_type": "markdown",
   "metadata": {},
   "source": [
    "La distribución normal a menudo se utiliza como una aproximación a la distribución de valores en una población discreta. En semejantes situaciones se debe tener cuidado especial para asegurarse de que las probabilidades se calculen con precisión."
   ]
  },
  {
   "cell_type": "markdown",
   "metadata": {},
   "source": [
    "### Aproximación de la distribución binomial"
   ]
  },
  {
   "cell_type": "markdown",
   "metadata": {},
   "source": [
    "**Proposición:** Sea $X$ una variable aleatoria binomial basada en $n$ ensayos con probabilidad de éxito $p$. Entonces, si el histograma de probabilidad binomial no es demasiado asimétrico, $X$ tiene aproximadamente una distribución normal con $\\mu = np$ y $\\sigma = \\sqrt{npq}$. En particular, con $x =$ un valor posible de $X$,"
   ]
  },
  {
   "cell_type": "markdown",
   "metadata": {},
   "source": [
    "\\begin{align*}\n",
    "    P(X \\le x) &= B(x, n, p) \\approx \\left(\\text{área bajo la curva normal a la izquierda de x + .5}\\right) \\\\\n",
    "    &= \\Phi\\left(\\frac{x + .5 - np}{\\sqrt{npq}}\\right)\n",
    "\\end{align*}"
   ]
  },
  {
   "cell_type": "markdown",
   "metadata": {},
   "source": [
    "En la práctica, la aproximación es adecuada siempre que $np \\ge 10$ y $nq \\ge 10$, puesto que en ese caso existe bastante simetría en la distribución binomial subyacente."
   ]
  },
  {
   "cell_type": "markdown",
   "metadata": {},
   "source": [
    "## 4.4 Distribución exponencial y gamma"
   ]
  },
  {
   "cell_type": "markdown",
   "metadata": {},
   "source": [
    "La curva de densidad correspondiente a cualquier distribución normal tiene forma de campana y por consiguiente es simétrica. Existen muchas situaciones prácticas en las cuales la variable de interés para un investigador podría tener una distribución asimétrica. Una familia de distribuciones que tiene esta propiedad es la familia *gamma.* Primero se considera un caso especial, la distribución *exponencial*, y luego se le generaliza mas adelante en esta sección."
   ]
  },
  {
   "cell_type": "markdown",
   "metadata": {},
   "source": [
    "### Distribución exponencial"
   ]
  },
  {
   "cell_type": "markdown",
   "metadata": {},
   "source": [
    "**Definición:** Se dice que $X$ tiene una **distribución exponencial** con parámetros $\\lambda (\\lambda > 0)$ si la función de densidad de probabilidad de $X$ es"
   ]
  },
  {
   "cell_type": "markdown",
   "metadata": {},
   "source": [
    "\\begin{equation}\n",
    "  f(x;\\lambda) =\n",
    "    \\begin{cases}\n",
    "      \\lambda e^{-\\lambda x} & \\text{$x \\ge 0$}\\\\\n",
    "      0 & \\text{de lo contrario}\n",
    "    \\end{cases}       \n",
    "\\end{equation}"
   ]
  },
  {
   "cell_type": "markdown",
   "metadata": {},
   "source": [
    "___\n",
    "Algunas fuentes escriben la funcion de densidad de probabilidad exponencial en la forma $(1/\\beta)e^{-x/\\beta}$, de modo que $\\beta = 1/\\lambda$. El valor esperado de una variable aleatoria $X$ exponencialmente distribuida es"
   ]
  },
  {
   "cell_type": "markdown",
   "metadata": {},
   "source": [
    "\\begin{align*}\n",
    "    E(X) = \\int_{0}^{\\infty}x \\lambda e^{-\\lambda x} dx\n",
    "\\end{align*}"
   ]
  },
  {
   "cell_type": "markdown",
   "metadata": {},
   "source": [
    "Para obtener este valor esperado se requiere integrar por partes. La varianza de $X$ se calcula utilizando el hecho de que $V(X) = E(X^{2}) - [E(X)]^{2}$. La determinación de $E(X^{2})$ requiere integrar por partes dos veces en sucesión. Los resultados de estas integraciones son los siguientes:"
   ]
  },
  {
   "cell_type": "markdown",
   "metadata": {},
   "source": [
    "\\begin{align*}\n",
    "    \\mu = \\frac{1}{\\lambda} &&&&&&& \\sigma^{2} = \\frac{1}{\\lambda^{2}}\n",
    "\\end{align*}"
   ]
  },
  {
   "cell_type": "markdown",
   "metadata": {},
   "source": [
    "Tanto la media como la desviación estándar de la distribución exponencia son iguales a $1/\\lambda$. En la siguiente figura aparecen varias gráficas de varias funciones de densidad de probabilidad exponenciales."
   ]
  },
  {
   "cell_type": "markdown",
   "metadata": {},
   "source": [
    "![image1](resources/imgs_cap4/img_cap4_07.png)\n",
    "\\begin{align*}\n",
    "    \\text{Curvas de densidad exponencial.}\n",
    "\\end{align*}"
   ]
  },
  {
   "cell_type": "markdown",
   "metadata": {},
   "source": [
    "La función de densidad de probabilidad exponencial es facil de integrar para obtener la funcion de densidad acumulativa."
   ]
  },
  {
   "cell_type": "markdown",
   "metadata": {},
   "source": [
    "\\begin{equation*}\n",
    "  f(x; \\lambda) =\n",
    "    \\begin{cases}\n",
    "      0 & x < 0 \\\\\n",
    "      1 - e^{-\\lambda x} & x \\ge 0\n",
    "    \\end{cases}       \n",
    "\\end{equation*}"
   ]
  },
  {
   "cell_type": "markdown",
   "metadata": {},
   "source": [
    "La distribución exponencial se utiliza con frecuencia como modelo de distribución de tiempos entre la ocurrencia de eventos sucesivos, tales como clientes que llegan a una instalación de servicio o llamadas que entran a un conmutador. La razón de esto es que la distribución exponencial esta estrechamente relacionada con el proceso de Poisson discutido en el capítulo 3.\n",
    "___"
   ]
  },
  {
   "cell_type": "markdown",
   "metadata": {},
   "source": [
    "**Proposición:** Suponga que el número de eventos que ocurren en cualquier intervalo de tiempo de duración $t$ tiene una distribución de Poisson con parámetro $\\alpha t$ (donde $\\alpha$, la tasa del proceso de eventos, es el número esperado de eventos que ocurren en 1 unidad de tiempo) y que los números de ocurrencias en intervalos no traslapantes son independientes uno de otro. Entonces la distribución del tiempo transcurrido entre la ocurrencia de dos eventos sucesivos es exponencial con parámetro $\\lambda = \\alpha$."
   ]
  },
  {
   "cell_type": "markdown",
   "metadata": {},
   "source": [
    "### La función gamma"
   ]
  },
  {
   "cell_type": "markdown",
   "metadata": {},
   "source": [
    "**Definición:** Con $\\alpha > 0$, la **función gamma** $\\Gamma(\\alpha)$ se define como"
   ]
  },
  {
   "cell_type": "markdown",
   "metadata": {},
   "source": [
    "\\begin{equation*}\n",
    "    \\Gamma(\\alpha) = \\int_{0}^{\\infty}x^{\\alpha - 1} e^{-x} dx\n",
    "\\end{equation*}"
   ]
  },
  {
   "cell_type": "markdown",
   "metadata": {},
   "source": [
    "#### Propiedades de la función gamma:"
   ]
  },
  {
   "cell_type": "markdown",
   "metadata": {},
   "source": [
    "1. Con cualquier $\\alpha > 1$, $\\Gamma(\\alpha) \\cdot \\Gamma(\\alpha - 1)$ [via integración por partes]\n",
    "2. Con cualquier entero positivo, $n$, $\\Gamma(n) = (n - 1)!$\n",
    "3. $\\Gamma(\\frac{1}{2}) = \\sqrt{\\pi}$"
   ]
  },
  {
   "cell_type": "markdown",
   "metadata": {},
   "source": [
    "De acuerdo con la expresión $\\Gamma(\\alpha) = \\int_{0}^{\\infty}x^{\\alpha - 1} e^{-x} dx$ de la definición, si"
   ]
  },
  {
   "cell_type": "markdown",
   "metadata": {},
   "source": [
    "\\begin{equation*}\n",
    "  f(x;\\ \\alpha) =\n",
    "    \\begin{cases}\n",
    "      \\frac{x^{\\alpha - 1} e^{-x}}{\\Gamma(\\alpha)} & x \\ge 0 \\\\\n",
    "      0 & \\text{de lo contrario}\n",
    "    \\end{cases}       \n",
    "\\end{equation*}"
   ]
  },
  {
   "cell_type": "markdown",
   "metadata": {},
   "source": [
    "entonces $f(x;\\alpha) \\ge 0$ y $\\int_{0}^{\\infty}f(x;\\alpha)dx = \\Gamma(\\alpha)/\\Gamma(\\alpha) = 1$, así que $f(x; \\alpha)$ satisface las dos propiedades básicas de una función de densidad de probabilidad."
   ]
  },
  {
   "cell_type": "markdown",
   "metadata": {},
   "source": [
    "### La distribución gamma"
   ]
  },
  {
   "cell_type": "markdown",
   "metadata": {},
   "source": [
    "**Definición:** Se dice que una variable aleatoria continua $X$ tiene una **distribución gamma** si la función de densidad de probabilidad de $X$ es"
   ]
  },
  {
   "cell_type": "markdown",
   "metadata": {},
   "source": [
    "\\begin{equation*}\n",
    "  f(x;\\ \\alpha,\\ \\beta) =\n",
    "    \\begin{cases}\n",
    "      \\frac{1}{\\beta^{\\alpha}\\Gamma(\\alpha)} x^{\\alpha - 1} e^{-x/\\beta} & x \\ge 0 \\\\\n",
    "      0 & \\text{de lo contrario}\n",
    "    \\end{cases}       \n",
    "\\end{equation*}"
   ]
  },
  {
   "cell_type": "markdown",
   "metadata": {},
   "source": [
    "donde los parámetros $\\alpha$ y $\\beta$ satisface $\\alpha > 0$, $\\beta > 0$. La **distribución gamma estándar** tiene $\\beta = 1$, así que"
   ]
  },
  {
   "cell_type": "markdown",
   "metadata": {},
   "source": [
    "\\begin{equation*}\n",
    "  f(x; \\alpha) =\n",
    "    \\begin{cases}\n",
    "      \\frac{x^{\\alpha - 1} e^{-x}}{\\Gamma(\\alpha)} & x \\ge 0 \\\\\n",
    "      0 & \\text{de lo contrario}\n",
    "    \\end{cases}       \n",
    "\\end{equation*}"
   ]
  },
  {
   "cell_type": "markdown",
   "metadata": {},
   "source": [
    "da la función de densidad de probabilidad de una variable aleatoria gamma estándar."
   ]
  },
  {
   "cell_type": "markdown",
   "metadata": {},
   "source": [
    "**Proposición:** Si $X$ tiene una distribución gamma con parámetros $\\alpha$ y $\\beta$, entonces con cualquier $x > 0$, la función de distribución acumulativa de $X$ es"
   ]
  },
  {
   "cell_type": "markdown",
   "metadata": {},
   "source": [
    "\\begin{equation*}\n",
    "    P(X \\le x) = F(x;\\ \\alpha,\\ \\beta) = F\\left(\\frac{x}{\\beta};\\ \\alpha\\right)\n",
    "\\end{equation*}"
   ]
  },
  {
   "cell_type": "markdown",
   "metadata": {},
   "source": [
    "donde $F(\\bullet;\\ \\alpha)$ es la función gamma incompleta."
   ]
  },
  {
   "cell_type": "markdown",
   "metadata": {},
   "source": [
    "### Distribución ji cuadrada"
   ]
  },
  {
   "cell_type": "markdown",
   "metadata": {},
   "source": [
    "La distribución ji cuadrada es importante porque es la base de varios procedimientos de inferencia estadística. El papel central desempeñado por la distribución ji cuadrada en inferencia se deriva de su relación con distribuciones normales. Se discutirá esta distribución con más detalle en capítulos posteriores."
   ]
  },
  {
   "cell_type": "markdown",
   "metadata": {},
   "source": [
    "**Definición:** Sea $v$ un entero positivo. Se dice entonces que una variable aleatoria $X$ tiene una **distribución ji cuadrada** con parametro $v$ si la función de densidad de probabilidad de $X$ es la densidad gamma con $\\alpha = v/2$ y $\\beta = 2$. La función de densidad de probabilidad de una variable aleatoria ji cuadrada es por lo tanto"
   ]
  },
  {
   "cell_type": "markdown",
   "metadata": {},
   "source": [
    "\\begin{equation*}\n",
    "  f(x;\\ v) =\n",
    "    \\begin{cases}\n",
    "      \\frac{1}{2^{v/2}\\Gamma(v/2)} x^{(v/2)-1} e^{-x/2} & x \\ge 0 \\\\\n",
    "      0 & \\text{de lo contrario}\n",
    "    \\end{cases}       \n",
    "\\end{equation*}"
   ]
  },
  {
   "cell_type": "markdown",
   "metadata": {},
   "source": [
    "El parámetro $v$ se llama **número de grados de libertad** (gl) de $X$. A menudo se utilizá el símbolo $\\chi^{2}$ en lugar de *ji cuadrada*."
   ]
  }
 ],
 "metadata": {
  "kernelspec": {
   "display_name": "Python 3 (ipykernel)",
   "language": "python",
   "name": "python3"
  },
  "language_info": {
   "codemirror_mode": {
    "name": "ipython",
    "version": 3
   },
   "file_extension": ".py",
   "mimetype": "text/x-python",
   "name": "python",
   "nbconvert_exporter": "python",
   "pygments_lexer": "ipython3",
   "version": "3.9.7"
  }
 },
 "nbformat": 4,
 "nbformat_minor": 2
}
